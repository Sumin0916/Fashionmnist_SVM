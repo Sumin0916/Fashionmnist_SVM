{
 "cells": [
  {
   "cell_type": "markdown",
   "metadata": {},
   "source": [
    "### Image Augmentation"
   ]
  },
  {
   "cell_type": "code",
   "execution_count": 4,
   "metadata": {},
   "outputs": [],
   "source": [
    "import pandas as pd\n",
    "import random\n",
    "import numpy as np\n",
    "from tensorflow.keras.preprocessing.image import ImageDataGenerator\n",
    "import sklearn\n",
    "import matplotlib.pyplot as plt"
   ]
  },
  {
   "cell_type": "code",
   "execution_count": 5,
   "metadata": {},
   "outputs": [],
   "source": [
    "train = pd.read_csv('../fashionmnist/fashion-mnist_train.csv')"
   ]
  },
  {
   "cell_type": "code",
   "execution_count": 6,
   "metadata": {},
   "outputs": [],
   "source": [
    "augmented_train = train.copy()\n",
    "X_train = augmented_train.drop(['label'],axis = 1)\n",
    "X_label = augmented_train['label']\n",
    "\n",
    "X_train = X_train.astype('float32')"
   ]
  },
  {
   "cell_type": "code",
   "execution_count": 7,
   "metadata": {},
   "outputs": [],
   "source": [
    "label_dict = {\n",
    "    \"T-shirt/top\":0,\n",
    "    \"Trouser\":1,\n",
    "    \"Pullover\":2,\n",
    "    \"Dress\":3,\n",
    "    \"Coat\":4,\n",
    "    \"Sandal\":5,\n",
    "    \"Shirt\":6,\n",
    "    \"Sneaker\":7,\n",
    "    \"Bag\":8,\n",
    "    \"Ankle_boot\":9\n",
    "}"
   ]
  },
  {
   "cell_type": "code",
   "execution_count": 8,
   "metadata": {},
   "outputs": [],
   "source": [
    "# 원하는 Label number 리스트로 담기\n",
    "is_target = [False for _ in range(10)]\n",
    "target_labels = [\"T-shirt/top\", \"Trouser\", \"Pullover\", \"Dress\", \"Coat\", \"Shirt\", \"Sneaker\", \"Ankle_boot\"] #증강할 옷 종류 담기\n",
    "for label in target_labels:\n",
    "    is_target[label_dict[label]] = True\n",
    "target_res = [[] for _ in range(10)]\n",
    "\n",
    "train_count = X_train.shape[0]\n",
    "for ind in range(train_count):\n",
    "    if is_target[X_label[ind]]:\n",
    "        target_res[X_label[ind]].append(ind)"
   ]
  },
  {
   "cell_type": "code",
   "execution_count": 21,
   "metadata": {},
   "outputs": [
    {
     "name": "stdout",
     "output_type": "stream",
     "text": [
      "7456\n"
     ]
    }
   ],
   "source": [
    "sample_ind = []\n",
    "with open(f\"결과약간통합.txt\", 'r') as file:\n",
    "    for ind in file.readlines():\n",
    "        sample_ind.append(int(ind))\n",
    "print(len(sample_ind))"
   ]
  },
  {
   "cell_type": "code",
   "execution_count": 10,
   "metadata": {},
   "outputs": [],
   "source": [
    "origin_train = X_train.values # pandas.DF -> numpy.ARRAY\n",
    "origin_train = origin_train.reshape(-1, 28, 28, 1) # 60000x28x28로 변환"
   ]
  },
  {
   "cell_type": "code",
   "execution_count": 11,
   "metadata": {},
   "outputs": [
    {
     "name": "stdout",
     "output_type": "stream",
     "text": [
      "Before data shape: (60000, 28, 28, 1)\n"
     ]
    }
   ],
   "source": [
    "augmented_train = train.copy()\n",
    "# plt.imshow(origin_train[59999], cmap='gray')\n",
    "# plt.axis('off')\n",
    "# plt.show()\n",
    "\n",
    "print(f\"Before data shape: {origin_train.shape}\")\n",
    "image_generator = ImageDataGenerator(\n",
    "            width_shift_range=0.01, # 세로 이동 범위\n",
    "            height_shift_range=0.05,# 가로 이동 범위\n",
    "            dtype=\"int64\",\n",
    "            fill_mode=\"constant\",\n",
    "            cval=0,\n",
    "            brightness_range=(0.3, 1.15)\n",
    "            )\n"
   ]
  },
  {
   "cell_type": "markdown",
   "metadata": {},
   "source": [
    "- 여기는 인덱스 직접 지정했을 때"
   ]
  },
  {
   "cell_type": "code",
   "execution_count": 25,
   "metadata": {},
   "outputs": [
    {
     "name": "stdout",
     "output_type": "stream",
     "text": [
      "7456\n",
      "Estimated Augmented shape: (104736, 785)\n",
      "After data shape: (111769, 785)\n"
     ]
    }
   ],
   "source": [
    "augment_size = 6 # 각 표본별 증강할 개수\n",
    "print(len(sample_ind))\n",
    "print(f\"Estimated Augmented shape: ({(len(sample_ind)*augment_size)}, 785)\")\n",
    "\n",
    "\n",
    "for ind in sample_ind:\n",
    "    labels = [X_label[ind] for _ in range(augment_size)]\n",
    "    images = np.array([origin_train[ind] for _ in range(augment_size)])\n",
    "    aug_imgs, aug_labels = image_generator.flow(images, labels, batch_size=augment_size, shuffle=False, seed=1127).next() #save_prefix='augmented', save_to_dir=\"./augment\", \n",
    "    aug_imgs = aug_imgs.reshape(augment_size, 784)\n",
    "    aug_imgs = np.insert(aug_imgs, 0, aug_labels, axis=1)\n",
    "    df_augmented = pd.DataFrame(aug_imgs, columns=augmented_train.columns)\n",
    "    augmented_train = pd.concat([augmented_train, df_augmented], ignore_index=True)\n",
    "\n",
    "augmented_train = augmented_train.fillna(0.0)\n",
    "print(f\"After data shape: {augmented_train.shape}\")\n",
    "augmented_train = sklearn.utils.shuffle(augmented_train)"
   ]
  },
  {
   "cell_type": "markdown",
   "metadata": {},
   "source": [
    "- 여기는 랜덤으로 샘플링 할 때"
   ]
  },
  {
   "cell_type": "code",
   "execution_count": 33,
   "metadata": {},
   "outputs": [
    {
     "name": "stdout",
     "output_type": "stream",
     "text": [
      "Before data shape: (60000, 28, 28, 1)\n",
      "Estimated Augmented shape: (124000, 785)\n",
      "After data shape: (124000, 785)\n"
     ]
    }
   ],
   "source": [
    "sample_size = 200 # 각 label마다 추출할 표본 개수\n",
    "augment_size = 40 # 각 표본별 증강할 개수\n",
    "\n",
    "print(f\"Estimated Augmented shape: ({(sample_size*len(target_labels)*augment_size) + origin_train.shape[0]}, 785)\")\n",
    "\n",
    "for label in target_labels:\n",
    "    abstract_class  = random.sample(target_res[label_dict[label]], sample_size) #옷을 종류별로 sample_size만큼 무작위 선택\n",
    "    labels = [label_dict[label] for _ in range(augment_size)]\n",
    "    for ind in abstract_class:\n",
    "        images = np.array([origin_train[ind] for _ in range(augment_size)])\n",
    "        aug_imgs, aug_labels = image_generator.flow(images, labels, batch_size=augment_size, shuffle=False, seed=1127).next() #save_prefix='augmented', save_to_dir=\"./augment\", \n",
    "        aug_imgs = aug_imgs.reshape(augment_size, 784)\n",
    "        aug_imgs = np.insert(aug_imgs, 0, aug_labels, axis=1)\n",
    "        df_augmented = pd.DataFrame(aug_imgs, columns=augmented_train.columns)\n",
    "        augmented_train = pd.concat([augmented_train, df_augmented], ignore_index=True)\n",
    "\n",
    "augmented_train = augmented_train.fillna(0.0)\n",
    "print(f\"After data shape: {augmented_train.shape}\")\n",
    "augmented_train = sklearn.utils.shuffle(augmented_train)"
   ]
  },
  {
   "cell_type": "code",
   "execution_count": 26,
   "metadata": {},
   "outputs": [],
   "source": [
    "augmented_train.to_csv('../Preprocessing/104736_only_sample.csv', index=False)"
   ]
  }
 ],
 "metadata": {
  "kernelspec": {
   "display_name": "Python 3",
   "language": "python",
   "name": "python3"
  },
  "language_info": {
   "codemirror_mode": {
    "name": "ipython",
    "version": 3
   },
   "file_extension": ".py",
   "mimetype": "text/x-python",
   "name": "python",
   "nbconvert_exporter": "python",
   "pygments_lexer": "ipython3",
   "version": "3.10.2"
  }
 },
 "nbformat": 4,
 "nbformat_minor": 2
}
