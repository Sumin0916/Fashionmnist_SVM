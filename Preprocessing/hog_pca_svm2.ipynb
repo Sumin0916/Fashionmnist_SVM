{
 "cells": [
  {
   "cell_type": "code",
   "execution_count": 73,
   "metadata": {
    "id": "99IcNqG63q2f"
   },
   "outputs": [],
   "source": [
    "from sklearn.metrics import confusion_matrix, accuracy_score, classification_report\n",
    "from skimage.feature import local_binary_pattern\n",
    "from sklearn.preprocessing import MinMaxScaler\n",
    "import matplotlib.pyplot as plt\n",
    "import seaborn as sns\n",
    "import plotly.graph_objects as go\n",
    "from sklearn.decomposition import PCA\n",
    "from sklearn.svm import SVC\n",
    "from sklearn.ensemble import RandomForestClassifier\n",
    "from sklearn import ensemble\n",
    "from skimage.io import imshow\n",
    "from xgboost import XGBClassifier\n",
    "import pickle\n",
    "from skimage.feature import hog\n",
    "import pandas as pd\n",
    "import cv2\n",
    "import numpy as np"
   ]
  },
  {
   "cell_type": "code",
   "execution_count": 2,
   "metadata": {
    "id": "emy5HT1T3q2h"
   },
   "outputs": [],
   "source": [
    "import warnings\n",
    "warnings.filterwarnings(action='ignore', category=UserWarning)"
   ]
  },
  {
   "cell_type": "code",
   "execution_count": 34,
   "metadata": {
    "colab": {
     "base_uri": "https://localhost:8080/"
    },
    "id": "XLy3i9aa3q2i",
    "outputId": "5028f112-f62a-450b-b3ac-1f48356b36cb"
   },
   "outputs": [],
   "source": [
    "train = pd.read_csv('135312_sample.csv')"
   ]
  },
  {
   "cell_type": "code",
   "execution_count": 35,
   "metadata": {},
   "outputs": [],
   "source": [
    "test = pd.read_csv('public_test_data.csv')"
   ]
  },
  {
   "cell_type": "code",
   "execution_count": 36,
   "metadata": {
    "colab": {
     "base_uri": "https://localhost:8080/"
    },
    "id": "KWjNSFKVe7lT",
    "outputId": "71860795-76b6-4eee-f6ef-2ff254872eb1"
   },
   "outputs": [
    {
     "name": "stdout",
     "output_type": "stream",
     "text": [
      "(135312, 785)\n",
      "(10000, 785)\n"
     ]
    }
   ],
   "source": [
    "print(train.shape)\n",
    "print(test.shape)"
   ]
  },
  {
   "cell_type": "code",
   "execution_count": 37,
   "metadata": {
    "id": "xy95owsr3q2i"
   },
   "outputs": [],
   "source": [
    "df_train = train.copy()\n",
    "df_test = test.copy()"
   ]
  },
  {
   "cell_type": "code",
   "execution_count": 88,
   "metadata": {
    "id": "yyYLogAI3q2i"
   },
   "outputs": [],
   "source": [
    "X_train= df_train.drop(['label'],axis = 1)\n",
    "y_train = df_train['label']\n",
    "X_test = df_test.drop(['label'],axis = 1)\n",
    "# y_test = df_test.drop(['label'],axis = 1)\n",
    "# y_label = df_test['label']\n",
    "\n",
    "X_train = X_train.astype('float32')\n",
    "X_test = X_test.astype('float32')"
   ]
  },
  {
   "cell_type": "code",
   "execution_count": 89,
   "metadata": {},
   "outputs": [],
   "source": [
    "# X_train과 X_label을 하나의 데이터 프레임으로 합침\n",
    "df_train = pd.concat([X_train, y_train], axis=1)\n",
    "\n",
    "# 데이터 프레임을 섞음\n",
    "df_train = df_train.sample(frac=1, random_state=43)\n",
    "\n",
    "# 섞인 데이터 프레임에서 훈련 데이터와 레이블을 다시 분리\n",
    "X_train = df_train.drop(['label'], axis=1)\n",
    "y_train = df_train['label']"
   ]
  },
  {
   "cell_type": "code",
   "execution_count": 90,
   "metadata": {},
   "outputs": [],
   "source": [
    "X_train = np.array(X_train)\n",
    "X_train = X_train.reshape(-1, 28, 28)\n",
    "X_test = np.array(X_test)\n",
    "X_test = X_test.reshape(-1, 28, 28)"
   ]
  },
  {
   "cell_type": "code",
   "execution_count": 91,
   "metadata": {},
   "outputs": [
    {
     "name": "stdout",
     "output_type": "stream",
     "text": [
      "(135312, 28, 28)\n",
      "(10000, 28, 28)\n"
     ]
    }
   ],
   "source": [
    "print(X_train.shape)\n",
    "print(X_test.shape)"
   ]
  },
  {
   "cell_type": "code",
   "execution_count": 101,
   "metadata": {},
   "outputs": [],
   "source": [
    "def apply_LBP(image, P, R):\n",
    "    return  local_binary_pattern(image, P, R, method=\"default\") #\n",
    "X_train_LBP = np.array([apply_LBP(image, P=8, R=1) for image in X_train])\n",
    "X_test_LBP = np.array([apply_LBP(image, P=8, R=1) for image in X_test])"
   ]
  },
  {
   "cell_type": "code",
   "execution_count": 109,
   "metadata": {},
   "outputs": [],
   "source": [
    "X_train_LBP = X_train_LBP.reshape(X_train_LBP.shape[0], 784)\n",
    "X_test_LBP = X_test_LBP.reshape(X_test_LBP.shape[0], 784)"
   ]
  },
  {
   "cell_type": "code",
   "execution_count": 110,
   "metadata": {},
   "outputs": [],
   "source": [
    "X_train_LBP /= 255\n",
    "X_test_LBP /= 255"
   ]
  },
  {
   "cell_type": "markdown",
   "metadata": {},
   "source": [
    "- LBP 결과 확인"
   ]
  },
  {
   "cell_type": "code",
   "execution_count": 111,
   "metadata": {},
   "outputs": [
    {
     "name": "stdout",
     "output_type": "stream",
     "text": [
      "[3.92156863e-03 3.92156863e-03 3.92156863e-03 3.92156863e-03\n",
      " 3.92156863e-03 3.92156863e-03 3.92156863e-03 3.92156863e-03\n",
      " 3.92156863e-03 3.92156863e-03 3.92156863e-03 3.92156863e-03\n",
      " 3.92156863e-03 3.92156863e-03 3.92156863e-03 3.92156863e-03\n",
      " 3.92156863e-03 3.92156863e-03 3.92156863e-03 3.92156863e-03\n",
      " 3.92156863e-03 3.92156863e-03 3.92156863e-03 3.92156863e-03\n",
      " 3.92156863e-03 3.92156863e-03 3.92156863e-03 3.92156863e-03\n",
      " 3.92156863e-03 3.92156863e-03 3.92156863e-03 3.92156863e-03\n",
      " 3.92156863e-03 3.92156863e-03 3.92156863e-03 3.92156863e-03\n",
      " 3.92156863e-03 3.92156863e-03 3.92156863e-03 3.92156863e-03\n",
      " 3.92156863e-03 3.92156863e-03 3.92156863e-03 3.92156863e-03\n",
      " 3.92156863e-03 3.92156863e-03 3.92156863e-03 3.92156863e-03\n",
      " 3.92156863e-03 3.92156863e-03 3.92156863e-03 3.92156863e-03\n",
      " 3.92156863e-03 3.92156863e-03 3.92156863e-03 3.92156863e-03\n",
      " 3.92156863e-03 3.92156863e-03 3.92156863e-03 3.92156863e-03\n",
      " 3.92156863e-03 3.92156863e-03 3.92156863e-03 3.92156863e-03\n",
      " 3.92156863e-03 3.92156863e-03 3.92156863e-03 3.92156863e-03\n",
      " 3.92156863e-03 3.92156863e-03 3.92156863e-03 3.92156863e-03\n",
      " 3.92156863e-03 3.92156863e-03 3.92156863e-03 3.92156863e-03\n",
      " 3.92156863e-03 3.92156863e-03 3.92156863e-03 3.92156863e-03\n",
      " 3.92156863e-03 3.92156863e-03 3.92156863e-03 3.92156863e-03\n",
      " 3.92156863e-03 3.92156863e-03 3.92156863e-03 3.92156863e-03\n",
      " 3.92156863e-03 3.92156863e-03 3.92156863e-03 3.92156863e-03\n",
      " 3.92156863e-03 3.92156863e-03 3.92156863e-03 3.92156863e-03\n",
      " 3.92156863e-03 3.92156863e-03 3.92156863e-03 3.92156863e-03\n",
      " 3.92156863e-03 3.92156863e-03 3.92156863e-03 3.92156863e-03\n",
      " 3.92156863e-03 3.92156863e-03 3.92156863e-03 3.92156863e-03\n",
      " 3.92156863e-03 3.92156863e-03 3.92156863e-03 3.92156863e-03\n",
      " 3.92156863e-03 3.92156863e-03 3.92156863e-03 3.92156863e-03\n",
      " 3.92156863e-03 3.92156863e-03 3.92156863e-03 3.92156863e-03\n",
      " 3.92156863e-03 3.92156863e-03 3.92156863e-03 3.92156863e-03\n",
      " 3.92156863e-03 3.92156863e-03 3.92156863e-03 3.92156863e-03\n",
      " 3.92156863e-03 3.92156863e-03 3.92156863e-03 3.92156863e-03\n",
      " 3.92156863e-03 3.92156863e-03 3.92156863e-03 3.92156863e-03\n",
      " 3.92156863e-03 3.92156863e-03 3.92156863e-03 3.92156863e-03\n",
      " 3.92156863e-03 3.92156863e-03 3.92156863e-03 3.92156863e-03\n",
      " 3.92156863e-03 3.92156863e-03 3.92156863e-03 3.92156863e-03\n",
      " 3.92156863e-03 3.92156863e-03 3.92156863e-03 3.92156863e-03\n",
      " 3.92156863e-03 3.92156863e-03 3.92156863e-03 3.92156863e-03\n",
      " 3.92156863e-03 3.92156863e-03 3.92156863e-03 3.92156863e-03\n",
      " 3.92156863e-03 3.92156863e-03 3.92156863e-03 3.92156863e-03\n",
      " 3.92156863e-03 3.92156863e-03 3.92156863e-03 3.92156863e-03\n",
      " 3.92156863e-03 3.92156863e-03 3.92156863e-03 3.92156863e-03\n",
      " 3.92156863e-03 3.92156863e-03 3.92156863e-03 3.92156863e-03\n",
      " 3.92156863e-03 3.92156863e-03 3.92156863e-03 3.92156863e-03\n",
      " 3.92156863e-03 3.92156863e-03 3.92156863e-03 3.92156863e-03\n",
      " 3.92156863e-03 3.92156863e-03 3.92156863e-03 3.92156863e-03\n",
      " 3.92156863e-03 3.92156863e-03 3.92156863e-03 3.92156863e-03\n",
      " 3.92156863e-03 3.92156863e-03 3.92156863e-03 3.92156863e-03\n",
      " 3.92156863e-03 3.92156863e-03 3.92156863e-03 3.92156863e-03\n",
      " 3.92156863e-03 3.92156863e-03 3.92156863e-03 3.92156863e-03\n",
      " 3.92156863e-03 3.92156863e-03 3.92156863e-03 3.92156863e-03\n",
      " 3.92156863e-03 3.92156863e-03 3.92156863e-03 3.92156863e-03\n",
      " 3.92156863e-03 3.92156863e-03 3.92156863e-03 3.92156863e-03\n",
      " 3.92156863e-03 3.92156863e-03 3.92156863e-03 3.92156863e-03\n",
      " 3.92156863e-03 3.92156863e-03 3.92156863e-03 3.92156863e-03\n",
      " 3.92156863e-03 3.92156863e-03 3.92156863e-03 3.92156863e-03\n",
      " 3.92156863e-03 3.92156863e-03 3.92156863e-03 3.92156863e-03\n",
      " 3.92156863e-03 3.92156863e-03 3.92156863e-03 3.92156863e-03\n",
      " 3.92156863e-03 3.92156863e-03 3.92156863e-03 3.92156863e-03\n",
      " 3.92156863e-03 3.92156863e-03 3.92156863e-03 3.92156863e-03\n",
      " 3.92156863e-03 3.92156863e-03 3.92156863e-03 3.92156863e-03\n",
      " 3.92156863e-03 3.92156863e-03 3.92156863e-03 3.92156863e-03\n",
      " 3.92156863e-03 3.92156863e-03 3.92156863e-03 3.92156863e-03\n",
      " 3.92156863e-03 3.92156863e-03 3.92156863e-03 3.92156863e-03\n",
      " 3.92156863e-03 3.92156863e-03 3.92156863e-03 3.92156863e-03\n",
      " 3.92156863e-03 3.92156863e-03 3.92156863e-03 3.92156863e-03\n",
      " 3.92156863e-03 3.92156863e-03 3.92156863e-03 3.92156863e-03\n",
      " 3.92156863e-03 3.92156863e-03 3.92156863e-03 3.92156863e-03\n",
      " 3.92156863e-03 3.92156863e-03 3.92156863e-03 3.92156863e-03\n",
      " 3.92156863e-03 3.92156863e-03 3.92156863e-03 3.92156863e-03\n",
      " 3.92156863e-03 3.92156863e-03 3.92156863e-03 3.92156863e-03\n",
      " 3.92156863e-03 0.00000000e+00 3.92156863e-03 3.92156863e-03\n",
      " 3.92156863e-03 3.92156863e-03 3.46020761e-03 2.95271050e-03\n",
      " 3.69088812e-03 3.92156863e-03 3.92156863e-03 3.92156863e-03\n",
      " 3.92156863e-03 3.92156863e-03 3.92156863e-03 3.92156863e-03\n",
      " 3.92156863e-03 3.92156863e-03 3.92156863e-03 3.92156863e-03\n",
      " 3.92156863e-03 3.92156863e-03 3.92156863e-03 3.92156863e-03\n",
      " 9.99615532e-04 0.00000000e+00 2.21453287e-03 3.92156863e-03\n",
      " 3.92156863e-03 3.92156863e-03 3.92156863e-03 3.49096501e-03\n",
      " 3.46020761e-03 5.07497116e-04 1.96847366e-03 3.70626682e-03\n",
      " 0.00000000e+00 2.46059208e-04 3.69088812e-03 3.69088812e-03\n",
      " 3.70626682e-03 3.46020761e-03 3.46020761e-03 3.46020761e-03\n",
      " 5.07497116e-04 0.00000000e+00 2.46059208e-04 3.92156863e-03\n",
      " 3.92156863e-03 0.00000000e+00 3.92156863e-03 3.92156863e-03\n",
      " 9.22722030e-05 3.92156863e-03 3.92156863e-03 3.46020761e-03\n",
      " 3.46020761e-03 1.53787005e-05 1.53787005e-05 1.53787005e-05\n",
      " 0.00000000e+00 3.92156863e-03 3.67550942e-03 0.00000000e+00\n",
      " 3.92156863e-03 7.68935025e-05 0.00000000e+00 2.72202999e-03\n",
      " 0.00000000e+00 2.61437908e-04 0.00000000e+00 2.46059208e-04\n",
      " 4.61361015e-04 4.61361015e-04 4.30603614e-04 8.61207228e-04\n",
      " 3.92156863e-03 3.92156863e-03 3.92156863e-03 1.47635525e-03\n",
      " 3.92156863e-03 3.92156863e-03 1.47635525e-03 7.38177624e-04\n",
      " 2.46059208e-04 4.76739715e-04 2.30680507e-04 2.30680507e-04\n",
      " 2.04536717e-03 2.95271050e-03 3.73702422e-03 3.62937332e-03\n",
      " 3.86005383e-03 3.55247982e-03 3.62937332e-03 3.92156863e-03\n",
      " 1.69165705e-03 4.30603614e-04 3.92156863e-03 3.92156863e-03\n",
      " 3.92156863e-03 3.92156863e-03 3.92156863e-03 3.92156863e-03\n",
      " 1.53787005e-05 0.00000000e+00 2.92195309e-04 0.00000000e+00\n",
      " 3.92156863e-03 2.96808920e-03 0.00000000e+00 3.92156863e-03\n",
      " 3.92156863e-03 3.92156863e-03 3.92156863e-03 3.92156863e-03\n",
      " 2.19915417e-03 0.00000000e+00 2.46059208e-04 2.61437908e-04\n",
      " 0.00000000e+00 1.73779316e-03 2.22991157e-03 9.99615532e-04\n",
      " 7.38177624e-04 3.92156863e-03 3.92156863e-03 3.92156863e-03\n",
      " 3.92156863e-03 3.92156863e-03 3.92156863e-03 3.92156863e-03\n",
      " 3.92156863e-03 3.92156863e-03 3.92156863e-03 3.92156863e-03\n",
      " 3.92156863e-03 0.00000000e+00 9.22722030e-04 3.92156863e-03\n",
      " 3.92156863e-03 3.92156863e-03 3.92156863e-03 3.92156863e-03\n",
      " 3.92156863e-03 3.92156863e-03 3.92156863e-03 3.67550942e-03\n",
      " 3.67550942e-03 3.62937332e-03 3.92156863e-03 0.00000000e+00\n",
      " 3.87543253e-03 3.92156863e-03 3.92156863e-03 3.92156863e-03\n",
      " 3.92156863e-03 3.92156863e-03 3.92156863e-03 3.92156863e-03\n",
      " 1.98385236e-03 2.95271050e-03 3.69088812e-03 3.69088812e-03\n",
      " 3.73702422e-03 6.15148020e-05 3.87543253e-03 3.82929642e-03\n",
      " 3.46020761e-03 3.46020761e-03 3.46020761e-03 3.46020761e-03\n",
      " 3.46020761e-03 3.46020761e-03 1.53787005e-05 0.00000000e+00\n",
      " 2.46059208e-04 2.46059208e-04 2.92195309e-04 7.68935025e-05\n",
      " 0.00000000e+00 2.46059208e-04 3.21414840e-03 3.46020761e-03\n",
      " 1.53787005e-05 1.53787005e-05 0.00000000e+00 2.46059208e-04\n",
      " 1.07650903e-04 0.00000000e+00 2.61437908e-04 1.53787005e-05\n",
      " 0.00000000e+00 3.22952710e-04 2.61437908e-04 1.53787005e-05\n",
      " 0.00000000e+00 2.46059208e-04 2.61437908e-04 0.00000000e+00\n",
      " 2.46059208e-04 2.76816609e-04 4.61361015e-04 4.61361015e-04\n",
      " 4.61361015e-04 4.76739715e-04 2.15301807e-04 4.61361015e-04\n",
      " 4.76739715e-04 2.30680507e-04 0.00000000e+00 2.46059208e-04\n",
      " 3.38331411e-04 4.61361015e-04 4.61361015e-04 4.30603614e-04\n",
      " 3.92156863e-03 3.92156863e-03 3.92156863e-03 3.92156863e-03\n",
      " 3.92156863e-03 3.92156863e-03 3.92156863e-03 3.92156863e-03\n",
      " 3.92156863e-03 3.92156863e-03 3.92156863e-03 3.92156863e-03\n",
      " 3.92156863e-03 3.92156863e-03 3.92156863e-03 3.92156863e-03\n",
      " 3.92156863e-03 3.92156863e-03 3.92156863e-03 3.92156863e-03\n",
      " 3.92156863e-03 3.92156863e-03 3.92156863e-03 3.92156863e-03\n",
      " 3.92156863e-03 3.92156863e-03 3.92156863e-03 3.92156863e-03\n",
      " 3.92156863e-03 3.92156863e-03 3.92156863e-03 3.92156863e-03\n",
      " 3.92156863e-03 3.92156863e-03 3.92156863e-03 3.92156863e-03\n",
      " 3.92156863e-03 3.92156863e-03 3.92156863e-03 3.92156863e-03\n",
      " 3.92156863e-03 3.92156863e-03 3.92156863e-03 3.92156863e-03\n",
      " 3.92156863e-03 3.92156863e-03 3.92156863e-03 3.92156863e-03\n",
      " 3.92156863e-03 3.92156863e-03 3.92156863e-03 3.92156863e-03\n",
      " 3.92156863e-03 3.92156863e-03 3.92156863e-03 3.92156863e-03\n",
      " 3.92156863e-03 3.92156863e-03 3.92156863e-03 3.92156863e-03\n",
      " 3.92156863e-03 3.92156863e-03 3.92156863e-03 3.92156863e-03\n",
      " 3.92156863e-03 3.92156863e-03 3.92156863e-03 3.92156863e-03\n",
      " 3.92156863e-03 3.92156863e-03 3.92156863e-03 3.92156863e-03\n",
      " 3.92156863e-03 3.92156863e-03 3.92156863e-03 3.92156863e-03\n",
      " 3.92156863e-03 3.92156863e-03 3.92156863e-03 3.92156863e-03\n",
      " 3.92156863e-03 3.92156863e-03 3.92156863e-03 3.92156863e-03\n",
      " 3.92156863e-03 3.92156863e-03 3.92156863e-03 3.92156863e-03\n",
      " 3.92156863e-03 3.92156863e-03 3.92156863e-03 3.92156863e-03\n",
      " 3.92156863e-03 3.92156863e-03 3.92156863e-03 3.92156863e-03\n",
      " 3.92156863e-03 3.92156863e-03 3.92156863e-03 3.92156863e-03\n",
      " 3.92156863e-03 3.92156863e-03 3.92156863e-03 3.92156863e-03\n",
      " 3.92156863e-03 3.92156863e-03 3.92156863e-03 3.92156863e-03\n",
      " 3.92156863e-03 3.92156863e-03 3.92156863e-03 3.92156863e-03\n",
      " 3.92156863e-03 3.92156863e-03 3.92156863e-03 3.92156863e-03\n",
      " 3.92156863e-03 3.92156863e-03 3.92156863e-03 3.92156863e-03\n",
      " 3.92156863e-03 3.92156863e-03 3.92156863e-03 3.92156863e-03\n",
      " 3.92156863e-03 3.92156863e-03 3.92156863e-03 3.92156863e-03\n",
      " 3.92156863e-03 3.92156863e-03 3.92156863e-03 3.92156863e-03\n",
      " 3.92156863e-03 3.92156863e-03 3.92156863e-03 3.92156863e-03\n",
      " 3.92156863e-03 3.92156863e-03 3.92156863e-03 3.92156863e-03\n",
      " 3.92156863e-03 3.92156863e-03 3.92156863e-03 3.92156863e-03\n",
      " 3.92156863e-03 3.92156863e-03 3.92156863e-03 3.92156863e-03\n",
      " 3.92156863e-03 3.92156863e-03 3.92156863e-03 3.92156863e-03\n",
      " 3.92156863e-03 3.92156863e-03 3.92156863e-03 3.92156863e-03\n",
      " 3.92156863e-03 3.92156863e-03 3.92156863e-03 3.92156863e-03\n",
      " 3.92156863e-03 3.92156863e-03 3.92156863e-03 3.92156863e-03\n",
      " 3.92156863e-03 3.92156863e-03 3.92156863e-03 3.92156863e-03\n",
      " 3.92156863e-03 3.92156863e-03 3.92156863e-03 3.92156863e-03\n",
      " 3.92156863e-03 3.92156863e-03 3.92156863e-03 3.92156863e-03\n",
      " 3.92156863e-03 3.92156863e-03 3.92156863e-03 3.92156863e-03\n",
      " 3.92156863e-03 3.92156863e-03 3.92156863e-03 3.92156863e-03\n",
      " 3.92156863e-03 3.92156863e-03 3.92156863e-03 3.92156863e-03\n",
      " 3.92156863e-03 3.92156863e-03 3.92156863e-03 3.92156863e-03\n",
      " 3.92156863e-03 3.92156863e-03 3.92156863e-03 3.92156863e-03\n",
      " 3.92156863e-03 3.92156863e-03 3.92156863e-03 3.92156863e-03\n",
      " 3.92156863e-03 3.92156863e-03 3.92156863e-03 3.92156863e-03\n",
      " 3.92156863e-03 3.92156863e-03 3.92156863e-03 3.92156863e-03\n",
      " 3.92156863e-03 3.92156863e-03 3.92156863e-03 3.92156863e-03\n",
      " 3.92156863e-03 3.92156863e-03 3.92156863e-03 3.92156863e-03\n",
      " 3.92156863e-03 3.92156863e-03 3.92156863e-03 3.92156863e-03\n",
      " 3.92156863e-03 3.92156863e-03 3.92156863e-03 3.92156863e-03\n",
      " 3.92156863e-03 3.92156863e-03 3.92156863e-03 3.92156863e-03\n",
      " 3.92156863e-03 3.92156863e-03 3.92156863e-03 3.92156863e-03\n",
      " 3.92156863e-03 3.92156863e-03 3.92156863e-03 3.92156863e-03\n",
      " 3.92156863e-03 3.92156863e-03 3.92156863e-03 3.92156863e-03\n",
      " 3.92156863e-03 3.92156863e-03 3.92156863e-03 3.92156863e-03\n",
      " 3.92156863e-03 3.92156863e-03 3.92156863e-03 3.92156863e-03\n",
      " 3.92156863e-03 3.92156863e-03 3.92156863e-03 3.92156863e-03\n",
      " 3.92156863e-03 3.92156863e-03 3.92156863e-03 3.92156863e-03\n",
      " 3.92156863e-03 3.92156863e-03 3.92156863e-03 3.92156863e-03\n",
      " 3.92156863e-03 3.92156863e-03 3.92156863e-03 3.92156863e-03\n",
      " 3.92156863e-03 3.92156863e-03 3.92156863e-03 3.92156863e-03\n",
      " 3.92156863e-03 3.92156863e-03 3.92156863e-03 3.92156863e-03\n",
      " 3.92156863e-03 3.92156863e-03 3.92156863e-03 3.92156863e-03\n",
      " 3.92156863e-03 3.92156863e-03 3.92156863e-03 3.92156863e-03]\n"
     ]
    }
   ],
   "source": [
    "print(X_train_LBP[3454])"
   ]
  },
  {
   "cell_type": "code",
   "execution_count": 114,
   "metadata": {},
   "outputs": [
    {
     "data": {
      "image/png": "[encoded data removed]",
      "text/plain": [
       "<Figure size 800x400 with 2 Axes>"
      ]
     },
     "metadata": {},
     "output_type": "display_data"
    }
   ],
   "source": [
    "fig, (ax1, ax2) = plt.subplots(1, 2, figsize=(8, 4), sharex=True, sharey=True)\n",
    "\n",
    "ax1.axis('off')\n",
    "ax1.imshow(X_train[3454].reshape(28,28, 1), cmap=plt.cm.gray)\n",
    "ax1.set_title('Before image')\n",
    "\n",
    "\n",
    "ax2.axis('off')\n",
    "ax2.imshow(X_train_LBP[3454].reshape(28,28, 1), cmap=plt.cm.gray)\n",
    "ax2.set_title('apply_LBP image')\n",
    "plt.show()"
   ]
  },
  {
   "cell_type": "code",
   "execution_count": 14,
   "metadata": {
    "id": "fVfeVhm5PI7y"
   },
   "outputs": [],
   "source": [
    "def apply_hog(images):\n",
    "    result = []\n",
    "    for image in images:\n",
    "        hog_features = hog(image, orientations=6, pixels_per_cell=(3, 3),\n",
    "                              cells_per_block=(2, 2), block_norm='L2')\n",
    "        result.append(hog_features)\n",
    "    return result"
   ]
  },
  {
   "cell_type": "code",
   "execution_count": 15,
   "metadata": {
    "id": "3iqziXcrPL4Y"
   },
   "outputs": [],
   "source": [
    "X_train_hog = apply_hog(X_train)\n",
    "X_test_hog = apply_hog(X_test)"
   ]
  },
  {
   "cell_type": "code",
   "execution_count": 16,
   "metadata": {
    "colab": {
     "base_uri": "https://localhost:8080/"
    },
    "id": "AE7ds0A4Vlko",
    "outputId": "8f63bd56-edd8-4f8f-d4cc-ba891339efc0"
   },
   "outputs": [
    {
     "name": "stdout",
     "output_type": "stream",
     "text": [
      "HOG 특성을 적용한 X_train의 형태:  (135312, 1536)\n",
      "HOG 특성을 적용한 X_test의 형태:  (10000, 1536)\n"
     ]
    }
   ],
   "source": [
    "print(\"HOG 특성을 적용한 X_train의 형태: \", np.array(X_train_hog).shape)\n",
    "print(\"HOG 특성을 적용한 X_test의 형태: \", np.array(X_test_hog).shape)"
   ]
  },
  {
   "cell_type": "markdown",
   "metadata": {},
   "source": [
    "- 이미지 1개 HOG 특성 추출 해보기"
   ]
  },
  {
   "cell_type": "code",
   "execution_count": 95,
   "metadata": {
    "colab": {
     "base_uri": "https://localhost:8080/",
     "height": 377
    },
    "id": "0w0PlJwpVv8n",
    "outputId": "5ff4e1e7-3864-4341-b3f6-a8826e0b05cb"
   },
   "outputs": [
    {
     "name": "stdout",
     "output_type": "stream",
     "text": [
      "1536\n"
     ]
    },
    {
     "data": {
      "image/png": "[encoded data removed]",
      "text/plain": [
       "<Figure size 800x400 with 2 Axes>"
      ]
     },
     "metadata": {},
     "output_type": "display_data"
    }
   ],
   "source": [
    "# 첫 번째 이미지의 HOG 특성 계산 및 시각화\n",
    "image = X_train[21].reshape((28, 28))\n",
    "hog_features, hog_image = hog(image, orientations=6, pixels_per_cell=(3, 3),\n",
    "                              cells_per_block=(2, 2), visualize=True, block_norm='L2')\n",
    "print(hog_features.shape[0])\n",
    "# 원본 이미지와 HOG 특성 이미지를 출력\n",
    "fig, (ax1, ax2) = plt.subplots(1, 2, figsize=(8, 4), sharex=True, sharey=True)\n",
    "\n",
    "ax1.axis('off')\n",
    "ax1.imshow(image, cmap=plt.cm.gray)\n",
    "ax1.set_title('Input image')\n",
    "\n",
    "\n",
    "ax2.axis('off')\n",
    "ax2.imshow(hog_image, cmap=plt.cm.gray)\n",
    "ax2.set_title('Histogram of Oriented Gradients')\n",
    "plt.show()"
   ]
  },
  {
   "cell_type": "markdown",
   "metadata": {
    "id": "UjPSuUvoyAzc"
   },
   "source": []
  },
  {
   "cell_type": "code",
   "execution_count": 115,
   "metadata": {
    "id": "UBqdMEFvpFEj"
   },
   "outputs": [
    {
     "ename": "ValueError",
     "evalue": "X has 784 features, but PCA is expecting 1536 features as input.",
     "output_type": "error",
     "traceback": [
      "\u001b[1;31m---------------------------------------------------------------------------\u001b[0m",
      "\u001b[1;31mValueError\u001b[0m                                Traceback (most recent call last)",
      "\u001b[1;32mc:\\Users\\gsmin2020\\Desktop\\Fashionmnist_SVM\\Preprocessing\\hog_pca_svm2.ipynb Cell 23\u001b[0m line \u001b[0;36m3\n\u001b[0;32m      <a href='vscode-notebook-cell:/c%3A/Users/gsmin2020/Desktop/Fashionmnist_SVM/Preprocessing/hog_pca_svm2.ipynb#X30sZmlsZQ%3D%3D?line=0'>1</a>\u001b[0m pca \u001b[39m=\u001b[39m PCA(n_components\u001b[39m=\u001b[39m\u001b[39m466\u001b[39m,random_state\u001b[39m=\u001b[39m\u001b[39m45\u001b[39m)\n\u001b[0;32m      <a href='vscode-notebook-cell:/c%3A/Users/gsmin2020/Desktop/Fashionmnist_SVM/Preprocessing/hog_pca_svm2.ipynb#X30sZmlsZQ%3D%3D?line=1'>2</a>\u001b[0m pca\u001b[39m.\u001b[39mfit(X_train_hog)\n\u001b[1;32m----> <a href='vscode-notebook-cell:/c%3A/Users/gsmin2020/Desktop/Fashionmnist_SVM/Preprocessing/hog_pca_svm2.ipynb#X30sZmlsZQ%3D%3D?line=2'>3</a>\u001b[0m X_train_pca \u001b[39m=\u001b[39m pca\u001b[39m.\u001b[39;49mtransform(X_train_LBP)\n\u001b[0;32m      <a href='vscode-notebook-cell:/c%3A/Users/gsmin2020/Desktop/Fashionmnist_SVM/Preprocessing/hog_pca_svm2.ipynb#X30sZmlsZQ%3D%3D?line=3'>4</a>\u001b[0m X_test_pca \u001b[39m=\u001b[39m pca\u001b[39m.\u001b[39mtransform(X_test_LBP)\n\u001b[0;32m      <a href='vscode-notebook-cell:/c%3A/Users/gsmin2020/Desktop/Fashionmnist_SVM/Preprocessing/hog_pca_svm2.ipynb#X30sZmlsZQ%3D%3D?line=4'>5</a>\u001b[0m X_train_PCA1 \u001b[39m=\u001b[39m pd\u001b[39m.\u001b[39mDataFrame(X_train_pca)\n",
      "File \u001b[1;32mc:\\Users\\gsmin2020\\AppData\\Local\\Programs\\Python\\Python310\\lib\\site-packages\\sklearn\\utils\\_set_output.py:157\u001b[0m, in \u001b[0;36m_wrap_method_output.<locals>.wrapped\u001b[1;34m(self, X, *args, **kwargs)\u001b[0m\n\u001b[0;32m    155\u001b[0m \u001b[39m@wraps\u001b[39m(f)\n\u001b[0;32m    156\u001b[0m \u001b[39mdef\u001b[39;00m \u001b[39mwrapped\u001b[39m(\u001b[39mself\u001b[39m, X, \u001b[39m*\u001b[39margs, \u001b[39m*\u001b[39m\u001b[39m*\u001b[39mkwargs):\n\u001b[1;32m--> 157\u001b[0m     data_to_wrap \u001b[39m=\u001b[39m f(\u001b[39mself\u001b[39m, X, \u001b[39m*\u001b[39margs, \u001b[39m*\u001b[39m\u001b[39m*\u001b[39mkwargs)\n\u001b[0;32m    158\u001b[0m     \u001b[39mif\u001b[39;00m \u001b[39misinstance\u001b[39m(data_to_wrap, \u001b[39mtuple\u001b[39m):\n\u001b[0;32m    159\u001b[0m         \u001b[39m# only wrap the first output for cross decomposition\u001b[39;00m\n\u001b[0;32m    160\u001b[0m         return_tuple \u001b[39m=\u001b[39m (\n\u001b[0;32m    161\u001b[0m             _wrap_data_with_container(method, data_to_wrap[\u001b[39m0\u001b[39m], X, \u001b[39mself\u001b[39m),\n\u001b[0;32m    162\u001b[0m             \u001b[39m*\u001b[39mdata_to_wrap[\u001b[39m1\u001b[39m:],\n\u001b[0;32m    163\u001b[0m         )\n",
      "File \u001b[1;32mc:\\Users\\gsmin2020\\AppData\\Local\\Programs\\Python\\Python310\\lib\\site-packages\\sklearn\\decomposition\\_base.py:121\u001b[0m, in \u001b[0;36m_BasePCA.transform\u001b[1;34m(self, X)\u001b[0m\n\u001b[0;32m    102\u001b[0m \u001b[39m\u001b[39m\u001b[39m\"\"\"Apply dimensionality reduction to X.\u001b[39;00m\n\u001b[0;32m    103\u001b[0m \n\u001b[0;32m    104\u001b[0m \u001b[39mX is projected on the first principal components previously extracted\u001b[39;00m\n\u001b[1;32m   (...)\u001b[0m\n\u001b[0;32m    117\u001b[0m \u001b[39m    is the number of samples and `n_components` is the number of the components.\u001b[39;00m\n\u001b[0;32m    118\u001b[0m \u001b[39m\"\"\"\u001b[39;00m\n\u001b[0;32m    119\u001b[0m check_is_fitted(\u001b[39mself\u001b[39m)\n\u001b[1;32m--> 121\u001b[0m X \u001b[39m=\u001b[39m \u001b[39mself\u001b[39;49m\u001b[39m.\u001b[39;49m_validate_data(X, dtype\u001b[39m=\u001b[39;49m[np\u001b[39m.\u001b[39;49mfloat64, np\u001b[39m.\u001b[39;49mfloat32], reset\u001b[39m=\u001b[39;49m\u001b[39mFalse\u001b[39;49;00m)\n\u001b[0;32m    122\u001b[0m \u001b[39mif\u001b[39;00m \u001b[39mself\u001b[39m\u001b[39m.\u001b[39mmean_ \u001b[39mis\u001b[39;00m \u001b[39mnot\u001b[39;00m \u001b[39mNone\u001b[39;00m:\n\u001b[0;32m    123\u001b[0m     X \u001b[39m=\u001b[39m X \u001b[39m-\u001b[39m \u001b[39mself\u001b[39m\u001b[39m.\u001b[39mmean_\n",
      "File \u001b[1;32mc:\\Users\\gsmin2020\\AppData\\Local\\Programs\\Python\\Python310\\lib\\site-packages\\sklearn\\base.py:626\u001b[0m, in \u001b[0;36mBaseEstimator._validate_data\u001b[1;34m(self, X, y, reset, validate_separately, cast_to_ndarray, **check_params)\u001b[0m\n\u001b[0;32m    623\u001b[0m     out \u001b[39m=\u001b[39m X, y\n\u001b[0;32m    625\u001b[0m \u001b[39mif\u001b[39;00m \u001b[39mnot\u001b[39;00m no_val_X \u001b[39mand\u001b[39;00m check_params\u001b[39m.\u001b[39mget(\u001b[39m\"\u001b[39m\u001b[39mensure_2d\u001b[39m\u001b[39m\"\u001b[39m, \u001b[39mTrue\u001b[39;00m):\n\u001b[1;32m--> 626\u001b[0m     \u001b[39mself\u001b[39;49m\u001b[39m.\u001b[39;49m_check_n_features(X, reset\u001b[39m=\u001b[39;49mreset)\n\u001b[0;32m    628\u001b[0m \u001b[39mreturn\u001b[39;00m out\n",
      "File \u001b[1;32mc:\\Users\\gsmin2020\\AppData\\Local\\Programs\\Python\\Python310\\lib\\site-packages\\sklearn\\base.py:415\u001b[0m, in \u001b[0;36mBaseEstimator._check_n_features\u001b[1;34m(self, X, reset)\u001b[0m\n\u001b[0;32m    412\u001b[0m     \u001b[39mreturn\u001b[39;00m\n\u001b[0;32m    414\u001b[0m \u001b[39mif\u001b[39;00m n_features \u001b[39m!=\u001b[39m \u001b[39mself\u001b[39m\u001b[39m.\u001b[39mn_features_in_:\n\u001b[1;32m--> 415\u001b[0m     \u001b[39mraise\u001b[39;00m \u001b[39mValueError\u001b[39;00m(\n\u001b[0;32m    416\u001b[0m         \u001b[39mf\u001b[39m\u001b[39m\"\u001b[39m\u001b[39mX has \u001b[39m\u001b[39m{\u001b[39;00mn_features\u001b[39m}\u001b[39;00m\u001b[39m features, but \u001b[39m\u001b[39m{\u001b[39;00m\u001b[39mself\u001b[39m\u001b[39m.\u001b[39m\u001b[39m__class__\u001b[39m\u001b[39m.\u001b[39m\u001b[39m__name__\u001b[39m\u001b[39m}\u001b[39;00m\u001b[39m \u001b[39m\u001b[39m\"\u001b[39m\n\u001b[0;32m    417\u001b[0m         \u001b[39mf\u001b[39m\u001b[39m\"\u001b[39m\u001b[39mis expecting \u001b[39m\u001b[39m{\u001b[39;00m\u001b[39mself\u001b[39m\u001b[39m.\u001b[39mn_features_in_\u001b[39m}\u001b[39;00m\u001b[39m features as input.\u001b[39m\u001b[39m\"\u001b[39m\n\u001b[0;32m    418\u001b[0m     )\n",
      "\u001b[1;31mValueError\u001b[0m: X has 784 features, but PCA is expecting 1536 features as input."
     ]
    }
   ],
   "source": [
    "pca = PCA(n_components=466,random_state=45)\n",
    "pca.fit(X_train_LBP)\n",
    "X_train_pca = pca.transform(X_train_LBP)\n",
    "X_test_pca = pca.transform(X_test_LBP)\n",
    "X_train_PCA1 = pd.DataFrame(X_train_pca)\n",
    "X_test_PCA1 = pd.DataFrame(X_test_pca)"
   ]
  },
  {
   "cell_type": "code",
   "execution_count": null,
   "metadata": {},
   "outputs": [
    {
     "name": "stdout",
     "output_type": "stream",
     "text": [
      "(135312, 466)\n"
     ]
    }
   ],
   "source": [
    "print(X_train_pca.shape)"
   ]
  },
  {
   "cell_type": "code",
   "execution_count": null,
   "metadata": {
    "colab": {
     "base_uri": "https://localhost:8080/",
     "height": 74
    },
    "id": "iH2iv21bpI_Y",
    "outputId": "07316595-8ae4-4566-b1f2-dd24e2c45987"
   },
   "outputs": [],
   "source": [
    "optimal_c = 8\n",
    "svc = SVC(gamma='scale',kernel='rbf',C=optimal_c ,random_state=45)"
   ]
  },
  {
   "cell_type": "code",
   "execution_count": null,
   "metadata": {},
   "outputs": [
    {
     "data": {
      "text/html": [
       "<style>#sk-container-id-1 {color: black;}#sk-container-id-1 pre{padding: 0;}#sk-container-id-1 div.sk-toggleable {background-color: white;}#sk-container-id-1 label.sk-toggleable__label {cursor: pointer;display: block;width: 100%;margin-bottom: 0;padding: 0.3em;box-sizing: border-box;text-align: center;}#sk-container-id-1 label.sk-toggleable__label-arrow:before {content: \"▸\";float: left;margin-right: 0.25em;color: #696969;}#sk-container-id-1 label.sk-toggleable__label-arrow:hover:before {color: black;}#sk-container-id-1 div.sk-estimator:hover label.sk-toggleable__label-arrow:before {color: black;}#sk-container-id-1 div.sk-toggleable__content {max-height: 0;max-width: 0;overflow: hidden;text-align: left;background-color: #f0f8ff;}#sk-container-id-1 div.sk-toggleable__content pre {margin: 0.2em;color: black;border-radius: 0.25em;background-color: #f0f8ff;}#sk-container-id-1 input.sk-toggleable__control:checked~div.sk-toggleable__content {max-height: 200px;max-width: 100%;overflow: auto;}#sk-container-id-1 input.sk-toggleable__control:checked~label.sk-toggleable__label-arrow:before {content: \"▾\";}#sk-container-id-1 div.sk-estimator input.sk-toggleable__control:checked~label.sk-toggleable__label {background-color: #d4ebff;}#sk-container-id-1 div.sk-label input.sk-toggleable__control:checked~label.sk-toggleable__label {background-color: #d4ebff;}#sk-container-id-1 input.sk-hidden--visually {border: 0;clip: rect(1px 1px 1px 1px);clip: rect(1px, 1px, 1px, 1px);height: 1px;margin: -1px;overflow: hidden;padding: 0;position: absolute;width: 1px;}#sk-container-id-1 div.sk-estimator {font-family: monospace;background-color: #f0f8ff;border: 1px dotted black;border-radius: 0.25em;box-sizing: border-box;margin-bottom: 0.5em;}#sk-container-id-1 div.sk-estimator:hover {background-color: #d4ebff;}#sk-container-id-1 div.sk-parallel-item::after {content: \"\";width: 100%;border-bottom: 1px solid gray;flex-grow: 1;}#sk-container-id-1 div.sk-label:hover label.sk-toggleable__label {background-color: #d4ebff;}#sk-container-id-1 div.sk-serial::before {content: \"\";position: absolute;border-left: 1px solid gray;box-sizing: border-box;top: 0;bottom: 0;left: 50%;z-index: 0;}#sk-container-id-1 div.sk-serial {display: flex;flex-direction: column;align-items: center;background-color: white;padding-right: 0.2em;padding-left: 0.2em;position: relative;}#sk-container-id-1 div.sk-item {position: relative;z-index: 1;}#sk-container-id-1 div.sk-parallel {display: flex;align-items: stretch;justify-content: center;background-color: white;position: relative;}#sk-container-id-1 div.sk-item::before, #sk-container-id-1 div.sk-parallel-item::before {content: \"\";position: absolute;border-left: 1px solid gray;box-sizing: border-box;top: 0;bottom: 0;left: 50%;z-index: -1;}#sk-container-id-1 div.sk-parallel-item {display: flex;flex-direction: column;z-index: 1;position: relative;background-color: white;}#sk-container-id-1 div.sk-parallel-item:first-child::after {align-self: flex-end;width: 50%;}#sk-container-id-1 div.sk-parallel-item:last-child::after {align-self: flex-start;width: 50%;}#sk-container-id-1 div.sk-parallel-item:only-child::after {width: 0;}#sk-container-id-1 div.sk-dashed-wrapped {border: 1px dashed gray;margin: 0 0.4em 0.5em 0.4em;box-sizing: border-box;padding-bottom: 0.4em;background-color: white;}#sk-container-id-1 div.sk-label label {font-family: monospace;font-weight: bold;display: inline-block;line-height: 1.2em;}#sk-container-id-1 div.sk-label-container {text-align: center;}#sk-container-id-1 div.sk-container {/* jupyter's `normalize.less` sets `[hidden] { display: none; }` but bootstrap.min.css set `[hidden] { display: none !important; }` so we also need the `!important` here to be able to override the default hidden behavior on the sphinx rendered scikit-learn.org. See: https://github.com/scikit-learn/scikit-learn/issues/21755 */display: inline-block !important;position: relative;}#sk-container-id-1 div.sk-text-repr-fallback {display: none;}</style><div id=\"sk-container-id-1\" class=\"sk-top-container\"><div class=\"sk-text-repr-fallback\"><pre>SVC(C=8, random_state=45)</pre><b>In a Jupyter environment, please rerun this cell to show the HTML representation or trust the notebook. <br />On GitHub, the HTML representation is unable to render, please try loading this page with nbviewer.org.</b></div><div class=\"sk-container\" hidden><div class=\"sk-item\"><div class=\"sk-estimator sk-toggleable\"><input class=\"sk-toggleable__control sk-hidden--visually\" id=\"sk-estimator-id-1\" type=\"checkbox\" checked><label for=\"sk-estimator-id-1\" class=\"sk-toggleable__label sk-toggleable__label-arrow\">SVC</label><div class=\"sk-toggleable__content\"><pre>SVC(C=8, random_state=45)</pre></div></div></div></div></div>"
      ],
      "text/plain": [
       "SVC(C=8, random_state=45)"
      ]
     },
     "execution_count": 20,
     "metadata": {},
     "output_type": "execute_result"
    }
   ],
   "source": [
    "svc.fit(X_train_PCA1,y_train)"
   ]
  },
  {
   "cell_type": "code",
   "execution_count": null,
   "metadata": {},
   "outputs": [],
   "source": [
    "file_name = \"135312_lbp_c8\""
   ]
  },
  {
   "cell_type": "code",
   "execution_count": null,
   "metadata": {},
   "outputs": [],
   "source": [
    "with open(f'../Preprocessing/models/{file_name}', 'wb') as f:\n",
    "    pickle.dump(svc, f)"
   ]
  },
  {
   "cell_type": "code",
   "execution_count": null,
   "metadata": {},
   "outputs": [],
   "source": [
    "with open('./models/135312_hog6_33_22_c21', 'rb') as f:\n",
    "    svc = pickle.load(f)"
   ]
  },
  {
   "cell_type": "code",
   "execution_count": null,
   "metadata": {
    "id": "hAhl7pHdpo5l"
   },
   "outputs": [],
   "source": [
    "svc_pred = svc.predict(X_test_PCA1)"
   ]
  },
  {
   "cell_type": "code",
   "execution_count": null,
   "metadata": {},
   "outputs": [
    {
     "name": "stdout",
     "output_type": "stream",
     "text": [
      "(10000,)\n"
     ]
    }
   ],
   "source": [
    "print(svc_pred.shape)"
   ]
  },
  {
   "cell_type": "code",
   "execution_count": null,
   "metadata": {},
   "outputs": [],
   "source": [
    "with open(f'../mAP/{file_name}.txt', 'w') as file:\n",
    "    for i in range(svc_pred.shape[0]):\n",
    "        file.write(f\"{i:05d} {int(svc_pred[i])}\\n\")"
   ]
  },
  {
   "cell_type": "code",
   "execution_count": null,
   "metadata": {},
   "outputs": [
    {
     "name": "stdout",
     "output_type": "stream",
     "text": [
      "| Class         | AP            |\n",
      "|---------------|---------------|\n",
      "| T-shirt/top   | 0.6646        |\n",
      "| Trouser       | 0.9471        |\n",
      "| Pullover      | 0.6535        |\n",
      "| Dress         | 0.7494        |\n",
      "| Coat          | 0.6045        |\n",
      "| Sandal        | 0.9211        |\n",
      "| Shirt         | 0.4607        |\n",
      "| Sneaker       | 0.8400        |\n",
      "| Bag           | 0.9168        |\n",
      "| Ankle boot    | 0.8929        |\n",
      "| mAP           | 0.7651        |\n",
      "\n"
     ]
    }
   ],
   "source": [
    "import sys\n",
    "import numpy as np\n",
    "from sklearn.metrics import auc\n",
    "from collections import Counter\n",
    "\n",
    "testResult_path = \"../mAP/\"+file_name+\".txt\"\n",
    "label_path = \"../mAP/label.txt\"\n",
    "\n",
    "# pred에 해당하는 testResult.txt 파일 읽어오는 부분입니다.\n",
    "with open(testResult_path, 'r') as file1:\n",
    "    preds = file1.readlines()\n",
    "\n",
    "# 정답에 해당하는 label.txt 파일 읽어오는 부분입니다.\n",
    "with open(label_path, 'r') as file2:\n",
    "    labels = file2.readlines()\n",
    "    \n",
    "\n",
    "# pred와 label의 클래스값만 리스트로 변환하는 부분입니다.\n",
    "p = np.array([pred.strip().split()[1] for pred in preds])\n",
    "l = np.array([label.strip().split()[1] for label in labels])\n",
    "\n",
    "# pred의 클래스 개수를 count하는 부분입니다.\n",
    "predict_label_count_dict = Counter(p)\n",
    "predict_label_count_dict = dict(sorted(predict_label_count_dict.items()))\n",
    "\n",
    "## mAP 계산하는 부분입니다.\n",
    "AP = []\n",
    "num_class = 10\n",
    "\n",
    "# 모든 클래스에 대해 반복\n",
    "for c, freq in predict_label_count_dict.items() :\n",
    "    TP = 0\n",
    "    FN = 0\n",
    "\n",
    "    temp_precision = []\n",
    "    temp_recall = []\n",
    "    \n",
    "    for i in range(len(p)):\n",
    "        # TP, FN 계산\n",
    "        if l[i] == c and p[i] == c :\n",
    "            TP += 1\n",
    "        elif l[i] != c and p[i] == c :\n",
    "            FN += 1\n",
    "        \n",
    "        # preciison, recall 계산            \n",
    "        if TP+FN != 0: \n",
    "            temp_precision.append(TP/(TP+FN))\n",
    "            temp_recall.append(TP/freq)\n",
    "\n",
    "    # AP 배열에 클래스 각각의 AP value 저장\n",
    "    # auc : preciison-recall curve의 면적 구해줌\n",
    "    AP.append(auc(temp_recall, temp_precision))\n",
    "    \n",
    "mAP = sum(AP) / num_class\n",
    "\n",
    "# 각각의 클래스에 대한 AP와 mAP의 Table 출력 부분입니다.\n",
    "class_name = ['T-shirt/top','Trouser','Pullover','Dress','Coat','Sandal','Shirt','Sneaker','Bag','Ankle boot']\n",
    "table = \"| {:<13} | {:<13} |\\n\".format(\"Class\", \"AP\") + \"|---------------|---------------|\\n\"\n",
    "\n",
    "for c_name, ap in zip(class_name, AP):\n",
    "    table += \"| {:<13} | {:<13.4f} |\\n\".format(c_name, ap)\n",
    "\n",
    "table += \"| {:<13} | {:<13.4f} |\\n\".format(\"mAP\", mAP)\n",
    "\n",
    "print(table)\n"
   ]
  }
 ],
 "metadata": {
  "colab": {
   "provenance": []
  },
  "kernelspec": {
   "display_name": "Python 3 (ipykernel)",
   "language": "python",
   "name": "python3"
  },
  "language_info": {
   "codemirror_mode": {
    "name": "ipython",
    "version": 3
   },
   "file_extension": ".py",
   "mimetype": "text/x-python",
   "name": "python",
   "nbconvert_exporter": "python",
   "pygments_lexer": "ipython3",
   "version": "3.10.2"
  }
 },
 "nbformat": 4,
 "nbformat_minor": 1
}
