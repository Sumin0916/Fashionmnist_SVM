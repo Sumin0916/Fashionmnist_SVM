{
 "cells": [
  {
   "cell_type": "markdown",
   "metadata": {},
   "source": [
    "## SVM (No ensemble & no aug & yes pipeline)"
   ]
  },
  {
   "cell_type": "code",
   "execution_count": 1,
   "metadata": {},
   "outputs": [
    {
     "name": "stdout",
     "output_type": "stream",
     "text": [
      "PCA\n",
      "SVM\n",
      "pipeline\n",
      "train\n",
      "[Pipeline] ............... (step 1 of 2) Processing pca, total=   9.2s\n"
     ]
    }
   ],
   "source": [
    "from sklearn.model_selection import train_test_split\n",
    "from sklearn.metrics import accuracy_score\n",
    "from sklearn.decomposition import PCA\n",
    "from sklearn.svm import SVC\n",
    "from sklearn.pipeline import Pipeline\n",
    "import pandas as pd\n",
    "\n",
    "train = pd.read_csv('../fashionmnist/fashion-mnist_train.csv')\n",
    "test = pd.read_csv('../fashionmnist/fashion-mnist_test.csv')\n",
    "df_train = train.copy()\n",
    "df_test = test.copy()\n",
    "X_train= df_train.drop(['label'],axis = 1)\n",
    "y_train = df_train['label']\n",
    "X_test = df_test.drop(['label'],axis = 1)\n",
    "y_test = df_test['label']\n",
    "\n",
    "X_train = X_train.astype('float32')\n",
    "X_test = X_test.astype('float32')\n",
    "X_train /= 255.0\n",
    "X_test /=255.0\n",
    "\n",
    "# seed = 99\n",
    "# np.random.seed(seed)\n",
    "# X_train, X_val, y_train, y_val = train_test_split(X_train, y_train, test_size=0.1, random_state = seed)\n",
    "print(\"PCA\")\n",
    "# pca = PCA(n_components=400, whiten=True)\n",
    "pca = PCA(n_components=400)\n",
    "print(\"SVM\")\n",
    "# svm = SVC(gamma='scale', kernel='rbf', C=8, probability=True, class_weight='balanced')\n",
    "svm = SVC(gamma='scale', kernel='rbf', C=8, probability=True)\n",
    "print(\"pipeline\")\n",
    "pipe = Pipeline([\n",
    "    ('pca', pca),\n",
    "    ('svm', svm)\n",
    "], verbose=True)\n",
    "print(\"train\")\n",
    "pipe.fit(X_train, y_train)\n",
    "print(\"predict\")\n",
    "y_pred = pipe.predict(X_test)\n",
    "\n",
    "acc = accuracy_score(y_test, y_pred)\n",
    "print(\"Test Accuracy score: {}\".format(acc))"
   ]
  },
  {
   "cell_type": "markdown",
   "metadata": {},
   "source": [
    "## Model save"
   ]
  },
  {
   "cell_type": "code",
   "execution_count": 2,
   "metadata": {},
   "outputs": [],
   "source": [
    "# model 저장\n",
    "import pickle\n",
    "with open('../models/svm_pipeline', 'wb') as f:\n",
    "    pickle.dump(pipe, f)"
   ]
  }
 ],
 "metadata": {
  "kernelspec": {
   "display_name": "ml",
   "language": "python",
   "name": "python3"
  },
  "language_info": {
   "codemirror_mode": {
    "name": "ipython",
    "version": 3
   },
   "file_extension": ".py",
   "mimetype": "text/x-python",
   "name": "python",
   "nbconvert_exporter": "python",
   "pygments_lexer": "ipython3",
   "version": "3.9.13"
  }
 },
 "nbformat": 4,
 "nbformat_minor": 2
}
