{
 "cells": [
  {
   "cell_type": "code",
   "execution_count": 1,
   "metadata": {},
   "outputs": [],
   "source": [
    "import numpy as np\n",
    "import pandas as pd\n",
    "import cv2"
   ]
  },
  {
   "cell_type": "code",
   "execution_count": 5,
   "metadata": {},
   "outputs": [
    {
     "name": "stdout",
     "output_type": "stream",
     "text": [
      "(10, 784)\n"
     ]
    }
   ],
   "source": [
    "IMAGE_NUM = 10000\n",
    "IMAGE_DIM = 784\n",
    "save_arr = np.empty((1, IMAGE_DIM), dtype='int64')\n",
    "for image_ind in range(IMAGE_NUM):\n",
    "    image = np.array(cv2.imread(f\"../datasets/public_test_dataset/{image_ind:0>5d}.png\", cv2.IMREAD_GRAYSCALE)) # 경로는 각자 수정\n",
    "    image = image.reshape(1, IMAGE_DIM)\n",
    "    save_arr = np.r_[save_arr, image]\n",
    "save_arr = np.delete(save_arr, 0 , axis = 0) #Dummy row 삭제\n",
    "print(save_arr.shape)"
   ]
  },
  {
   "cell_type": "code",
   "execution_count": 6,
   "metadata": {},
   "outputs": [],
   "source": [
    "df = pd.DataFrame(save_arr)\n",
    "df.to_csv('public_test_data.csv', index=False)"
   ]
  }
 ],
 "metadata": {
  "kernelspec": {
   "display_name": "Python 3",
   "language": "python",
   "name": "python3"
  },
  "language_info": {
   "codemirror_mode": {
    "name": "ipython",
    "version": 3
   },
   "file_extension": ".py",
   "mimetype": "text/x-python",
   "name": "python",
   "nbconvert_exporter": "python",
   "pygments_lexer": "ipython3",
   "version": "3.10.2"
  }
 },
 "nbformat": 4,
 "nbformat_minor": 2
}
