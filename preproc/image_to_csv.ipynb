{
 "cells": [
  {
   "cell_type": "code",
   "execution_count": 6,
   "metadata": {},
   "outputs": [],
   "source": [
    "import numpy as np\n",
    "import pandas as pd\n",
    "import cv2\n",
    "import os"
   ]
  },
  {
   "cell_type": "code",
   "execution_count": 11,
   "metadata": {},
   "outputs": [
    {
     "name": "stdout",
     "output_type": "stream",
     "text": [
      "Find 10000 image\n"
     ]
    }
   ],
   "source": [
    "\n",
    "def count_images_in_folder(folder_path, valid_extensions=['.png']):\n",
    "    image_count = 0\n",
    "    for filename in os.listdir(folder_path):\n",
    "        if any(filename.lower().endswith(ext) for ext in valid_extensions):\n",
    "            image_count += 1\n",
    "    return image_count\n",
    "\n",
    "folder_path = '../Team_data/public_test_dataset/data/'\n",
    "image_count = count_images_in_folder(folder_path)\n",
    "print(f\"Find {image_count} image\")"
   ]
  },
  {
   "cell_type": "code",
   "execution_count": 12,
   "metadata": {},
   "outputs": [
    {
     "name": "stdout",
     "output_type": "stream",
     "text": [
      "(10000, 784)\n"
     ]
    }
   ],
   "source": [
    "IMAGE_NUM = image_count\n",
    "IMAGE_DIM = 784\n",
    "save_arr = np.empty((1, IMAGE_DIM), dtype='int64')\n",
    "for image_ind in range(IMAGE_NUM):\n",
    "    image = np.array(cv2.imread(f\"../Team_data/public_test_dataset/data/{image_ind:0>5d}.png\", cv2.IMREAD_GRAYSCALE)) # 경로는 각자 수정\n",
    "    image = image.reshape(1, IMAGE_DIM)\n",
    "    save_arr = np.r_[save_arr, image]\n",
    "save_arr = np.delete(save_arr, 0 , axis = 0) #Dummy row 삭제\n",
    "print(save_arr.shape)"
   ]
  },
  {
   "cell_type": "code",
   "execution_count": 15,
   "metadata": {},
   "outputs": [],
   "source": [
    "column_names = [f'pixel{i}' for i in range(1, 785)]\n",
    "df = pd.DataFrame(save_arr, columns=column_names)\n",
    "df.insert(0, 'label', 0)\n",
    "df.to_csv('public_test_data.csv', index=False)"
   ]
  }
 ],
 "metadata": {
  "kernelspec": {
   "display_name": "Python 3",
   "language": "python",
   "name": "python3"
  },
  "language_info": {
   "codemirror_mode": {
    "name": "ipython",
    "version": 3
   },
   "file_extension": ".py",
   "mimetype": "text/x-python",
   "name": "python",
   "nbconvert_exporter": "python",
   "pygments_lexer": "ipython3",
   "version": "3.10.10"
  }
 },
 "nbformat": 4,
 "nbformat_minor": 2
}
