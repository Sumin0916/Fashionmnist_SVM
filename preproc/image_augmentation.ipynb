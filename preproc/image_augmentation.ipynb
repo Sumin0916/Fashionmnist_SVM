{
 "cells": [
  {
   "cell_type": "markdown",
   "metadata": {},
   "source": [
    "### Image Augmentation"
   ]
  },
  {
   "cell_type": "code",
   "execution_count": 1,
   "metadata": {},
   "outputs": [],
   "source": [
    "import pandas as pd\n",
    "import random\n",
    "import numpy as np\n",
    "from tensorflow.keras.preprocessing.image import ImageDataGenerator"
   ]
  },
  {
   "cell_type": "code",
   "execution_count": 3,
   "metadata": {},
   "outputs": [],
   "source": [
    "train = pd.read_csv('../fashionmnist/fashion-mnist_train.csv')"
   ]
  },
  {
   "cell_type": "code",
   "execution_count": 4,
   "metadata": {},
   "outputs": [],
   "source": [
    "augmented_train = train.copy()"
   ]
  },
  {
   "cell_type": "code",
   "execution_count": 5,
   "metadata": {},
   "outputs": [],
   "source": [
    "X_train = augmented_train.drop(['label'],axis = 1)\n",
    "X_label = augmented_train['label']\n",
    "\n",
    "X_train = X_train.astype('float32')"
   ]
  },
  {
   "cell_type": "code",
   "execution_count": 6,
   "metadata": {},
   "outputs": [],
   "source": [
    "label_dict = {\n",
    "    \"T-shirt/top\":0,\n",
    "    \"Trouser\":1,\n",
    "    \"Pullover\":2,\n",
    "    \"Dress\":3,\n",
    "    \"Coat\":4,\n",
    "    \"Sandal\":5,\n",
    "    \"Shirt\":6,\n",
    "    \"Sneaker\":7,\n",
    "    \"Bag\":8,\n",
    "    \"Ankle_boot\":9\n",
    "}"
   ]
  },
  {
   "cell_type": "code",
   "execution_count": 7,
   "metadata": {},
   "outputs": [],
   "source": [
    "# 원하는 Label number 리스트로 담기\n",
    "is_target = [False for _ in range(10)]\n",
    "target_labels = ['Shirt', 'Pullover', 'T-shirt/top'] # 증강할 Label 담기 0, 2, 6\n",
    "for label in target_labels:\n",
    "    is_target[label_dict[label]] = True\n",
    "target_res = [[] for _ in range(10)]\n",
    "\n",
    "train_count = 60000\n",
    "for ind in range(train_count):\n",
    "    if is_target[X_label[ind]]:\n",
    "        target_res[X_label[ind]].append(ind)"
   ]
  },
  {
   "cell_type": "code",
   "execution_count": 8,
   "metadata": {},
   "outputs": [],
   "source": [
    "origin_train = X_train.values # pandas.DF -> numpy.ARRAY\n",
    "origin_train = origin_train.reshape(-1, 28, 28) # 60000x28x28로 변환"
   ]
  },
  {
   "cell_type": "code",
   "execution_count": 9,
   "metadata": {},
   "outputs": [
    {
     "name": "stdout",
     "output_type": "stream",
     "text": [
      "(60000, 785)\n"
     ]
    }
   ],
   "source": [
    "#plt.imshow(origin_train[59999], cmap='gray')\n",
    "#plt.axis('off')\n",
    "#plt.show()\n",
    "print(f\"Before shape: {augmented_train.shape}\")\n",
    "image_generator = ImageDataGenerator(\n",
    "            rotation_range=0,       # 회전 범위\n",
    "            zoom_range=0.11,        # 확대/축소 범위\n",
    "            shear_range=0,          # 변형(전단) 범위\n",
    "            width_shift_range=0.13, # 가로 이동 범위\n",
    "            height_shift_range=0.13,# 세로 이동 범위\n",
    "            horizontal_flip=False,  # 수평 뒤집기\n",
    "            vertical_flip=False)    # 수직 뒤집기\n",
    "\n",
    "augment_size = 10 # 이미지별 증강할 개수\n",
    "sample_size = 300\n",
    "for label in target_labels:\n",
    "    abstract_class  = random.sample(target_res[label_dict[label]], sample_size) #옷을 종류별로 sample_size만큼 무작위 선택\n",
    "    for ind in abstract_class:\n",
    "        x_augmented = image_generator.flow(np.tile(origin_train[ind], augment_size).reshape(-1,28,28,1), np.zeros((augment_size, 28, 28)), batch_size=augment_size, shuffle=False, seed=42).next()[0]\n",
    "        for i in range(augment_size):\n",
    "            augmented_image = (x_augmented[i]).flatten().tolist()\n",
    "            augmented_image.insert(0,label_dict[label])\n",
    "            df_augmented = pd.DataFrame([augmented_image],columns=augmented_train.columns)\n",
    "            augmented_train = pd.concat([augmented_train, df_augmented], ignore_index=True)\n",
    "augmented_train = augmented_train.fillna(0.0)"
   ]
  },
  {
   "cell_type": "code",
   "execution_count": 10,
   "metadata": {},
   "outputs": [
    {
     "name": "stdout",
     "output_type": "stream",
     "text": [
      "After shape: (69000, 785)\n"
     ]
    }
   ],
   "source": [
    "augmented_train.to_csv('augmented_train.csv', index=False)\n",
    "print(f\"After shape: {augmented_train.shape}\")"
   ]
  }
 ],
 "metadata": {
  "kernelspec": {
   "display_name": "Python 3",
   "language": "python",
   "name": "python3"
  },
  "language_info": {
   "codemirror_mode": {
    "name": "ipython",
    "version": 3
   },
   "file_extension": ".py",
   "mimetype": "text/x-python",
   "name": "python",
   "nbconvert_exporter": "python",
   "pygments_lexer": "ipython3",
   "version": "3.10.2"
  }
 },
 "nbformat": 4,
 "nbformat_minor": 2
}
