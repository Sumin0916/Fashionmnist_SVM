{
 "cells": [
  {
   "cell_type": "code",
   "execution_count": 1,
   "id": "3426f0fc-53bc-4bea-b005-4028a52fdff0",
   "metadata": {},
   "outputs": [],
   "source": [
    "from sklearn.model_selection import train_test_split, RandomizedSearchCV\n",
    "from sklearn.metrics import confusion_matrix\n",
    "from sklearn.pipeline import make_pipeline\n",
    "from sklearn.preprocessing import StandardScaler\n",
    "from sklearn.decomposition import PCA\n",
    "from sklearn.linear_model import LogisticRegression\n",
    "from sklearn.ensemble import RandomForestClassifier\n",
    "from sklearn import ensemble\n",
    "from sklearn.metrics import accuracy_score, classification_report\n",
    "\n",
    "from sklearn.ensemble import VotingClassifier\n",
    "from sklearn.svm import SVC\n",
    "from xgboost import XGBClassifier\n",
    "\n",
    "import tensorflow as tf\n",
    "from tensorflow.keras.preprocessing.image import ImageDataGenerator\n",
    "from scipy.stats import randint\n",
    "import matplotlib.pyplot as plt\n",
    "import seaborn as sns\n",
    "import plotly.graph_objects as go\n",
    "import time\n",
    "import pandas as pd\n",
    "import cv2\n",
    "import random\n",
    "import numpy as np\n",
    "import warnings\n",
    "warnings.filterwarnings(action='ignore', category=UserWarning)"
   ]
  },
  {
   "cell_type": "markdown",
   "id": "7112e88b-8185-464a-bb90-f020717ff91e",
   "metadata": {},
   "source": [
    "---"
   ]
  },
  {
   "cell_type": "markdown",
   "id": "018b7340-6c86-47a1-b1bf-95a21048527c",
   "metadata": {
    "jp-MarkdownHeadingCollapsed": true
   },
   "source": [
    "### Image to CSV"
   ]
  },
  {
   "cell_type": "code",
   "execution_count": 95,
   "id": "4bf3c4f8-85df-4609-825c-ad1a1c152328",
   "metadata": {},
   "outputs": [],
   "source": [
    "label_dict = {\n",
    "    \"T-shirt/top\":0,\n",
    "    \"Trouser\":1,\n",
    "    \"Pullover\":2,\n",
    "    \"Dress\":3,\n",
    "    \"Coat\":4,\n",
    "    \"Sandal\":5,\n",
    "    \"Shirt\":6,\n",
    "    \"Sneaker\":7,\n",
    "    \"Bag\":8,\n",
    "    \"Ankle_boot\":9\n",
    "}"
   ]
  },
  {
   "cell_type": "code",
   "execution_count": 76,
   "id": "f9768f2c-84f4-4c8f-8735-dac8584921e1",
   "metadata": {},
   "outputs": [],
   "source": [
    "# 원하는 Label number 리스트로 담기\n",
    "file_path = './datasets/test_label.txt'\n",
    "\n",
    "is_target = [False for _ in range(10)]\n",
    "target_label = [6] # 증강할 Label 담기 0, 2, 6\n",
    "for i in target_label:\n",
    "    is_target[i] = True\n",
    "target_res = [[] for _ in range(10)]\n",
    "\n",
    "with open(file_path, 'r') as file:\n",
    "    for line in file:\n",
    "        num, label = map(int, line.split())\n",
    "        if is_target[label]:\n",
    "            target_res[label].append(num)"
   ]
  },
  {
   "cell_type": "code",
   "execution_count": 91,
   "id": "afd362b1-c278-40c2-a6cc-aa75c9f2a7ac",
   "metadata": {},
   "outputs": [],
   "source": [
    "augmented_size = 1 # 클래스별 증강할 개수\n",
    "for label in target_label:\n",
    "    random_nums = random.sample(target_res[label], augmented_size)\n",
    "    for num in random_nums:\n",
    "        origin_image = cv2.imread(f'./datasets/public_test_dataset/{num:0>5d}.png')\n",
    "        cv2.imwrite('origin_image.jpg', origin_image)\n",
    "        resized_image= cv2.resize(image, (28, 28),fx=0.6, fy=0.6)\n",
    "        cv2.imwrite('resized_image.jpg', resized_image)\n"
   ]
  },
  {
   "cell_type": "code",
   "execution_count": 14,
   "id": "db8bb52f-3491-4fa0-8b82-9e569c8c2977",
   "metadata": {},
   "outputs": [
    {
     "name": "stdout",
     "output_type": "stream",
     "text": [
      "(10000, 784)\n"
     ]
    }
   ],
   "source": [
    "IMAGE_NUM = 10000\n",
    "IMAGE_DIM = 784\n",
    "save_arr = np.empty((1, IMAGE_DIM), dtype='int64')\n",
    "for image_ind in range(IMAGE_NUM):\n",
    "    image = np.array(cv2.imread(f\"./datasets/public_test_dataset/{image_ind:0>5d}.png\", cv2.IMREAD_GRAYSCALE)) # 경로는 각자 수정\n",
    "    image = image.reshape(1, IMAGE_DIM)\n",
    "    save_arr = np.r_[save_arr, image]\n",
    "save_arr = np.delete(save_arr, 0 , axis = 0) #Dummy row 삭제\n",
    "print(save_arr.shape)"
   ]
  },
  {
   "cell_type": "code",
   "execution_count": 15,
   "id": "2dea5d5c-afc3-4a7a-a3ee-dbc1df97a68a",
   "metadata": {},
   "outputs": [],
   "source": [
    "df = pd.DataFrame(save_arr)\n",
    "df.to_csv('public_test_data.csv', index=False)"
   ]
  },
  {
   "cell_type": "markdown",
   "id": "cdfb1404-8fa8-42d2-a6f8-824d8553ff56",
   "metadata": {},
   "source": [
    "\n",
    "---\n"
   ]
  },
  {
   "cell_type": "markdown",
   "id": "7072990f-47c6-404b-8e13-7df5c4cc8290",
   "metadata": {},
   "source": [
    "### Image Augmentation"
   ]
  },
  {
   "cell_type": "code",
   "execution_count": 17,
   "id": "e23da38e-0431-4dbc-ba5e-8c15e83b2a25",
   "metadata": {},
   "outputs": [],
   "source": [
    "train = pd.read_csv('fashionmnist/fashion-mnist_train.csv')\n",
    "test = pd.read_csv('fashionmnist/fashion-mnist_test.csv')"
   ]
  },
  {
   "cell_type": "code",
   "execution_count": 20,
   "id": "40a424aa-8bba-4305-bce9-afea7b81f208",
   "metadata": {},
   "outputs": [],
   "source": [
    "df_train = train.copy()\n",
    "df_test = test.copy()"
   ]
  },
  {
   "cell_type": "code",
   "execution_count": 51,
   "id": "43130504-74cc-425e-8da9-ef855d513ff0",
   "metadata": {},
   "outputs": [],
   "source": [
    "X_train= df_train.drop(['label'],axis = 1)\n",
    "X_test = df_train['label']\n",
    "y_test = df_test.drop(['label'],axis = 1)\n",
    "\n",
    "X_train = X_train.astype('float32')\n",
    "y_test = y_test.astype('float32')\n",
    "X_train /= 255.0\n",
    "y_test /=255.0"
   ]
  },
  {
   "cell_type": "code",
   "execution_count": 57,
   "id": "1a853cce-a246-4c65-8fc4-3c7bcf19824a",
   "metadata": {},
   "outputs": [
    {
     "data": {
      "image/png": "[encoded data removed]",
      "text/plain": [
       "<Figure size 640x480 with 1 Axes>"
      ]
     },
     "metadata": {},
     "output_type": "display_data"
    },
    {
     "name": "stdout",
     "output_type": "stream",
     "text": [
      "(100, 28, 28, 1)\n"
     ]
    },
    {
     "data": {
      "image/png": "[encoded data removed]",
      "text/plain": [
       "<Figure size 640x480 with 1 Axes>"
      ]
     },
     "metadata": {},
     "output_type": "display_data"
    }
   ],
   "source": [
    "origin_train = X_train.values # pandas.DF -> numpy.ARRAY\n",
    "origin_train = origin_train.reshape(-1, 28, 28, 1) # 28x28로 변환\n",
    "plt.imshow(origin_train[10], cmap='gray')\n",
    "plt.axis('off')  # 축을 표시하지 않음\n",
    "plt.show()\n",
    "image_generator = ImageDataGenerator(\n",
    "            rotation_range=0,       # 회전 범위\n",
    "            zoom_range=0.30,        # 확대/축소 범위\n",
    "            shear_range=0,          # 변형(전단) 범위\n",
    "            width_shift_range=0.17, # 가로 이동 범위\n",
    "            height_shift_range=0.217,# 세로 이동 범위\n",
    "            horizontal_flip=False,  # 수평 뒤집기\n",
    "            vertical_flip=False)    # 수직 뒤집기\n",
    "\n",
    "augment_size = 100 # 증강할 이미지 개수\n",
    "\n",
    "#flow는 보강된 이미지를 생성하는 함수\n",
    "x_augmented = image_generator.flow(np.tile(origin_train[10].reshape(28*28),100).reshape(-1,28,28,1), np.zeros(augment_size), batch_size=augment_size, shuffle=False).next()[0]\n",
    "print(x_augmented.shape)  # 증강된 이미지 데이터의 형태 출력\n",
    "plt.imshow(x_augmented[0], cmap='gray')\n",
    "plt.axis('off')  # 축을 표시하지 않음\n",
    "plt.show()"
   ]
  },
  {
   "cell_type": "code",
   "execution_count": 31,
   "id": "553b171e-46e9-4c89-82a2-4d7061ef8c35",
   "metadata": {},
   "outputs": [],
   "source": [
    "seed = 99\n",
    "np.random.seed(seed)\n",
    "X_train, X_val, y_train, y_val = train_test_split(X_train, X_test, test_size=0.1, random_state = seed)"
   ]
  },
  {
   "cell_type": "code",
   "execution_count": 32,
   "id": "d8457c3e-d031-40c1-87c7-651cfce2d766",
   "metadata": {},
   "outputs": [
    {
     "name": "stdout",
     "output_type": "stream",
     "text": [
      "<class 'pandas.core.frame.DataFrame'>\n"
     ]
    }
   ],
   "source": [
    "pca = PCA(n_components=400)\n",
    "pca.fit(X_train)\n",
    "X_train_pca = pca.transform(X_train)\n",
    "X_test_pca = pca.transform(X_val)\n",
    "y_test_pca = pca.transform(y_test)\n",
    "\n",
    "X_train_PCA1 = pd.DataFrame(X_train_pca)\n",
    "X_test_PCA1 = pd.DataFrame(X_test_pca)"
   ]
  },
  {
   "cell_type": "code",
   "execution_count": 11,
   "id": "cce2bdd4-bdee-4c0a-9176-f30dd2cedd58",
   "metadata": {},
   "outputs": [],
   "source": [
    "xgb = XGBClassifier(\n",
    "    n_estimators=80,  # 트리의 개수 (많을수록 오버피팅)\n",
    "    learning_rate=0.3,  # 학습률 (값이 작을수록 모델이 안정 수렴함)\n",
    "    max_depth=4,  # 트리의 최대 깊이 (깊을수록 오버피팅)\n",
    "    subsample= 1.0,  # 훈련 데이터의 사용률(1.0이 최대)\n",
    "    colsample_bytree=0.9,  # 각 트리를 훈련할 때 사용할 특성의 비율(1.0이 최대)\n",
    "    gamma=1,  # 최소 손실 감소 값 (값이 클수록 보수적인 분할)\n",
    "    n_jobs=-1,  # 병렬 처리에 사용할 CPU 코어의 수 (-1 == 사용가능한 최대 코어수)\n",
    "    random_state=42  # 난수 생성기의 시드\n",
    ")"
   ]
  },
  {
   "cell_type": "code",
   "execution_count": 31,
   "id": "45d75a56-27a9-490e-abcb-cfdad6231698",
   "metadata": {},
   "outputs": [],
   "source": [
    "rnd = RandomForestClassifier(\n",
    "    n_estimators = 64, # 예측기 500개\n",
    "    n_jobs = -1 # CPU 코어 구동 개수\n",
    ") #max_leaf_nodes = 16, # 자식노드의 최대 개수 \n",
    "#model = RandomForestClassifier(n_estimators=64, n_jobs=-1) # 0.8827, 29 seconds\n",
    "# model = MLPClassifier(max_iter=700) # 0.8557, 190 seconds\n",
    "svc = SVC(gamma='scale',kernel='rbf',C=8, probability=True) #probability=True 이거 없으면 soft voting 불가함 근데 시간 오래걸림"
   ]
  },
  {
   "cell_type": "code",
   "execution_count": 32,
   "id": "7534fa20-6dd0-44c7-b796-42f4587bb1b3",
   "metadata": {},
   "outputs": [],
   "source": [
    "voting_clf = VotingClassifier(\n",
    "    estimators=[('svc', svc), ('rnd', rnd)],\n",
    "    voting='soft'\n",
    ")"
   ]
  },
  {
   "cell_type": "code",
   "execution_count": 37,
   "id": "d6e741b6-ca75-4594-b238-914facf53adb",
   "metadata": {},
   "outputs": [
    {
     "data": {
      "text/html": [
       "<style>#sk-container-id-5 {color: black;}#sk-container-id-5 pre{padding: 0;}#sk-container-id-5 div.sk-toggleable {background-color: white;}#sk-container-id-5 label.sk-toggleable__label {cursor: pointer;display: block;width: 100%;margin-bottom: 0;padding: 0.3em;box-sizing: border-box;text-align: center;}#sk-container-id-5 label.sk-toggleable__label-arrow:before {content: \"▸\";float: left;margin-right: 0.25em;color: #696969;}#sk-container-id-5 label.sk-toggleable__label-arrow:hover:before {color: black;}#sk-container-id-5 div.sk-estimator:hover label.sk-toggleable__label-arrow:before {color: black;}#sk-container-id-5 div.sk-toggleable__content {max-height: 0;max-width: 0;overflow: hidden;text-align: left;background-color: #f0f8ff;}#sk-container-id-5 div.sk-toggleable__content pre {margin: 0.2em;color: black;border-radius: 0.25em;background-color: #f0f8ff;}#sk-container-id-5 input.sk-toggleable__control:checked~div.sk-toggleable__content {max-height: 200px;max-width: 100%;overflow: auto;}#sk-container-id-5 input.sk-toggleable__control:checked~label.sk-toggleable__label-arrow:before {content: \"▾\";}#sk-container-id-5 div.sk-estimator input.sk-toggleable__control:checked~label.sk-toggleable__label {background-color: #d4ebff;}#sk-container-id-5 div.sk-label input.sk-toggleable__control:checked~label.sk-toggleable__label {background-color: #d4ebff;}#sk-container-id-5 input.sk-hidden--visually {border: 0;clip: rect(1px 1px 1px 1px);clip: rect(1px, 1px, 1px, 1px);height: 1px;margin: -1px;overflow: hidden;padding: 0;position: absolute;width: 1px;}#sk-container-id-5 div.sk-estimator {font-family: monospace;background-color: #f0f8ff;border: 1px dotted black;border-radius: 0.25em;box-sizing: border-box;margin-bottom: 0.5em;}#sk-container-id-5 div.sk-estimator:hover {background-color: #d4ebff;}#sk-container-id-5 div.sk-parallel-item::after {content: \"\";width: 100%;border-bottom: 1px solid gray;flex-grow: 1;}#sk-container-id-5 div.sk-label:hover label.sk-toggleable__label {background-color: #d4ebff;}#sk-container-id-5 div.sk-serial::before {content: \"\";position: absolute;border-left: 1px solid gray;box-sizing: border-box;top: 0;bottom: 0;left: 50%;z-index: 0;}#sk-container-id-5 div.sk-serial {display: flex;flex-direction: column;align-items: center;background-color: white;padding-right: 0.2em;padding-left: 0.2em;position: relative;}#sk-container-id-5 div.sk-item {position: relative;z-index: 1;}#sk-container-id-5 div.sk-parallel {display: flex;align-items: stretch;justify-content: center;background-color: white;position: relative;}#sk-container-id-5 div.sk-item::before, #sk-container-id-5 div.sk-parallel-item::before {content: \"\";position: absolute;border-left: 1px solid gray;box-sizing: border-box;top: 0;bottom: 0;left: 50%;z-index: -1;}#sk-container-id-5 div.sk-parallel-item {display: flex;flex-direction: column;z-index: 1;position: relative;background-color: white;}#sk-container-id-5 div.sk-parallel-item:first-child::after {align-self: flex-end;width: 50%;}#sk-container-id-5 div.sk-parallel-item:last-child::after {align-self: flex-start;width: 50%;}#sk-container-id-5 div.sk-parallel-item:only-child::after {width: 0;}#sk-container-id-5 div.sk-dashed-wrapped {border: 1px dashed gray;margin: 0 0.4em 0.5em 0.4em;box-sizing: border-box;padding-bottom: 0.4em;background-color: white;}#sk-container-id-5 div.sk-label label {font-family: monospace;font-weight: bold;display: inline-block;line-height: 1.2em;}#sk-container-id-5 div.sk-label-container {text-align: center;}#sk-container-id-5 div.sk-container {/* jupyter's `normalize.less` sets `[hidden] { display: none; }` but bootstrap.min.css set `[hidden] { display: none !important; }` so we also need the `!important` here to be able to override the default hidden behavior on the sphinx rendered scikit-learn.org. See: https://github.com/scikit-learn/scikit-learn/issues/21755 */display: inline-block !important;position: relative;}#sk-container-id-5 div.sk-text-repr-fallback {display: none;}</style><div id=\"sk-container-id-5\" class=\"sk-top-container\"><div class=\"sk-text-repr-fallback\"><pre>VotingClassifier(estimators=[(&#x27;svc&#x27;, SVC(C=8, probability=True)),\n",
       "                             (&#x27;rnd&#x27;,\n",
       "                              RandomForestClassifier(n_estimators=64,\n",
       "                                                     n_jobs=-1))],\n",
       "                 voting=&#x27;soft&#x27;)</pre><b>In a Jupyter environment, please rerun this cell to show the HTML representation or trust the notebook. <br />On GitHub, the HTML representation is unable to render, please try loading this page with nbviewer.org.</b></div><div class=\"sk-container\" hidden><div class=\"sk-item sk-dashed-wrapped\"><div class=\"sk-label-container\"><div class=\"sk-label sk-toggleable\"><input class=\"sk-toggleable__control sk-hidden--visually\" id=\"sk-estimator-id-13\" type=\"checkbox\" ><label for=\"sk-estimator-id-13\" class=\"sk-toggleable__label sk-toggleable__label-arrow\">VotingClassifier</label><div class=\"sk-toggleable__content\"><pre>VotingClassifier(estimators=[(&#x27;svc&#x27;, SVC(C=8, probability=True)),\n",
       "                             (&#x27;rnd&#x27;,\n",
       "                              RandomForestClassifier(n_estimators=64,\n",
       "                                                     n_jobs=-1))],\n",
       "                 voting=&#x27;soft&#x27;)</pre></div></div></div><div class=\"sk-parallel\"><div class=\"sk-parallel-item\"><div class=\"sk-item\"><div class=\"sk-label-container\"><div class=\"sk-label sk-toggleable\"><label>svc</label></div></div><div class=\"sk-serial\"><div class=\"sk-item\"><div class=\"sk-estimator sk-toggleable\"><input class=\"sk-toggleable__control sk-hidden--visually\" id=\"sk-estimator-id-14\" type=\"checkbox\" ><label for=\"sk-estimator-id-14\" class=\"sk-toggleable__label sk-toggleable__label-arrow\">SVC</label><div class=\"sk-toggleable__content\"><pre>SVC(C=8, probability=True)</pre></div></div></div></div></div></div><div class=\"sk-parallel-item\"><div class=\"sk-item\"><div class=\"sk-label-container\"><div class=\"sk-label sk-toggleable\"><label>rnd</label></div></div><div class=\"sk-serial\"><div class=\"sk-item\"><div class=\"sk-estimator sk-toggleable\"><input class=\"sk-toggleable__control sk-hidden--visually\" id=\"sk-estimator-id-15\" type=\"checkbox\" ><label for=\"sk-estimator-id-15\" class=\"sk-toggleable__label sk-toggleable__label-arrow\">RandomForestClassifier</label><div class=\"sk-toggleable__content\"><pre>RandomForestClassifier(n_estimators=64, n_jobs=-1)</pre></div></div></div></div></div></div></div></div></div></div>"
      ],
      "text/plain": [
       "VotingClassifier(estimators=[('svc', SVC(C=8, probability=True)),\n",
       "                             ('rnd',\n",
       "                              RandomForestClassifier(n_estimators=64,\n",
       "                                                     n_jobs=-1))],\n",
       "                 voting='soft')"
      ]
     },
     "execution_count": 37,
     "metadata": {},
     "output_type": "execute_result"
    }
   ],
   "source": [
    "svc.fit(X_train_PCA1,y_train)\n",
    "rnd.fit(X_train_PCA1, y_train.values.ravel())\n",
    "voting_clf.fit(X_train_PCA1, y_train)"
   ]
  },
  {
   "cell_type": "code",
   "execution_count": 15,
   "id": "135a9615-8de8-4675-93d6-1d7f88c245cd",
   "metadata": {},
   "outputs": [],
   "source": [
    "# xgb_train = xgb.predict(X_train_PCA1)\n",
    "# xgb_pred = xgb.predict(X_test_PCA1)"
   ]
  },
  {
   "cell_type": "code",
   "execution_count": 38,
   "id": "4bc39aaf-f0b2-4b71-996f-b9f7e5a4ff67",
   "metadata": {},
   "outputs": [],
   "source": [
    "#훈련 데이터 예측\n",
    "svc_train = svc.predict(X_train_PCA1)\n",
    "rnd_train = rnd.predict(X_train_PCA1)\n",
    "voting_train = voting_clf.predict(X_train_PCA1)\n",
    "\n",
    "#Test 데이터 예측\n",
    "svc_pred = svc.predict(X_test_PCA1)\n",
    "rnd_pred = rnd.predict(X_test_PCA1)\n",
    "voting_pred = voting_clf.predict(X_test_PCA1)"
   ]
  },
  {
   "cell_type": "code",
   "execution_count": 39,
   "id": "260903e2-23c3-4076-b142-84299032652b",
   "metadata": {},
   "outputs": [
    {
     "name": "stdout",
     "output_type": "stream",
     "text": [
      "----SVC----\n",
      "Train Accuracy score: 0.9763333333333334\n",
      "Test Accuracy score: 0.9101666666666667\n",
      "              precision    recall  f1-score   support\n",
      "\n",
      "           0       0.84      0.86      0.85       574\n",
      "           1       0.99      0.99      0.99       596\n",
      "           2       0.83      0.84      0.84       573\n",
      "           3       0.91      0.94      0.93       624\n",
      "           4       0.86      0.86      0.86       635\n",
      "           5       0.99      0.96      0.98       632\n",
      "           6       0.77      0.73      0.75       600\n",
      "           7       0.94      0.97      0.96       604\n",
      "           8       0.97      0.98      0.98       598\n",
      "           9       0.97      0.96      0.97       564\n",
      "\n",
      "    accuracy                           0.91      6000\n",
      "   macro avg       0.91      0.91      0.91      6000\n",
      "weighted avg       0.91      0.91      0.91      6000\n",
      "\n"
     ]
    }
   ],
   "source": [
    "svc_train_score = accuracy_score(y_train, svc_train)\n",
    "svc_pred_score = accuracy_score(y_val, svc_pred)\n",
    "\n",
    "print(\"----SVC----\")\n",
    "print(\"Train Accuracy score: {}\".format(svc_train_score))\n",
    "print(\"Test Accuracy score: {}\".format(svc_pred_score))\n",
    "print(classification_report(y_val, svc_pred))"
   ]
  },
  {
   "cell_type": "code",
   "execution_count": 21,
   "id": "1a14d0ac-8459-43e1-b1de-03d89d173dd8",
   "metadata": {},
   "outputs": [
    {
     "name": "stdout",
     "output_type": "stream",
     "text": [
      "----XGB----\n",
      "Train Accuracy score: 0.9493148148148148\n",
      "Test Accuracy score: 0.8765\n",
      "              precision    recall  f1-score   support\n",
      "\n",
      "           0       0.81      0.85      0.83       574\n",
      "           1       0.99      0.97      0.98       596\n",
      "           2       0.78      0.79      0.79       573\n",
      "           3       0.89      0.90      0.90       624\n",
      "           4       0.82      0.80      0.81       635\n",
      "           5       0.96      0.93      0.94       632\n",
      "           6       0.69      0.65      0.67       600\n",
      "           7       0.92      0.95      0.94       604\n",
      "           8       0.95      0.97      0.96       598\n",
      "           9       0.95      0.96      0.95       564\n",
      "\n",
      "    accuracy                           0.88      6000\n",
      "   macro avg       0.88      0.88      0.88      6000\n",
      "weighted avg       0.88      0.88      0.88      6000\n",
      "\n"
     ]
    }
   ],
   "source": [
    "# XGB_train_score = accuracy_score(y_train, xgb_train)\n",
    "# XGB_pred_score = accuracy_score(y_val, xgb_pred)\n",
    "\n",
    "# print(\"----XGB----\")\n",
    "# print(\"Train Accuracy score: {}\".format(XGB_train_score))\n",
    "# print(\"Test Accuracy score: {}\".format(XGB_pred_score))\n",
    "# print(classification_report(y_val, xgb_pred))"
   ]
  },
  {
   "cell_type": "code",
   "execution_count": 40,
   "id": "3f5f1b19-a02a-40aa-a04e-f1ac5a7c5dfe",
   "metadata": {},
   "outputs": [
    {
     "name": "stdout",
     "output_type": "stream",
     "text": [
      "----RND----\n",
      "Train Accuracy score: 1.0\n",
      "Test Accuracy score: 0.8593333333333333\n",
      "              precision    recall  f1-score   support\n",
      "\n",
      "           0       0.78      0.84      0.81       574\n",
      "           1       0.99      0.96      0.98       596\n",
      "           2       0.74      0.78      0.76       573\n",
      "           3       0.88      0.89      0.89       624\n",
      "           4       0.78      0.80      0.79       635\n",
      "           5       0.93      0.92      0.93       632\n",
      "           6       0.69      0.57      0.63       600\n",
      "           7       0.92      0.92      0.92       604\n",
      "           8       0.94      0.95      0.94       598\n",
      "           9       0.92      0.95      0.94       564\n",
      "\n",
      "    accuracy                           0.86      6000\n",
      "   macro avg       0.86      0.86      0.86      6000\n",
      "weighted avg       0.86      0.86      0.86      6000\n",
      "\n"
     ]
    }
   ],
   "source": [
    "rnd_train_score = accuracy_score(y_train, rnd_train)\n",
    "rnd_pred_score = accuracy_score(y_val, rnd_pred)\n",
    "\n",
    "print(\"----RND----\")\n",
    "print(\"Train Accuracy score: {}\".format(rnd_train_score))\n",
    "print(\"Test Accuracy score: {}\".format(rnd_pred_score))\n",
    "print(classification_report(y_val, rnd_pred))"
   ]
  },
  {
   "cell_type": "code",
   "execution_count": 41,
   "id": "9e11557f-380d-4fe8-8fb2-b33fe9dd1ed1",
   "metadata": {},
   "outputs": [
    {
     "name": "stdout",
     "output_type": "stream",
     "text": [
      "----VOTING(앙상블)----\n",
      "Train Accuracy score: 0.9924444444444445\n",
      "Test Accuracy score: 0.9096666666666666\n",
      "              precision    recall  f1-score   support\n",
      "\n",
      "           0       0.85      0.85      0.85       574\n",
      "           1       0.99      0.99      0.99       596\n",
      "           2       0.85      0.84      0.84       573\n",
      "           3       0.91      0.94      0.93       624\n",
      "           4       0.86      0.86      0.86       635\n",
      "           5       0.99      0.96      0.97       632\n",
      "           6       0.76      0.74      0.75       600\n",
      "           7       0.95      0.97      0.96       604\n",
      "           8       0.97      0.98      0.97       598\n",
      "           9       0.97      0.96      0.97       564\n",
      "\n",
      "    accuracy                           0.91      6000\n",
      "   macro avg       0.91      0.91      0.91      6000\n",
      "weighted avg       0.91      0.91      0.91      6000\n",
      "\n"
     ]
    }
   ],
   "source": [
    "voting_train_score = accuracy_score(y_train, voting_train)\n",
    "voting_pred_score = accuracy_score(y_val, voting_pred)\n",
    "\n",
    "print(\"----VOTING(앙상블)----\")\n",
    "print(\"Train Accuracy score: {}\".format(voting_train_score))\n",
    "print(\"Test Accuracy score: {}\".format(voting_pred_score))\n",
    "print(classification_report(y_val, voting_pred))"
   ]
  }
 ],
 "metadata": {
  "kernelspec": {
   "display_name": "Python 3 (ipykernel)",
   "language": "python",
   "name": "python3"
  },
  "language_info": {
   "codemirror_mode": {
    "name": "ipython",
    "version": 3
   },
   "file_extension": ".py",
   "mimetype": "text/x-python",
   "name": "python",
   "nbconvert_exporter": "python",
   "pygments_lexer": "ipython3",
   "version": "3.10.2"
  }
 },
 "nbformat": 4,
 "nbformat_minor": 5
}
