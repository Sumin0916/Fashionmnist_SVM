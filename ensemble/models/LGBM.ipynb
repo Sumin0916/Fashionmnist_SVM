{
  "cells": [
    {
      "cell_type": "code",
      "execution_count": 1,
      "metadata": {
        "id": "99IcNqG63q2f"
      },
      "outputs": [],
      "source": [
        "from sklearn.model_selection import train_test_split\n",
        "from sklearn.metrics import accuracy_score\n",
        "import matplotlib.pyplot as plt\n",
        "import seaborn as sns\n",
        "import plotly.graph_objects as go\n",
        "from sklearn.metrics import confusion_matrix\n",
        "from sklearn import metrics\n",
        "from sklearn.decomposition import PCA\n",
        "from sklearn.linear_model import LogisticRegression\n",
        "from sklearn.svm import SVC\n",
        "from sklearn.ensemble import RandomForestClassifier\n",
        "from sklearn import ensemble\n",
        "from xgboost import XGBClassifier\n",
        "import time\n",
        "import pandas as pd\n",
        "import cv2\n",
        "import numpy as np\n",
        "from lightgbm import LGBMClassifier"
      ]
    },
    {
      "cell_type": "code",
      "source": [
        "!pip install catboost\n"
      ],
      "metadata": {
        "colab": {
          "base_uri": "https://localhost:8080/"
        },
        "id": "TnlEphNooa8T",
        "outputId": "93b48c42-52a0-4377-8d58-42e19b014224"
      },
      "execution_count": 2,
      "outputs": [
        {
          "output_type": "stream",
          "name": "stdout",
          "text": [
            "Requirement already satisfied: catboost in /usr/local/lib/python3.10/dist-packages (1.2.2)\n",
            "Requirement already satisfied: graphviz in /usr/local/lib/python3.10/dist-packages (from catboost) (0.20.1)\n",
            "Requirement already satisfied: matplotlib in /usr/local/lib/python3.10/dist-packages (from catboost) (3.7.1)\n",
            "Requirement already satisfied: numpy>=1.16.0 in /usr/local/lib/python3.10/dist-packages (from catboost) (1.23.5)\n",
            "Requirement already satisfied: pandas>=0.24 in /usr/local/lib/python3.10/dist-packages (from catboost) (1.5.3)\n",
            "Requirement already satisfied: scipy in /usr/local/lib/python3.10/dist-packages (from catboost) (1.11.3)\n",
            "Requirement already satisfied: plotly in /usr/local/lib/python3.10/dist-packages (from catboost) (5.15.0)\n",
            "Requirement already satisfied: six in /usr/local/lib/python3.10/dist-packages (from catboost) (1.16.0)\n",
            "Requirement already satisfied: python-dateutil>=2.8.1 in /usr/local/lib/python3.10/dist-packages (from pandas>=0.24->catboost) (2.8.2)\n",
            "Requirement already satisfied: pytz>=2020.1 in /usr/local/lib/python3.10/dist-packages (from pandas>=0.24->catboost) (2023.3.post1)\n",
            "Requirement already satisfied: contourpy>=1.0.1 in /usr/local/lib/python3.10/dist-packages (from matplotlib->catboost) (1.2.0)\n",
            "Requirement already satisfied: cycler>=0.10 in /usr/local/lib/python3.10/dist-packages (from matplotlib->catboost) (0.12.1)\n",
            "Requirement already satisfied: fonttools>=4.22.0 in /usr/local/lib/python3.10/dist-packages (from matplotlib->catboost) (4.44.3)\n",
            "Requirement already satisfied: kiwisolver>=1.0.1 in /usr/local/lib/python3.10/dist-packages (from matplotlib->catboost) (1.4.5)\n",
            "Requirement already satisfied: packaging>=20.0 in /usr/local/lib/python3.10/dist-packages (from matplotlib->catboost) (23.2)\n",
            "Requirement already satisfied: pillow>=6.2.0 in /usr/local/lib/python3.10/dist-packages (from matplotlib->catboost) (9.4.0)\n",
            "Requirement already satisfied: pyparsing>=2.3.1 in /usr/local/lib/python3.10/dist-packages (from matplotlib->catboost) (3.1.1)\n",
            "Requirement already satisfied: tenacity>=6.2.0 in /usr/local/lib/python3.10/dist-packages (from plotly->catboost) (8.2.3)\n"
          ]
        }
      ]
    },
    {
      "cell_type": "code",
      "execution_count": 3,
      "metadata": {
        "id": "emy5HT1T3q2h"
      },
      "outputs": [],
      "source": [
        "import warnings\n",
        "warnings.filterwarnings(action='ignore', category=UserWarning)"
      ]
    },
    {
      "cell_type": "code",
      "execution_count": 4,
      "metadata": {
        "id": "XLy3i9aa3q2i",
        "colab": {
          "base_uri": "https://localhost:8080/"
        },
        "outputId": "da7ab768-919b-407d-b049-6b151595e1f9"
      },
      "outputs": [
        {
          "output_type": "execute_result",
          "data": {
            "text/plain": [
              "0"
            ]
          },
          "metadata": {},
          "execution_count": 4
        }
      ],
      "source": [
        "\n",
        "train = pd.read_csv('fashion-mnist_train.csv')\n",
        "test = pd.read_csv('fashion-mnist_test.csv')\n",
        "train.isnull().any().sum()\n",
        "test.isnull().any().sum()"
      ]
    },
    {
      "cell_type": "code",
      "source": [
        "train.shape"
      ],
      "metadata": {
        "colab": {
          "base_uri": "https://localhost:8080/"
        },
        "id": "KWjNSFKVe7lT",
        "outputId": "e68485af-de92-4ce5-ab26-56d96cc82e20"
      },
      "execution_count": 5,
      "outputs": [
        {
          "output_type": "execute_result",
          "data": {
            "text/plain": [
              "(60000, 785)"
            ]
          },
          "metadata": {},
          "execution_count": 5
        }
      ]
    },
    {
      "cell_type": "code",
      "source": [
        "test.shape"
      ],
      "metadata": {
        "colab": {
          "base_uri": "https://localhost:8080/"
        },
        "id": "pPJvXgI0e8Rw",
        "outputId": "2d80fc20-065d-4a6d-f02a-8a452083fba9"
      },
      "execution_count": 6,
      "outputs": [
        {
          "output_type": "execute_result",
          "data": {
            "text/plain": [
              "(10000, 785)"
            ]
          },
          "metadata": {},
          "execution_count": 6
        }
      ]
    },
    {
      "cell_type": "code",
      "execution_count": 7,
      "metadata": {
        "id": "xy95owsr3q2i"
      },
      "outputs": [],
      "source": [
        "df_train = train.copy()\n",
        "df_test = test.copy()"
      ]
    },
    {
      "cell_type": "code",
      "execution_count": 8,
      "metadata": {
        "id": "yyYLogAI3q2i"
      },
      "outputs": [],
      "source": [
        "X_train= df_train.drop(['label'],axis = 1)\n",
        "X_label = df_train['label']\n",
        "y_test = df_test.drop(['label'],axis = 1)\n",
        "y_label = df_test['label']\n",
        "\n",
        "X_train = X_train.astype('float32')\n",
        "y_test = y_test.astype('float32')\n",
        "X_train /= 255.0\n",
        "y_test /=255.0"
      ]
    },
    {
      "cell_type": "code",
      "source": [
        "# X_train과 X_label을 하나의 데이터 프레임으로 합침\n",
        "df_train = pd.concat([X_train, X_label], axis=1)\n",
        "\n",
        "# 데이터 프레임을 섞음\n",
        "df_train = df_train.sample(frac=1, random_state=42)\n",
        "\n",
        "# 섞인 데이터 프레임에서 훈련 데이터와 레이블을 다시 분리\n",
        "X_train = df_train.drop(['label'], axis=1)\n",
        "X_label = df_train['label']"
      ],
      "metadata": {
        "id": "QO0OCJA_eXnl"
      },
      "execution_count": 9,
      "outputs": []
    },
    {
      "cell_type": "code",
      "source": [
        "X_label = X_label.values # change to array for mAP"
      ],
      "metadata": {
        "id": "s8vm0HfFcw3c"
      },
      "execution_count": 10,
      "outputs": []
    },
    {
      "cell_type": "code",
      "source": [
        "y_label = y_label.values # change to array for mAP"
      ],
      "metadata": {
        "id": "xwnPE--Gbuml"
      },
      "execution_count": 11,
      "outputs": []
    },
    {
      "cell_type": "markdown",
      "source": [],
      "metadata": {
        "id": "UjPSuUvoyAzc"
      }
    },
    {
      "cell_type": "code",
      "source": [
        "from sklearn.metrics import auc\n",
        "from collections import Counter\n",
        "def calculate_mAP(preds,label):\n",
        "    ## mAP calculation\n",
        "    AP = []\n",
        "    num_class = 10\n",
        "    predict_label_count_dict = Counter(preds)\n",
        "    predict_label_count_dict = dict(sorted(predict_label_count_dict.items()))\n",
        "\n",
        "    # For each class\n",
        "    for c, freq in predict_label_count_dict.items() :\n",
        "        TP = 0\n",
        "        FN = 0\n",
        "\n",
        "        temp_precision = []\n",
        "        temp_recall = []\n",
        "\n",
        "        for i in range(len(preds)):\n",
        "            # Calculate TP and FN\n",
        "            if label[i] == c and preds[i] == c :\n",
        "                TP += 1\n",
        "            elif label[i] != c and preds[i] == c :\n",
        "                FN += 1\n",
        "\n",
        "            # Calculate precision and recall\n",
        "            if TP+FN != 0:\n",
        "                temp_precision.append(TP/(TP+FN))\n",
        "                temp_recall.append(TP/freq)\n",
        "\n",
        "        # Save the AP value of each class to AP array\n",
        "        AP.append(auc(temp_recall, temp_precision))\n",
        "\n",
        "    # Calculate mAP\n",
        "    mAP = sum(AP) / num_class\n",
        "\n",
        "    return mAP\n"
      ],
      "metadata": {
        "id": "r-vbHvqeQ_5Z"
      },
      "execution_count": 12,
      "outputs": []
    },
    {
      "cell_type": "code",
      "source": [
        "pca = PCA(n_components=400)\n",
        "pca.fit(X_train)\n",
        "X_train_pca = pca.transform(X_train)\n",
        "y_test_pca = pca.transform(y_test)\n",
        "\n",
        "X_train_PCA1 = pd.DataFrame(X_train_pca)\n",
        "X_test_PCA1 = pd.DataFrame(y_test_pca)"
      ],
      "metadata": {
        "id": "UBqdMEFvpFEj"
      },
      "execution_count": 13,
      "outputs": []
    },
    {
      "cell_type": "code",
      "source": [
        "# 모델 생성 및 학습\n",
        "lgbm_model = LGBMClassifier(\n",
        "    n_estimators=839,\n",
        "    num_leaves=4,\n",
        "    min_child_samples=6,\n",
        "    learning_rate=0.17305095027775025,\n",
        "    max_bin=1024,  # log_max_bin을 10으로 설정했으므로, max_bin은 2^10인 1024가 됩니다.\n",
        "    colsample_bytree=0.8717502271722275,\n",
        "    reg_alpha=0.036114468962103394,\n",
        "    reg_lambda=0.23607505416113697,\n",
        ")\n",
        "lgbm_model.fit(X_train_PCA1, X_label)"
      ],
      "metadata": {
        "colab": {
          "base_uri": "https://localhost:8080/",
          "height": 380
        },
        "id": "BWkDEEDKJQ_H",
        "outputId": "33a2d6f2-7c20-45b4-9fb5-3342d09fb7ec"
      },
      "execution_count": 14,
      "outputs": [
        {
          "output_type": "stream",
          "name": "stdout",
          "text": [
            "[LightGBM] [Info] Auto-choosing col-wise multi-threading, the overhead of testing was 0.430496 seconds.\n",
            "You can set `force_col_wise=true` to remove the overhead.\n",
            "[LightGBM] [Info] Total Bins 409600\n",
            "[LightGBM] [Info] Number of data points in the train set: 60000, number of used features: 400\n",
            "[LightGBM] [Info] Start training from score -2.302585\n",
            "[LightGBM] [Info] Start training from score -2.302585\n",
            "[LightGBM] [Info] Start training from score -2.302585\n",
            "[LightGBM] [Info] Start training from score -2.302585\n",
            "[LightGBM] [Info] Start training from score -2.302585\n",
            "[LightGBM] [Info] Start training from score -2.302585\n",
            "[LightGBM] [Info] Start training from score -2.302585\n",
            "[LightGBM] [Info] Start training from score -2.302585\n",
            "[LightGBM] [Info] Start training from score -2.302585\n",
            "[LightGBM] [Info] Start training from score -2.302585\n"
          ]
        },
        {
          "output_type": "execute_result",
          "data": {
            "text/plain": [
              "LGBMClassifier(colsample_bytree=0.8717502271722275,\n",
              "               learning_rate=0.17305095027775025, max_bin=1024,\n",
              "               min_child_samples=6, n_estimators=839, num_leaves=4,\n",
              "               reg_alpha=0.036114468962103394, reg_lambda=0.23607505416113697)"
            ],
            "text/html": [
              "<style>#sk-container-id-1 {color: black;background-color: white;}#sk-container-id-1 pre{padding: 0;}#sk-container-id-1 div.sk-toggleable {background-color: white;}#sk-container-id-1 label.sk-toggleable__label {cursor: pointer;display: block;width: 100%;margin-bottom: 0;padding: 0.3em;box-sizing: border-box;text-align: center;}#sk-container-id-1 label.sk-toggleable__label-arrow:before {content: \"▸\";float: left;margin-right: 0.25em;color: #696969;}#sk-container-id-1 label.sk-toggleable__label-arrow:hover:before {color: black;}#sk-container-id-1 div.sk-estimator:hover label.sk-toggleable__label-arrow:before {color: black;}#sk-container-id-1 div.sk-toggleable__content {max-height: 0;max-width: 0;overflow: hidden;text-align: left;background-color: #f0f8ff;}#sk-container-id-1 div.sk-toggleable__content pre {margin: 0.2em;color: black;border-radius: 0.25em;background-color: #f0f8ff;}#sk-container-id-1 input.sk-toggleable__control:checked~div.sk-toggleable__content {max-height: 200px;max-width: 100%;overflow: auto;}#sk-container-id-1 input.sk-toggleable__control:checked~label.sk-toggleable__label-arrow:before {content: \"▾\";}#sk-container-id-1 div.sk-estimator input.sk-toggleable__control:checked~label.sk-toggleable__label {background-color: #d4ebff;}#sk-container-id-1 div.sk-label input.sk-toggleable__control:checked~label.sk-toggleable__label {background-color: #d4ebff;}#sk-container-id-1 input.sk-hidden--visually {border: 0;clip: rect(1px 1px 1px 1px);clip: rect(1px, 1px, 1px, 1px);height: 1px;margin: -1px;overflow: hidden;padding: 0;position: absolute;width: 1px;}#sk-container-id-1 div.sk-estimator {font-family: monospace;background-color: #f0f8ff;border: 1px dotted black;border-radius: 0.25em;box-sizing: border-box;margin-bottom: 0.5em;}#sk-container-id-1 div.sk-estimator:hover {background-color: #d4ebff;}#sk-container-id-1 div.sk-parallel-item::after {content: \"\";width: 100%;border-bottom: 1px solid gray;flex-grow: 1;}#sk-container-id-1 div.sk-label:hover label.sk-toggleable__label {background-color: #d4ebff;}#sk-container-id-1 div.sk-serial::before {content: \"\";position: absolute;border-left: 1px solid gray;box-sizing: border-box;top: 0;bottom: 0;left: 50%;z-index: 0;}#sk-container-id-1 div.sk-serial {display: flex;flex-direction: column;align-items: center;background-color: white;padding-right: 0.2em;padding-left: 0.2em;position: relative;}#sk-container-id-1 div.sk-item {position: relative;z-index: 1;}#sk-container-id-1 div.sk-parallel {display: flex;align-items: stretch;justify-content: center;background-color: white;position: relative;}#sk-container-id-1 div.sk-item::before, #sk-container-id-1 div.sk-parallel-item::before {content: \"\";position: absolute;border-left: 1px solid gray;box-sizing: border-box;top: 0;bottom: 0;left: 50%;z-index: -1;}#sk-container-id-1 div.sk-parallel-item {display: flex;flex-direction: column;z-index: 1;position: relative;background-color: white;}#sk-container-id-1 div.sk-parallel-item:first-child::after {align-self: flex-end;width: 50%;}#sk-container-id-1 div.sk-parallel-item:last-child::after {align-self: flex-start;width: 50%;}#sk-container-id-1 div.sk-parallel-item:only-child::after {width: 0;}#sk-container-id-1 div.sk-dashed-wrapped {border: 1px dashed gray;margin: 0 0.4em 0.5em 0.4em;box-sizing: border-box;padding-bottom: 0.4em;background-color: white;}#sk-container-id-1 div.sk-label label {font-family: monospace;font-weight: bold;display: inline-block;line-height: 1.2em;}#sk-container-id-1 div.sk-label-container {text-align: center;}#sk-container-id-1 div.sk-container {/* jupyter's `normalize.less` sets `[hidden] { display: none; }` but bootstrap.min.css set `[hidden] { display: none !important; }` so we also need the `!important` here to be able to override the default hidden behavior on the sphinx rendered scikit-learn.org. See: https://github.com/scikit-learn/scikit-learn/issues/21755 */display: inline-block !important;position: relative;}#sk-container-id-1 div.sk-text-repr-fallback {display: none;}</style><div id=\"sk-container-id-1\" class=\"sk-top-container\"><div class=\"sk-text-repr-fallback\"><pre>LGBMClassifier(colsample_bytree=0.8717502271722275,\n",
              "               learning_rate=0.17305095027775025, max_bin=1024,\n",
              "               min_child_samples=6, n_estimators=839, num_leaves=4,\n",
              "               reg_alpha=0.036114468962103394, reg_lambda=0.23607505416113697)</pre><b>In a Jupyter environment, please rerun this cell to show the HTML representation or trust the notebook. <br />On GitHub, the HTML representation is unable to render, please try loading this page with nbviewer.org.</b></div><div class=\"sk-container\" hidden><div class=\"sk-item\"><div class=\"sk-estimator sk-toggleable\"><input class=\"sk-toggleable__control sk-hidden--visually\" id=\"sk-estimator-id-1\" type=\"checkbox\" checked><label for=\"sk-estimator-id-1\" class=\"sk-toggleable__label sk-toggleable__label-arrow\">LGBMClassifier</label><div class=\"sk-toggleable__content\"><pre>LGBMClassifier(colsample_bytree=0.8717502271722275,\n",
              "               learning_rate=0.17305095027775025, max_bin=1024,\n",
              "               min_child_samples=6, n_estimators=839, num_leaves=4,\n",
              "               reg_alpha=0.036114468962103394, reg_lambda=0.23607505416113697)</pre></div></div></div></div></div>"
            ]
          },
          "metadata": {},
          "execution_count": 14
        }
      ]
    },
    {
      "cell_type": "code",
      "source": [
        "lgbm_model_train = lgbm_model.predict(X_train_PCA1)\n",
        "lgbm_model_pred = lgbm_model.predict(X_test_PCA1)\n"
      ],
      "metadata": {
        "id": "wlPC0R-hJ_LJ"
      },
      "execution_count": 15,
      "outputs": []
    },
    {
      "cell_type": "code",
      "source": [
        "from sklearn.metrics import classification_report\n",
        "lgbm_train_score = accuracy_score(X_label, lgbm_model_train)\n",
        "lgbm_pred_score = accuracy_score(y_label, lgbm_model_pred)\n",
        "\n",
        "print(\"----LGBM----\")\n",
        "print(\"Train Accuracy score: {}\".format(lgbm_train_score))\n",
        "print(\"Test Accuracy score: {}\".format(lgbm_pred_score))\n",
        "print(classification_report(y_label, lgbm_model_pred))"
      ],
      "metadata": {
        "colab": {
          "base_uri": "https://localhost:8080/"
        },
        "id": "1-BfluPXKHYQ",
        "outputId": "1e491d0e-284f-40ba-b309-5f7b8d171c32"
      },
      "execution_count": 17,
      "outputs": [
        {
          "output_type": "stream",
          "name": "stdout",
          "text": [
            "----LGBM----\n",
            "Train Accuracy score: 0.9886\n",
            "Test Accuracy score: 0.8861\n",
            "              precision    recall  f1-score   support\n",
            "\n",
            "           0       0.82      0.85      0.83      1000\n",
            "           1       0.99      0.97      0.98      1000\n",
            "           2       0.82      0.80      0.81      1000\n",
            "           3       0.90      0.91      0.91      1000\n",
            "           4       0.82      0.84      0.83      1000\n",
            "           5       0.97      0.94      0.95      1000\n",
            "           6       0.71      0.69      0.70      1000\n",
            "           7       0.92      0.93      0.93      1000\n",
            "           8       0.97      0.97      0.97      1000\n",
            "           9       0.94      0.96      0.95      1000\n",
            "\n",
            "    accuracy                           0.89     10000\n",
            "   macro avg       0.89      0.89      0.89     10000\n",
            "weighted avg       0.89      0.89      0.89     10000\n",
            "\n"
          ]
        }
      ]
    },
    {
      "cell_type": "code",
      "source": [
        "# lgbm_model_train = lgbm_model.flatten()\n",
        "# lgbm_model_pred = lgbm_model.flatten()\n",
        "map_train = calculate_mAP(lgbm_model_train,X_label)\n",
        "map_test = calculate_mAP(lgbm_model_pred,y_label)\n",
        "print(\"Train Map score: {}\".format(map_train))\n",
        "print(\"Test Map score: {}\".format(map_test))"
      ],
      "metadata": {
        "colab": {
          "base_uri": "https://localhost:8080/"
        },
        "id": "1bvuVByZKIGf",
        "outputId": "53379c21-410a-4117-9858-d49488c5a4a1"
      },
      "execution_count": 20,
      "outputs": [
        {
          "output_type": "stream",
          "name": "stdout",
          "text": [
            "Train Map score: 0.9777866931403822\n",
            "Test Map score: 0.7913655026678837\n"
          ]
        }
      ]
    }
  ],
  "metadata": {
    "kernelspec": {
      "display_name": "ml",
      "language": "python",
      "name": "python3"
    },
    "language_info": {
      "codemirror_mode": {
        "name": "ipython",
        "version": 3
      },
      "file_extension": ".py",
      "mimetype": "text/x-python",
      "name": "python",
      "nbconvert_exporter": "python",
      "pygments_lexer": "ipython3",
      "version": "3.9.13"
    },
    "colab": {
      "provenance": []
    }
  },
  "nbformat": 4,
  "nbformat_minor": 0
}
