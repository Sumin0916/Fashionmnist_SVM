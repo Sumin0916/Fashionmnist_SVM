{
  "cells": [
    {
      "cell_type": "code",
      "execution_count": 1,
      "metadata": {
        "id": "99IcNqG63q2f"
      },
      "outputs": [],
      "source": [
        "from sklearn.model_selection import train_test_split\n",
        "from sklearn.metrics import accuracy_score\n",
        "import matplotlib.pyplot as plt\n",
        "import seaborn as sns\n",
        "import plotly.graph_objects as go\n",
        "from sklearn.metrics import confusion_matrix\n",
        "from sklearn import metrics\n",
        "from sklearn.decomposition import PCA\n",
        "from sklearn.linear_model import LogisticRegression\n",
        "from sklearn.svm import SVC\n",
        "from sklearn.ensemble import RandomForestClassifier\n",
        "from sklearn import ensemble\n",
        "from xgboost import XGBClassifier\n",
        "import time\n",
        "import pandas as pd\n",
        "import cv2\n",
        "import numpy as np\n",
        "from lightgbm import LGBMClassifier"
      ]
    },
    {
      "cell_type": "code",
      "source": [
        "!pip install catboost\n"
      ],
      "metadata": {
        "colab": {
          "base_uri": "https://localhost:8080/"
        },
        "id": "TnlEphNooa8T",
        "outputId": "93b48c42-52a0-4377-8d58-42e19b014224"
      },
      "execution_count": 2,
      "outputs": [
        {
          "output_type": "stream",
          "name": "stdout",
          "text": [
            "Requirement already satisfied: catboost in /usr/local/lib/python3.10/dist-packages (1.2.2)\n",
            "Requirement already satisfied: graphviz in /usr/local/lib/python3.10/dist-packages (from catboost) (0.20.1)\n",
            "Requirement already satisfied: matplotlib in /usr/local/lib/python3.10/dist-packages (from catboost) (3.7.1)\n",
            "Requirement already satisfied: numpy>=1.16.0 in /usr/local/lib/python3.10/dist-packages (from catboost) (1.23.5)\n",
            "Requirement already satisfied: pandas>=0.24 in /usr/local/lib/python3.10/dist-packages (from catboost) (1.5.3)\n",
            "Requirement already satisfied: scipy in /usr/local/lib/python3.10/dist-packages (from catboost) (1.11.3)\n",
            "Requirement already satisfied: plotly in /usr/local/lib/python3.10/dist-packages (from catboost) (5.15.0)\n",
            "Requirement already satisfied: six in /usr/local/lib/python3.10/dist-packages (from catboost) (1.16.0)\n",
            "Requirement already satisfied: python-dateutil>=2.8.1 in /usr/local/lib/python3.10/dist-packages (from pandas>=0.24->catboost) (2.8.2)\n",
            "Requirement already satisfied: pytz>=2020.1 in /usr/local/lib/python3.10/dist-packages (from pandas>=0.24->catboost) (2023.3.post1)\n",
            "Requirement already satisfied: contourpy>=1.0.1 in /usr/local/lib/python3.10/dist-packages (from matplotlib->catboost) (1.2.0)\n",
            "Requirement already satisfied: cycler>=0.10 in /usr/local/lib/python3.10/dist-packages (from matplotlib->catboost) (0.12.1)\n",
            "Requirement already satisfied: fonttools>=4.22.0 in /usr/local/lib/python3.10/dist-packages (from matplotlib->catboost) (4.44.3)\n",
            "Requirement already satisfied: kiwisolver>=1.0.1 in /usr/local/lib/python3.10/dist-packages (from matplotlib->catboost) (1.4.5)\n",
            "Requirement already satisfied: packaging>=20.0 in /usr/local/lib/python3.10/dist-packages (from matplotlib->catboost) (23.2)\n",
            "Requirement already satisfied: pillow>=6.2.0 in /usr/local/lib/python3.10/dist-packages (from matplotlib->catboost) (9.4.0)\n",
            "Requirement already satisfied: pyparsing>=2.3.1 in /usr/local/lib/python3.10/dist-packages (from matplotlib->catboost) (3.1.1)\n",
            "Requirement already satisfied: tenacity>=6.2.0 in /usr/local/lib/python3.10/dist-packages (from plotly->catboost) (8.2.3)\n"
          ]
        }
      ]
    },
    {
      "cell_type": "code",
      "execution_count": 3,
      "metadata": {
        "id": "emy5HT1T3q2h"
      },
      "outputs": [],
      "source": [
        "import warnings\n",
        "warnings.filterwarnings(action='ignore', category=UserWarning)"
      ]
    },
    {
      "cell_type": "code",
      "execution_count": 4,
      "metadata": {
        "id": "XLy3i9aa3q2i",
        "colab": {
          "base_uri": "https://localhost:8080/"
        },
        "outputId": "da7ab768-919b-407d-b049-6b151595e1f9"
      },
      "outputs": [
        {
          "output_type": "execute_result",
          "data": {
            "text/plain": [
              "0"
            ]
          },
          "metadata": {},
          "execution_count": 4
        }
      ],
      "source": [
        "\n",
        "train = pd.read_csv('fashion-mnist_train.csv')\n",
        "test = pd.read_csv('fashion-mnist_test.csv')\n",
        "train.isnull().any().sum()\n",
        "test.isnull().any().sum()"
      ]
    },
    {
      "cell_type": "code",
      "source": [
        "train.shape"
      ],
      "metadata": {
        "colab": {
          "base_uri": "https://localhost:8080/"
        },
        "id": "KWjNSFKVe7lT",
        "outputId": "e68485af-de92-4ce5-ab26-56d96cc82e20"
      },
      "execution_count": 5,
      "outputs": [
        {
          "output_type": "execute_result",
          "data": {
            "text/plain": [
              "(60000, 785)"
            ]
          },
          "metadata": {},
          "execution_count": 5
        }
      ]
    },
    {
      "cell_type": "code",
      "source": [
        "test.shape"
      ],
      "metadata": {
        "colab": {
          "base_uri": "https://localhost:8080/"
        },
        "id": "pPJvXgI0e8Rw",
        "outputId": "2d80fc20-065d-4a6d-f02a-8a452083fba9"
      },
      "execution_count": 6,
      "outputs": [
        {
          "output_type": "execute_result",
          "data": {
            "text/plain": [
              "(10000, 785)"
            ]
          },
          "metadata": {},
          "execution_count": 6
        }
      ]
    },
    {
      "cell_type": "code",
      "execution_count": 7,
      "metadata": {
        "id": "xy95owsr3q2i"
      },
      "outputs": [],
      "source": [
        "df_train = train.copy()\n",
        "df_test = test.copy()"
      ]
    },
    {
      "cell_type": "code",
      "execution_count": 8,
      "metadata": {
        "id": "yyYLogAI3q2i"
      },
      "outputs": [],
      "source": [
        "X_train= df_train.drop(['label'],axis = 1)\n",
        "X_label = df_train['label']\n",
        "y_test = df_test.drop(['label'],axis = 1)\n",
        "y_label = df_test['label']\n",
        "\n",
        "X_train = X_train.astype('float32')\n",
        "y_test = y_test.astype('float32')\n",
        "X_train /= 255.0\n",
        "y_test /=255.0"
      ]
    },
    {
      "cell_type": "code",
      "source": [
        "# X_train과 X_label을 하나의 데이터 프레임으로 합침\n",
        "df_train = pd.concat([X_train, X_label], axis=1)\n",
        "\n",
        "# 데이터 프레임을 섞음\n",
        "df_train = df_train.sample(frac=1, random_state=42)\n",
        "\n",
        "# 섞인 데이터 프레임에서 훈련 데이터와 레이블을 다시 분리\n",
        "X_train = df_train.drop(['label'], axis=1)\n",
        "X_label = df_train['label']"
      ],
      "metadata": {
        "id": "QO0OCJA_eXnl"
      },
      "execution_count": 9,
      "outputs": []
    },
    {
      "cell_type": "code",
      "source": [
        "X_label = X_label.values # change to array for mAP"
      ],
      "metadata": {
        "id": "s8vm0HfFcw3c"
      },
      "execution_count": 10,
      "outputs": []
    },
    {
      "cell_type": "code",
      "source": [
        "y_label = y_label.values # change to array for mAP"
      ],
      "metadata": {
        "id": "xwnPE--Gbuml"
      },
      "execution_count": 11,
      "outputs": []
    },
    {
      "cell_type": "markdown",
      "source": [],
      "metadata": {
        "id": "UjPSuUvoyAzc"
      }
    },
    {
      "cell_type": "code",
      "source": [
        "from sklearn.metrics import auc\n",
        "from collections import Counter\n",
        "def calculate_mAP(preds,label):\n",
        "    ## mAP calculation\n",
        "    AP = []\n",
        "    num_class = 10\n",
        "    predict_label_count_dict = Counter(preds)\n",
        "    predict_label_count_dict = dict(sorted(predict_label_count_dict.items()))\n",
        "\n",
        "    # For each class\n",
        "    for c, freq in predict_label_count_dict.items() :\n",
        "        TP = 0\n",
        "        FN = 0\n",
        "\n",
        "        temp_precision = []\n",
        "        temp_recall = []\n",
        "\n",
        "        for i in range(len(preds)):\n",
        "            # Calculate TP and FN\n",
        "            if label[i] == c and preds[i] == c :\n",
        "                TP += 1\n",
        "            elif label[i] != c and preds[i] == c :\n",
        "                FN += 1\n",
        "\n",
        "            # Calculate precision and recall\n",
        "            if TP+FN != 0:\n",
        "                temp_precision.append(TP/(TP+FN))\n",
        "                temp_recall.append(TP/freq)\n",
        "\n",
        "        # Save the AP value of each class to AP array\n",
        "        AP.append(auc(temp_recall, temp_precision))\n",
        "\n",
        "    # Calculate mAP\n",
        "    mAP = sum(AP) / num_class\n",
        "\n",
        "    return mAP\n"
      ],
      "metadata": {
        "id": "r-vbHvqeQ_5Z"
      },
      "execution_count": 12,
      "outputs": []
    },
    {
      "cell_type": "code",
      "source": [
        "pca = PCA(n_components=400)\n",
        "pca.fit(X_train)\n",
        "X_train_pca = pca.transform(X_train)\n",
        "y_test_pca = pca.transform(y_test)\n",
        "\n",
        "X_train_PCA1 = pd.DataFrame(X_train_pca)\n",
        "X_test_PCA1 = pd.DataFrame(y_test_pca)"
      ],
      "metadata": {
        "id": "UBqdMEFvpFEj"
      },
      "execution_count": 13,
      "outputs": []
    },
    {
      "cell_type": "code",
      "source": [
        "from catboost import CatBoostClassifier\n",
        "\n",
        "# CatBoost 모델을 생성합니다.\n",
        "catboost_model = CatBoostClassifier(iterations=100, learning_rate=0.3, depth=6)\n",
        "\n",
        "# 모델을 학습합니다.\n",
        "catboost_model.fit(X_train_pca, X_label)\n",
        "\n",
        "# 학습한 모델로 예측을 수행합니다.\n",
        "catboost_train = catboost_model.predict(X_train_pca)\n",
        "catboost_pred = catboost_model.predict(y_test_pca)"
      ],
      "metadata": {
        "colab": {
          "base_uri": "https://localhost:8080/"
        },
        "id": "ViJFv-0ar1J8",
        "outputId": "397dce8d-c298-47e6-983e-2de53e7399a4"
      },
      "execution_count": 41,
      "outputs": [
        {
          "output_type": "stream",
          "name": "stdout",
          "text": [
            "0:\tlearn: 1.4738974\ttotal: 6.25s\tremaining: 10m 18s\n",
            "1:\tlearn: 1.2046460\ttotal: 10.1s\tremaining: 8m 16s\n",
            "2:\tlearn: 1.0607746\ttotal: 13.5s\tremaining: 7m 15s\n",
            "3:\tlearn: 0.9610912\ttotal: 19.1s\tremaining: 7m 39s\n",
            "4:\tlearn: 0.8890069\ttotal: 22.4s\tremaining: 7m 5s\n",
            "5:\tlearn: 0.8328360\ttotal: 27.2s\tremaining: 7m 6s\n",
            "6:\tlearn: 0.7836458\ttotal: 35.2s\tremaining: 7m 47s\n",
            "7:\tlearn: 0.7501924\ttotal: 40.2s\tremaining: 7m 41s\n",
            "8:\tlearn: 0.7172807\ttotal: 44.5s\tremaining: 7m 29s\n",
            "9:\tlearn: 0.6822815\ttotal: 50s\tremaining: 7m 29s\n",
            "10:\tlearn: 0.6578114\ttotal: 53.3s\tremaining: 7m 11s\n",
            "11:\tlearn: 0.6342439\ttotal: 56.6s\tremaining: 6m 55s\n",
            "12:\tlearn: 0.6153800\ttotal: 1m\tremaining: 6m 44s\n",
            "13:\tlearn: 0.6007533\ttotal: 1m 5s\tremaining: 6m 42s\n",
            "14:\tlearn: 0.5834019\ttotal: 1m 8s\tremaining: 6m 30s\n",
            "15:\tlearn: 0.5676447\ttotal: 1m 12s\tremaining: 6m 19s\n",
            "16:\tlearn: 0.5581848\ttotal: 1m 16s\tremaining: 6m 13s\n",
            "17:\tlearn: 0.5481068\ttotal: 1m 21s\tremaining: 6m 10s\n",
            "18:\tlearn: 0.5358196\ttotal: 1m 24s\tremaining: 6m 1s\n",
            "19:\tlearn: 0.5287516\ttotal: 1m 28s\tremaining: 5m 52s\n",
            "20:\tlearn: 0.5210451\ttotal: 1m 33s\tremaining: 5m 50s\n",
            "21:\tlearn: 0.5117022\ttotal: 1m 37s\tremaining: 5m 44s\n",
            "22:\tlearn: 0.5049072\ttotal: 1m 40s\tremaining: 5m 36s\n",
            "23:\tlearn: 0.4952821\ttotal: 1m 43s\tremaining: 5m 28s\n",
            "24:\tlearn: 0.4891494\ttotal: 1m 48s\tremaining: 5m 26s\n",
            "25:\tlearn: 0.4840049\ttotal: 1m 52s\tremaining: 5m 20s\n",
            "26:\tlearn: 0.4785440\ttotal: 1m 56s\tremaining: 5m 13s\n",
            "27:\tlearn: 0.4732593\ttotal: 1m 59s\tremaining: 5m 7s\n",
            "28:\tlearn: 0.4683035\ttotal: 2m 4s\tremaining: 5m 5s\n",
            "29:\tlearn: 0.4641182\ttotal: 2m 8s\tremaining: 4m 59s\n",
            "30:\tlearn: 0.4571246\ttotal: 2m 11s\tremaining: 4m 53s\n",
            "31:\tlearn: 0.4535737\ttotal: 2m 14s\tremaining: 4m 46s\n",
            "32:\tlearn: 0.4501231\ttotal: 2m 20s\tremaining: 4m 45s\n",
            "33:\tlearn: 0.4474806\ttotal: 2m 23s\tremaining: 4m 39s\n",
            "34:\tlearn: 0.4439352\ttotal: 2m 27s\tremaining: 4m 33s\n",
            "35:\tlearn: 0.4394761\ttotal: 2m 31s\tremaining: 4m 28s\n",
            "36:\tlearn: 0.4350792\ttotal: 2m 36s\tremaining: 4m 26s\n",
            "37:\tlearn: 0.4316639\ttotal: 2m 39s\tremaining: 4m 20s\n",
            "38:\tlearn: 0.4263588\ttotal: 2m 43s\tremaining: 4m 15s\n",
            "39:\tlearn: 0.4231931\ttotal: 2m 47s\tremaining: 4m 10s\n",
            "40:\tlearn: 0.4183997\ttotal: 2m 52s\tremaining: 4m 7s\n",
            "41:\tlearn: 0.4163393\ttotal: 2m 55s\tremaining: 4m 2s\n",
            "42:\tlearn: 0.4121207\ttotal: 2m 58s\tremaining: 3m 56s\n",
            "43:\tlearn: 0.4097437\ttotal: 3m 2s\tremaining: 3m 52s\n",
            "44:\tlearn: 0.4058785\ttotal: 3m 7s\tremaining: 3m 49s\n",
            "45:\tlearn: 0.4040259\ttotal: 3m 10s\tremaining: 3m 44s\n",
            "46:\tlearn: 0.3996515\ttotal: 3m 14s\tremaining: 3m 39s\n",
            "47:\tlearn: 0.3966531\ttotal: 3m 18s\tremaining: 3m 34s\n",
            "48:\tlearn: 0.3939188\ttotal: 3m 23s\tremaining: 3m 31s\n",
            "49:\tlearn: 0.3906115\ttotal: 3m 26s\tremaining: 3m 26s\n",
            "50:\tlearn: 0.3885528\ttotal: 3m 29s\tremaining: 3m 21s\n",
            "51:\tlearn: 0.3866205\ttotal: 3m 33s\tremaining: 3m 17s\n",
            "52:\tlearn: 0.3850626\ttotal: 3m 38s\tremaining: 3m 13s\n",
            "53:\tlearn: 0.3834864\ttotal: 3m 41s\tremaining: 3m 8s\n",
            "54:\tlearn: 0.3810856\ttotal: 3m 44s\tremaining: 3m 3s\n",
            "55:\tlearn: 0.3786525\ttotal: 3m 48s\tremaining: 2m 59s\n",
            "56:\tlearn: 0.3762169\ttotal: 3m 53s\tremaining: 2m 56s\n",
            "57:\tlearn: 0.3743571\ttotal: 3m 56s\tremaining: 2m 51s\n",
            "58:\tlearn: 0.3733215\ttotal: 4m\tremaining: 2m 46s\n",
            "59:\tlearn: 0.3717330\ttotal: 4m 4s\tremaining: 2m 42s\n",
            "60:\tlearn: 0.3705170\ttotal: 4m 9s\tremaining: 2m 39s\n",
            "61:\tlearn: 0.3687844\ttotal: 4m 12s\tremaining: 2m 34s\n",
            "62:\tlearn: 0.3662668\ttotal: 4m 16s\tremaining: 2m 30s\n",
            "63:\tlearn: 0.3652440\ttotal: 4m 20s\tremaining: 2m 26s\n",
            "64:\tlearn: 0.3639718\ttotal: 4m 24s\tremaining: 2m 22s\n",
            "65:\tlearn: 0.3628753\ttotal: 4m 28s\tremaining: 2m 18s\n",
            "66:\tlearn: 0.3604319\ttotal: 4m 31s\tremaining: 2m 13s\n",
            "67:\tlearn: 0.3581188\ttotal: 4m 35s\tremaining: 2m 9s\n",
            "68:\tlearn: 0.3550032\ttotal: 4m 40s\tremaining: 2m 5s\n",
            "69:\tlearn: 0.3539488\ttotal: 4m 43s\tremaining: 2m 1s\n",
            "70:\tlearn: 0.3526443\ttotal: 4m 46s\tremaining: 1m 57s\n",
            "71:\tlearn: 0.3515064\ttotal: 4m 51s\tremaining: 1m 53s\n",
            "72:\tlearn: 0.3503159\ttotal: 4m 55s\tremaining: 1m 49s\n",
            "73:\tlearn: 0.3492565\ttotal: 4m 58s\tremaining: 1m 45s\n",
            "74:\tlearn: 0.3469299\ttotal: 5m 2s\tremaining: 1m 40s\n",
            "75:\tlearn: 0.3456615\ttotal: 5m 6s\tremaining: 1m 36s\n",
            "76:\tlearn: 0.3449919\ttotal: 5m 10s\tremaining: 1m 32s\n",
            "77:\tlearn: 0.3436830\ttotal: 5m 14s\tremaining: 1m 28s\n",
            "78:\tlearn: 0.3430981\ttotal: 5m 17s\tremaining: 1m 24s\n",
            "79:\tlearn: 0.3419481\ttotal: 5m 21s\tremaining: 1m 20s\n",
            "80:\tlearn: 0.3396431\ttotal: 5m 26s\tremaining: 1m 16s\n",
            "81:\tlearn: 0.3386713\ttotal: 5m 29s\tremaining: 1m 12s\n",
            "82:\tlearn: 0.3377858\ttotal: 5m 32s\tremaining: 1m 8s\n",
            "83:\tlearn: 0.3358256\ttotal: 5m 37s\tremaining: 1m 4s\n",
            "84:\tlearn: 0.3351886\ttotal: 5m 41s\tremaining: 1m\n",
            "85:\tlearn: 0.3331561\ttotal: 5m 44s\tremaining: 56.1s\n",
            "86:\tlearn: 0.3323141\ttotal: 5m 47s\tremaining: 52s\n",
            "87:\tlearn: 0.3310791\ttotal: 5m 52s\tremaining: 48.1s\n",
            "88:\tlearn: 0.3303927\ttotal: 5m 56s\tremaining: 44.1s\n",
            "89:\tlearn: 0.3290653\ttotal: 5m 59s\tremaining: 40s\n",
            "90:\tlearn: 0.3280135\ttotal: 6m 3s\tremaining: 35.9s\n",
            "91:\tlearn: 0.3269919\ttotal: 6m 7s\tremaining: 32s\n",
            "92:\tlearn: 0.3258193\ttotal: 6m 11s\tremaining: 28s\n",
            "93:\tlearn: 0.3244880\ttotal: 6m 15s\tremaining: 23.9s\n",
            "94:\tlearn: 0.3231488\ttotal: 6m 18s\tremaining: 19.9s\n",
            "95:\tlearn: 0.3228245\ttotal: 6m 23s\tremaining: 16s\n",
            "96:\tlearn: 0.3216488\ttotal: 6m 27s\tremaining: 12s\n",
            "97:\tlearn: 0.3201232\ttotal: 6m 30s\tremaining: 7.96s\n",
            "98:\tlearn: 0.3190660\ttotal: 6m 33s\tremaining: 3.98s\n",
            "99:\tlearn: 0.3182244\ttotal: 6m 38s\tremaining: 0us\n"
          ]
        }
      ]
    },
    {
      "cell_type": "code",
      "source": [
        "from sklearn.metrics import classification_report\n",
        "print(\"----CatBoost----\")\n",
        "catboost_train_score = accuracy_score(X_label, catboost_train)\n",
        "catboost_pred_score = accuracy_score(y_label, catboost_pred)\n",
        "print(\"Train Accuracy score: {}\".format(catboost_train_score))\n",
        "print(\"Test Accuracy score: {}\".format(catboost_pred_score))\n",
        "print(classification_report(y_label, catboost_pred))"
      ],
      "metadata": {
        "id": "X3YHQoTPr_rs",
        "colab": {
          "base_uri": "https://localhost:8080/"
        },
        "outputId": "6da04f5f-1288-4ec7-f33d-e1d557afabd0"
      },
      "execution_count": 42,
      "outputs": [
        {
          "output_type": "stream",
          "name": "stdout",
          "text": [
            "----CatBoost----\n",
            "Train Accuracy score: 0.8906333333333334\n",
            "Test Accuracy score: 0.857\n",
            "              precision    recall  f1-score   support\n",
            "\n",
            "           0       0.80      0.81      0.81      1000\n",
            "           1       0.97      0.96      0.97      1000\n",
            "           2       0.78      0.77      0.77      1000\n",
            "           3       0.86      0.89      0.87      1000\n",
            "           4       0.78      0.81      0.80      1000\n",
            "           5       0.93      0.91      0.92      1000\n",
            "           6       0.69      0.62      0.65      1000\n",
            "           7       0.89      0.90      0.90      1000\n",
            "           8       0.94      0.95      0.95      1000\n",
            "           9       0.91      0.94      0.93      1000\n",
            "\n",
            "    accuracy                           0.86     10000\n",
            "   macro avg       0.86      0.86      0.86     10000\n",
            "weighted avg       0.86      0.86      0.86     10000\n",
            "\n"
          ]
        }
      ]
    },
    {
      "cell_type": "code",
      "source": [
        "catboost_train = catboost_train.flatten()\n",
        "catboost_pred = catboost_pred.flatten()\n",
        "map_train = calculate_mAP(catboost_train,X_label)\n",
        "map_test = calculate_mAP(catboost_pred,y_label)\n",
        "print(\"Train Map score: {}\".format(map_train))\n",
        "print(\"Test Map score: {}\".format(map_test))"
      ],
      "metadata": {
        "id": "xVnMnEiQsFs6",
        "colab": {
          "base_uri": "https://localhost:8080/"
        },
        "outputId": "5f54573f-15dc-434b-a305-eb0813f02d19"
      },
      "execution_count": 43,
      "outputs": [
        {
          "output_type": "stream",
          "name": "stdout",
          "text": [
            "Train Map score: 0.7991849276958118\n",
            "Test Map score: 0.7384577991798819\n"
          ]
        }
      ]
    },
    {
      "cell_type": "code",
      "source": [
        "# # model 저장\n",
        "# import pickle\n",
        "# with open('catboost', 'wb') as f:\n",
        "#     pickle.dump(svc, f)\n",
        "# # model 불러오기\n",
        "# import pickle\n",
        "# with open('catboost', 'rb') as f:\n",
        "#     model_load = pickle.load(f)"
      ],
      "metadata": {
        "id": "g_20_a3dvw_t"
      },
      "execution_count": null,
      "outputs": []
    },
    {
      "cell_type": "code",
      "source": [
        "# 모델 생성 및 학습\n",
        "lgbm_model = LGBMClassifier(\n",
        "    n_estimators=839,\n",
        "    num_leaves=4,\n",
        "    min_child_samples=6,\n",
        "    learning_rate=0.17305095027775025,\n",
        "    max_bin=1024,  # log_max_bin을 10으로 설정했으므로, max_bin은 2^10인 1024가 됩니다.\n",
        "    colsample_bytree=0.8717502271722275,\n",
        "    reg_alpha=0.036114468962103394,\n",
        "    reg_lambda=0.23607505416113697,\n",
        ")\n",
        "lgbm_model.fit(X_train_PCA1, X_label)"
      ],
      "metadata": {
        "colab": {
          "base_uri": "https://localhost:8080/",
          "height": 400
        },
        "id": "BWkDEEDKJQ_H",
        "outputId": "33a2d6f2-7c20-45b4-9fb5-3342d09fb7ec"
      },
      "execution_count": 14,
      "outputs": [
        {
          "output_type": "stream",
          "name": "stdout",
          "text": [
            "[LightGBM] [Info] Auto-choosing col-wise multi-threading, the overhead of testing was 0.430496 seconds.\n",
            "You can set `force_col_wise=true` to remove the overhead.\n",
            "[LightGBM] [Info] Total Bins 409600\n",
            "[LightGBM] [Info] Number of data points in the train set: 60000, number of used features: 400\n",
            "[LightGBM] [Info] Start training from score -2.302585\n",
            "[LightGBM] [Info] Start training from score -2.302585\n",
            "[LightGBM] [Info] Start training from score -2.302585\n",
            "[LightGBM] [Info] Start training from score -2.302585\n",
            "[LightGBM] [Info] Start training from score -2.302585\n",
            "[LightGBM] [Info] Start training from score -2.302585\n",
            "[LightGBM] [Info] Start training from score -2.302585\n",
            "[LightGBM] [Info] Start training from score -2.302585\n",
            "[LightGBM] [Info] Start training from score -2.302585\n",
            "[LightGBM] [Info] Start training from score -2.302585\n"
          ]
        },
        {
          "output_type": "execute_result",
          "data": {
            "text/plain": [
              "LGBMClassifier(colsample_bytree=0.8717502271722275,\n",
              "               learning_rate=0.17305095027775025, max_bin=1024,\n",
              "               min_child_samples=6, n_estimators=839, num_leaves=4,\n",
              "               reg_alpha=0.036114468962103394, reg_lambda=0.23607505416113697)"
            ],
            "text/html": [
              "<style>#sk-container-id-1 {color: black;background-color: white;}#sk-container-id-1 pre{padding: 0;}#sk-container-id-1 div.sk-toggleable {background-color: white;}#sk-container-id-1 label.sk-toggleable__label {cursor: pointer;display: block;width: 100%;margin-bottom: 0;padding: 0.3em;box-sizing: border-box;text-align: center;}#sk-container-id-1 label.sk-toggleable__label-arrow:before {content: \"▸\";float: left;margin-right: 0.25em;color: #696969;}#sk-container-id-1 label.sk-toggleable__label-arrow:hover:before {color: black;}#sk-container-id-1 div.sk-estimator:hover label.sk-toggleable__label-arrow:before {color: black;}#sk-container-id-1 div.sk-toggleable__content {max-height: 0;max-width: 0;overflow: hidden;text-align: left;background-color: #f0f8ff;}#sk-container-id-1 div.sk-toggleable__content pre {margin: 0.2em;color: black;border-radius: 0.25em;background-color: #f0f8ff;}#sk-container-id-1 input.sk-toggleable__control:checked~div.sk-toggleable__content {max-height: 200px;max-width: 100%;overflow: auto;}#sk-container-id-1 input.sk-toggleable__control:checked~label.sk-toggleable__label-arrow:before {content: \"▾\";}#sk-container-id-1 div.sk-estimator input.sk-toggleable__control:checked~label.sk-toggleable__label {background-color: #d4ebff;}#sk-container-id-1 div.sk-label input.sk-toggleable__control:checked~label.sk-toggleable__label {background-color: #d4ebff;}#sk-container-id-1 input.sk-hidden--visually {border: 0;clip: rect(1px 1px 1px 1px);clip: rect(1px, 1px, 1px, 1px);height: 1px;margin: -1px;overflow: hidden;padding: 0;position: absolute;width: 1px;}#sk-container-id-1 div.sk-estimator {font-family: monospace;background-color: #f0f8ff;border: 1px dotted black;border-radius: 0.25em;box-sizing: border-box;margin-bottom: 0.5em;}#sk-container-id-1 div.sk-estimator:hover {background-color: #d4ebff;}#sk-container-id-1 div.sk-parallel-item::after {content: \"\";width: 100%;border-bottom: 1px solid gray;flex-grow: 1;}#sk-container-id-1 div.sk-label:hover label.sk-toggleable__label {background-color: #d4ebff;}#sk-container-id-1 div.sk-serial::before {content: \"\";position: absolute;border-left: 1px solid gray;box-sizing: border-box;top: 0;bottom: 0;left: 50%;z-index: 0;}#sk-container-id-1 div.sk-serial {display: flex;flex-direction: column;align-items: center;background-color: white;padding-right: 0.2em;padding-left: 0.2em;position: relative;}#sk-container-id-1 div.sk-item {position: relative;z-index: 1;}#sk-container-id-1 div.sk-parallel {display: flex;align-items: stretch;justify-content: center;background-color: white;position: relative;}#sk-container-id-1 div.sk-item::before, #sk-container-id-1 div.sk-parallel-item::before {content: \"\";position: absolute;border-left: 1px solid gray;box-sizing: border-box;top: 0;bottom: 0;left: 50%;z-index: -1;}#sk-container-id-1 div.sk-parallel-item {display: flex;flex-direction: column;z-index: 1;position: relative;background-color: white;}#sk-container-id-1 div.sk-parallel-item:first-child::after {align-self: flex-end;width: 50%;}#sk-container-id-1 div.sk-parallel-item:last-child::after {align-self: flex-start;width: 50%;}#sk-container-id-1 div.sk-parallel-item:only-child::after {width: 0;}#sk-container-id-1 div.sk-dashed-wrapped {border: 1px dashed gray;margin: 0 0.4em 0.5em 0.4em;box-sizing: border-box;padding-bottom: 0.4em;background-color: white;}#sk-container-id-1 div.sk-label label {font-family: monospace;font-weight: bold;display: inline-block;line-height: 1.2em;}#sk-container-id-1 div.sk-label-container {text-align: center;}#sk-container-id-1 div.sk-container {/* jupyter's `normalize.less` sets `[hidden] { display: none; }` but bootstrap.min.css set `[hidden] { display: none !important; }` so we also need the `!important` here to be able to override the default hidden behavior on the sphinx rendered scikit-learn.org. See: https://github.com/scikit-learn/scikit-learn/issues/21755 */display: inline-block !important;position: relative;}#sk-container-id-1 div.sk-text-repr-fallback {display: none;}</style><div id=\"sk-container-id-1\" class=\"sk-top-container\"><div class=\"sk-text-repr-fallback\"><pre>LGBMClassifier(colsample_bytree=0.8717502271722275,\n",
              "               learning_rate=0.17305095027775025, max_bin=1024,\n",
              "               min_child_samples=6, n_estimators=839, num_leaves=4,\n",
              "               reg_alpha=0.036114468962103394, reg_lambda=0.23607505416113697)</pre><b>In a Jupyter environment, please rerun this cell to show the HTML representation or trust the notebook. <br />On GitHub, the HTML representation is unable to render, please try loading this page with nbviewer.org.</b></div><div class=\"sk-container\" hidden><div class=\"sk-item\"><div class=\"sk-estimator sk-toggleable\"><input class=\"sk-toggleable__control sk-hidden--visually\" id=\"sk-estimator-id-1\" type=\"checkbox\" checked><label for=\"sk-estimator-id-1\" class=\"sk-toggleable__label sk-toggleable__label-arrow\">LGBMClassifier</label><div class=\"sk-toggleable__content\"><pre>LGBMClassifier(colsample_bytree=0.8717502271722275,\n",
              "               learning_rate=0.17305095027775025, max_bin=1024,\n",
              "               min_child_samples=6, n_estimators=839, num_leaves=4,\n",
              "               reg_alpha=0.036114468962103394, reg_lambda=0.23607505416113697)</pre></div></div></div></div></div>"
            ]
          },
          "metadata": {},
          "execution_count": 14
        }
      ]
    },
    {
      "cell_type": "code",
      "source": [
        "lgbm_model_train = lgbm_model.predict(X_train_PCA1)\n",
        "lgbm_model_pred = lgbm_model.predict(X_test_PCA1)\n"
      ],
      "metadata": {
        "id": "wlPC0R-hJ_LJ"
      },
      "execution_count": 15,
      "outputs": []
    },
    {
      "cell_type": "code",
      "source": [
        "from sklearn.metrics import classification_report\n",
        "lgbm_train_score = accuracy_score(X_label, lgbm_model_train)\n",
        "lgbm_pred_score = accuracy_score(y_label, lgbm_model_pred)\n",
        "\n",
        "print(\"----LGBM----\")\n",
        "print(\"Train Accuracy score: {}\".format(lgbm_train_score))\n",
        "print(\"Test Accuracy score: {}\".format(lgbm_pred_score))\n",
        "print(classification_report(y_label, lgbm_model_pred))"
      ],
      "metadata": {
        "colab": {
          "base_uri": "https://localhost:8080/"
        },
        "id": "1-BfluPXKHYQ",
        "outputId": "1e491d0e-284f-40ba-b309-5f7b8d171c32"
      },
      "execution_count": 17,
      "outputs": [
        {
          "output_type": "stream",
          "name": "stdout",
          "text": [
            "----LGBM----\n",
            "Train Accuracy score: 0.9886\n",
            "Test Accuracy score: 0.8861\n",
            "              precision    recall  f1-score   support\n",
            "\n",
            "           0       0.82      0.85      0.83      1000\n",
            "           1       0.99      0.97      0.98      1000\n",
            "           2       0.82      0.80      0.81      1000\n",
            "           3       0.90      0.91      0.91      1000\n",
            "           4       0.82      0.84      0.83      1000\n",
            "           5       0.97      0.94      0.95      1000\n",
            "           6       0.71      0.69      0.70      1000\n",
            "           7       0.92      0.93      0.93      1000\n",
            "           8       0.97      0.97      0.97      1000\n",
            "           9       0.94      0.96      0.95      1000\n",
            "\n",
            "    accuracy                           0.89     10000\n",
            "   macro avg       0.89      0.89      0.89     10000\n",
            "weighted avg       0.89      0.89      0.89     10000\n",
            "\n"
          ]
        }
      ]
    },
    {
      "cell_type": "code",
      "source": [
        "# lgbm_model_train = lgbm_model.flatten()\n",
        "# lgbm_model_pred = lgbm_model.flatten()\n",
        "map_train = calculate_mAP(lgbm_model_train,X_label)\n",
        "map_test = calculate_mAP(lgbm_model_pred,y_label)\n",
        "print(\"Train Map score: {}\".format(map_train))\n",
        "print(\"Test Map score: {}\".format(map_test))"
      ],
      "metadata": {
        "colab": {
          "base_uri": "https://localhost:8080/"
        },
        "id": "1bvuVByZKIGf",
        "outputId": "53379c21-410a-4117-9858-d49488c5a4a1"
      },
      "execution_count": 20,
      "outputs": [
        {
          "output_type": "stream",
          "name": "stdout",
          "text": [
            "Train Map score: 0.9777866931403822\n",
            "Test Map score: 0.7913655026678837\n"
          ]
        }
      ]
    }
  ],
  "metadata": {
    "kernelspec": {
      "display_name": "ml",
      "language": "python",
      "name": "python3"
    },
    "language_info": {
      "codemirror_mode": {
        "name": "ipython",
        "version": 3
      },
      "file_extension": ".py",
      "mimetype": "text/x-python",
      "name": "python",
      "nbconvert_exporter": "python",
      "pygments_lexer": "ipython3",
      "version": "3.9.13"
    },
    "colab": {
      "provenance": []
    }
  },
  "nbformat": 4,
  "nbformat_minor": 0
}