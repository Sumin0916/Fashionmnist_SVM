{
  "cells": [
    {
      "cell_type": "code",
      "execution_count": 1,
      "metadata": {
        "id": "99IcNqG63q2f"
      },
      "outputs": [],
      "source": [
        "from sklearn.model_selection import train_test_split\n",
        "from sklearn.metrics import accuracy_score\n",
        "import matplotlib.pyplot as plt\n",
        "import seaborn as sns\n",
        "import plotly.graph_objects as go\n",
        "from sklearn.metrics import confusion_matrix\n",
        "from sklearn import metrics\n",
        "from sklearn.decomposition import PCA\n",
        "from sklearn.linear_model import LogisticRegression\n",
        "from sklearn.svm import SVC\n",
        "from sklearn.ensemble import RandomForestClassifier\n",
        "from sklearn import ensemble\n",
        "from xgboost import XGBClassifier\n",
        "import time\n",
        "import pandas as pd\n",
        "import cv2\n",
        "import numpy as np"
      ]
    },
    {
      "cell_type": "code",
      "execution_count": 2,
      "metadata": {
        "id": "emy5HT1T3q2h"
      },
      "outputs": [],
      "source": [
        "import warnings\n",
        "warnings.filterwarnings(action='ignore', category=UserWarning)"
      ]
    },
    {
      "cell_type": "code",
      "source": [],
      "metadata": {
        "id": "Bj5jOLeiGz1W"
      },
      "execution_count": null,
      "outputs": []
    },
    {
      "cell_type": "code",
      "execution_count": 3,
      "metadata": {
        "id": "XLy3i9aa3q2i",
        "colab": {
          "base_uri": "https://localhost:8080/"
        },
        "outputId": "3980220f-2b0a-477e-f815-249aa81e76bf"
      },
      "outputs": [
        {
          "output_type": "execute_result",
          "data": {
            "text/plain": [
              "0"
            ]
          },
          "metadata": {},
          "execution_count": 3
        }
      ],
      "source": [
        "\n",
        "train = pd.read_csv('fashion-mnist_train.csv')\n",
        "test = pd.read_csv('fashion-mnist_test.csv')\n",
        "train.isnull().any().sum()\n",
        "test.isnull().any().sum()"
      ]
    },
    {
      "cell_type": "code",
      "source": [
        "train.shape"
      ],
      "metadata": {
        "colab": {
          "base_uri": "https://localhost:8080/"
        },
        "id": "KWjNSFKVe7lT",
        "outputId": "78c4d411-5fdf-4b2f-d796-d0cd9fb5f4cf"
      },
      "execution_count": 4,
      "outputs": [
        {
          "output_type": "execute_result",
          "data": {
            "text/plain": [
              "(60000, 785)"
            ]
          },
          "metadata": {},
          "execution_count": 4
        }
      ]
    },
    {
      "cell_type": "code",
      "source": [
        "test.shape"
      ],
      "metadata": {
        "colab": {
          "base_uri": "https://localhost:8080/"
        },
        "id": "pPJvXgI0e8Rw",
        "outputId": "926d6cf7-b7f9-496e-9d29-9a12f304c8c4"
      },
      "execution_count": 5,
      "outputs": [
        {
          "output_type": "execute_result",
          "data": {
            "text/plain": [
              "(10000, 785)"
            ]
          },
          "metadata": {},
          "execution_count": 5
        }
      ]
    },
    {
      "cell_type": "code",
      "execution_count": 6,
      "metadata": {
        "id": "xy95owsr3q2i"
      },
      "outputs": [],
      "source": [
        "df_train = train.copy()\n",
        "df_test = test.copy()"
      ]
    },
    {
      "cell_type": "code",
      "execution_count": 7,
      "metadata": {
        "id": "yyYLogAI3q2i"
      },
      "outputs": [],
      "source": [
        "X_train= df_train.drop(['label'],axis = 1)\n",
        "X_test = df_train['label']\n",
        "y_test = df_test.drop(['label'],axis = 1)\n",
        "\n",
        "X_train = X_train.astype('float32')\n",
        "y_test = y_test.astype('float32')\n",
        "X_train /= 255.0\n",
        "y_test /=255.0"
      ]
    },
    {
      "cell_type": "code",
      "execution_count": 8,
      "metadata": {
        "id": "0grn-C3Y3q2i"
      },
      "outputs": [],
      "source": [
        "seed = 99\n",
        "np.random.seed(seed)\n",
        "X_train, X_val, y_train, y_val = train_test_split(X_train, X_test, test_size=0.1, random_state = seed)"
      ]
    },
    {
      "cell_type": "code",
      "source": [
        "y_val"
      ],
      "metadata": {
        "colab": {
          "base_uri": "https://localhost:8080/"
        },
        "id": "KCAtGstsl_mV",
        "outputId": "48ba2527-a770-4506-eca8-1bba9b0812aa"
      },
      "execution_count": null,
      "outputs": [
        {
          "output_type": "execute_result",
          "data": {
            "text/plain": [
              "48993    1\n",
              "38217    4\n",
              "55751    2\n",
              "12551    7\n",
              "32669    0\n",
              "        ..\n",
              "27039    5\n",
              "41069    1\n",
              "28878    6\n",
              "30385    0\n",
              "10365    9\n",
              "Name: label, Length: 6000, dtype: int64"
            ]
          },
          "metadata": {},
          "execution_count": 31
        }
      ]
    },
    {
      "cell_type": "code",
      "source": [
        "y_val = y_val.values # change to array for mAP"
      ],
      "metadata": {
        "id": "8t4Bz3_ppHXe"
      },
      "execution_count": 9,
      "outputs": []
    },
    {
      "cell_type": "code",
      "source": [
        "# # Import necessary libraries\n",
        "# from sklearn.svm import SVC\n",
        "# from sklearn.decomposition import PCA\n",
        "\n",
        "# # Define hyperparameters\n",
        "# n_components = 100  # Just an example, you may need to adjust this\n",
        "# gamma = 0.1  # Just an example, you may need to adjust this\n",
        "# C = 1.0  # Just an example, you may need to adjust this\n",
        "\n",
        "# # Perform PCA on the training data\n",
        "# pca = PCA(n_components=n_components)\n",
        "# pca.fit(X_train)\n",
        "\n",
        "# # Transform the training data\n",
        "# X_train_pca = pca.transform(X_train)\n",
        "\n",
        "# # Initialize the SVM classifier\n",
        "# svm = SVC(gamma=gamma, C=C, kernel=\"rbf\", probability=True)\n",
        "\n",
        "# # Fit the classifier on a subset of the training data\n",
        "# svm.fit(X_train_pca[:500], y_train[:500])  # Here we use only the first 500 samples\n",
        "\n",
        "# # Predict the labels of the training data\n",
        "# preds = svm.predict(X_train_pca[:500])\n",
        "\n",
        "# # Print the shape and content of the preds\n",
        "# print(\"Shape of preds:\", preds.shape)\n",
        "# print(\"Content of preds:\", preds)\n"
      ],
      "metadata": {
        "colab": {
          "base_uri": "https://localhost:8080/"
        },
        "id": "wLoi2wl6mcfL",
        "outputId": "8b53c526-19ea-42f3-dc26-3cb0de745232"
      },
      "execution_count": null,
      "outputs": [
        {
          "output_type": "stream",
          "name": "stdout",
          "text": [
            "Shape of preds: (500,)\n",
            "Content of preds: [0 2 1 5 8 3 9 9 6 0 5 9 2 2 7 6 8 9 0 4 0 6 3 6 9 8 7 7 3 3 2 3 6 4 3 9 5\n",
            " 1 5 4 4 5 9 4 5 1 7 6 8 5 6 3 2 7 7 1 2 9 6 8 5 6 4 5 0 5 2 7 0 8 6 5 7 3\n",
            " 9 9 3 8 2 6 6 9 8 0 8 2 8 1 6 7 3 9 9 1 5 8 5 4 2 4 4 6 5 4 1 9 2 5 7 7 2\n",
            " 0 7 5 5 3 4 0 2 2 5 6 8 3 5 7 8 9 4 0 3 3 4 6 9 9 1 9 5 7 5 7 7 8 4 6 9 2\n",
            " 7 0 1 4 1 4 1 1 2 8 5 4 7 4 0 0 3 2 9 7 5 1 6 7 8 4 8 4 9 2 7 9 3 8 8 0 7\n",
            " 5 0 5 2 9 9 4 6 3 3 9 9 9 9 6 6 0 7 3 6 8 1 4 8 4 1 0 5 2 9 1 4 5 6 2 2 6\n",
            " 4 9 6 6 3 3 3 7 5 5 4 3 3 9 6 1 2 9 8 8 1 7 2 8 5 5 1 9 1 2 3 6 7 0 2 5 8\n",
            " 4 7 7 4 4 5 9 9 0 9 6 4 4 9 0 3 9 7 9 0 4 3 6 7 3 5 4 1 5 3 4 1 1 4 8 4 8\n",
            " 0 9 2 9 7 7 4 6 0 6 5 0 4 2 8 2 5 1 1 0 7 5 3 9 9 6 9 9 3 8 8 0 8 3 4 2 9\n",
            " 1 3 1 8 8 1 1 5 4 4 1 2 3 7 2 0 4 4 1 0 6 3 0 0 3 8 9 4 6 9 8 9 8 1 7 1 9\n",
            " 6 8 2 5 1 7 8 3 4 2 4 8 7 5 1 6 1 0 5 3 4 1 5 2 7 2 3 0 2 3 6 2 5 5 0 8 6\n",
            " 8 4 5 1 5 5 5 0 0 3 4 6 1 9 5 7 2 1 8 8 6 8 1 6 7 0 3 6 9 4 3 5 8 7 9 2 4\n",
            " 5 1 7 4 3 9 3 2 1 1 8 3 1 0 3 0 2 0 2 7 9 2 9 7 4 9 7 1 8 7 0 0 9 3 5 8 7\n",
            " 6 7 5 5 7 8 9 6 6 0 7 6 5 5 0 5 9 9 0]\n"
          ]
        }
      ]
    },
    {
      "cell_type": "code",
      "source": [],
      "metadata": {
        "id": "sNU3cQa8mvkD"
      },
      "execution_count": null,
      "outputs": []
    },
    {
      "cell_type": "code",
      "source": [
        "# X_train.fillna(X_train.mean(), inplace=True)"
      ],
      "metadata": {
        "id": "xpmYUnsAIH_u"
      },
      "execution_count": null,
      "outputs": []
    },
    {
      "cell_type": "markdown",
      "source": [],
      "metadata": {
        "id": "UjPSuUvoyAzc"
      }
    },
    {
      "cell_type": "code",
      "source": [
        "!pip install optuna"
      ],
      "metadata": {
        "id": "w2r6ygSh1n9c",
        "colab": {
          "base_uri": "https://localhost:8080/"
        },
        "outputId": "4976f2d6-5141-416e-fcd8-92677bb3a2b1"
      },
      "execution_count": 10,
      "outputs": [
        {
          "output_type": "stream",
          "name": "stdout",
          "text": [
            "Collecting optuna\n",
            "  Downloading optuna-3.4.0-py3-none-any.whl (409 kB)\n",
            "\u001b[2K     \u001b[90m━━━━━━━━━━━━━━━━━━━━━━━━━━━━━━━━━━━━━━━━\u001b[0m \u001b[32m409.6/409.6 kB\u001b[0m \u001b[31m5.9 MB/s\u001b[0m eta \u001b[36m0:00:00\u001b[0m\n",
            "\u001b[?25hCollecting alembic>=1.5.0 (from optuna)\n",
            "  Downloading alembic-1.12.1-py3-none-any.whl (226 kB)\n",
            "\u001b[2K     \u001b[90m━━━━━━━━━━━━━━━━━━━━━━━━━━━━━━━━━━━━━━━━\u001b[0m \u001b[32m226.8/226.8 kB\u001b[0m \u001b[31m27.2 MB/s\u001b[0m eta \u001b[36m0:00:00\u001b[0m\n",
            "\u001b[?25hCollecting colorlog (from optuna)\n",
            "  Downloading colorlog-6.7.0-py2.py3-none-any.whl (11 kB)\n",
            "Requirement already satisfied: numpy in /usr/local/lib/python3.10/dist-packages (from optuna) (1.23.5)\n",
            "Requirement already satisfied: packaging>=20.0 in /usr/local/lib/python3.10/dist-packages (from optuna) (23.2)\n",
            "Requirement already satisfied: sqlalchemy>=1.3.0 in /usr/local/lib/python3.10/dist-packages (from optuna) (2.0.23)\n",
            "Requirement already satisfied: tqdm in /usr/local/lib/python3.10/dist-packages (from optuna) (4.66.1)\n",
            "Requirement already satisfied: PyYAML in /usr/local/lib/python3.10/dist-packages (from optuna) (6.0.1)\n",
            "Collecting Mako (from alembic>=1.5.0->optuna)\n",
            "  Downloading Mako-1.3.0-py3-none-any.whl (78 kB)\n",
            "\u001b[2K     \u001b[90m━━━━━━━━━━━━━━━━━━━━━━━━━━━━━━━━━━━━━━━━\u001b[0m \u001b[32m78.6/78.6 kB\u001b[0m \u001b[31m10.4 MB/s\u001b[0m eta \u001b[36m0:00:00\u001b[0m\n",
            "\u001b[?25hRequirement already satisfied: typing-extensions>=4 in /usr/local/lib/python3.10/dist-packages (from alembic>=1.5.0->optuna) (4.5.0)\n",
            "Requirement already satisfied: greenlet!=0.4.17 in /usr/local/lib/python3.10/dist-packages (from sqlalchemy>=1.3.0->optuna) (3.0.1)\n",
            "Requirement already satisfied: MarkupSafe>=0.9.2 in /usr/local/lib/python3.10/dist-packages (from Mako->alembic>=1.5.0->optuna) (2.1.3)\n",
            "Installing collected packages: Mako, colorlog, alembic, optuna\n",
            "Successfully installed Mako-1.3.0 alembic-1.12.1 colorlog-6.7.0 optuna-3.4.0\n"
          ]
        }
      ]
    },
    {
      "cell_type": "code",
      "source": [
        "import optuna\n",
        "from sklearn.decomposition import PCA\n",
        "from sklearn.svm import SVC\n",
        "from sklearn.model_selection import train_test_split\n",
        "from sklearn.metrics import auc\n",
        "from collections import Counter\n",
        "\n",
        "def objective(trial):\n",
        "    # suggest methods are used to set the range of hyperparameters\n",
        "    n_components = trial.suggest_int('n_components', 181, 600)\n",
        "    gamma = trial.suggest_loguniform('gamma', 1e-3, 1e+2)\n",
        "    C = trial.suggest_loguniform('C', 1e+0, 1e+4)\n",
        "\n",
        "    pca = PCA(n_components=n_components)\n",
        "    svm = SVC(gamma=gamma, C=C, kernel=\"poly\", probability=True)\n",
        "\n",
        "    # PCA fitting and transformation should be done inside the objective function\n",
        "    pca.fit(X_train)\n",
        "    X_train_pca = pca.transform(X_train)\n",
        "    X_val_pca = pca.transform(X_val)\n",
        "\n",
        "    # Use transformed data to train the classifier\n",
        "    svm.fit(X_train_pca, y_train)\n",
        "\n",
        "    # Predict the validation data\n",
        "    preds = svm.predict(X_val_pca)\n",
        "\n",
        "    ## mAP calculation\n",
        "    AP = []\n",
        "    num_class = 10\n",
        "\n",
        "    # Count the number of each class in preds\n",
        "    predict_label_count_dict = Counter(preds)\n",
        "    predict_label_count_dict = dict(sorted(predict_label_count_dict.items()))\n",
        "\n",
        "    # For each class\n",
        "    for c, freq in predict_label_count_dict.items() :\n",
        "        TP = 0\n",
        "        FN = 0\n",
        "\n",
        "        temp_precision = []\n",
        "        temp_recall = []\n",
        "\n",
        "        for i in range(len(preds)):\n",
        "            # Calculate TP and FN\n",
        "            if y_val[i] == c and preds[i] == c :\n",
        "                TP += 1\n",
        "            elif y_val[i] != c and preds[i] == c :\n",
        "                FN += 1\n",
        "\n",
        "            # Calculate precision and recall\n",
        "            if TP+FN != 0:\n",
        "                temp_precision.append(TP/(TP+FN))\n",
        "                temp_recall.append(TP/freq)\n",
        "\n",
        "        # Save the AP value of each class to AP array\n",
        "        AP.append(auc(temp_recall, temp_precision))\n",
        "\n",
        "    # Calculate mAP\n",
        "    mAP = sum(AP) / num_class\n",
        "\n",
        "    return mAP\n",
        "\n",
        "study = optuna.create_study(direction='maximize')\n",
        "study.optimize(objective, n_trials=50)\n"
      ],
      "metadata": {
        "id": "cd57DEHX-xlM",
        "colab": {
          "base_uri": "https://localhost:8080/"
        },
        "outputId": "01553378-d553-4198-8822-66902fd201df"
      },
      "execution_count": null,
      "outputs": [
        {
          "output_type": "stream",
          "name": "stderr",
          "text": [
            "[I 2023-11-17 10:16:32,666] A new study created in memory with name: no-name-48a2b85f-7232-4159-9ef0-01bc7960559c\n",
            "<ipython-input-11-50f0540b0aa1>:11: FutureWarning: suggest_loguniform has been deprecated in v3.0.0. This feature will be removed in v6.0.0. See https://github.com/optuna/optuna/releases/tag/v3.0.0. Use suggest_float(..., log=True) instead.\n",
            "  gamma = trial.suggest_loguniform('gamma', 1e-3, 1e+2)\n",
            "<ipython-input-11-50f0540b0aa1>:12: FutureWarning: suggest_loguniform has been deprecated in v3.0.0. This feature will be removed in v6.0.0. See https://github.com/optuna/optuna/releases/tag/v3.0.0. Use suggest_float(..., log=True) instead.\n",
            "  C = trial.suggest_loguniform('C', 1e+0, 1e+4)\n",
            "[I 2023-11-17 10:37:47,424] Trial 0 finished with value: 0.8171778869597365 and parameters: {'n_components': 509, 'gamma': 5.001270433122445, 'C': 537.8832253017721}. Best is trial 0 with value: 0.8171778869597365.\n",
            "<ipython-input-11-50f0540b0aa1>:11: FutureWarning: suggest_loguniform has been deprecated in v3.0.0. This feature will be removed in v6.0.0. See https://github.com/optuna/optuna/releases/tag/v3.0.0. Use suggest_float(..., log=True) instead.\n",
            "  gamma = trial.suggest_loguniform('gamma', 1e-3, 1e+2)\n",
            "<ipython-input-11-50f0540b0aa1>:12: FutureWarning: suggest_loguniform has been deprecated in v3.0.0. This feature will be removed in v6.0.0. See https://github.com/optuna/optuna/releases/tag/v3.0.0. Use suggest_float(..., log=True) instead.\n",
            "  C = trial.suggest_loguniform('C', 1e+0, 1e+4)\n",
            "[I 2023-11-17 10:58:52,556] Trial 1 finished with value: 0.8159535653494847 and parameters: {'n_components': 493, 'gamma': 1.2597841704367887, 'C': 10.283960436694773}. Best is trial 0 with value: 0.8171778869597365.\n",
            "<ipython-input-11-50f0540b0aa1>:11: FutureWarning: suggest_loguniform has been deprecated in v3.0.0. This feature will be removed in v6.0.0. See https://github.com/optuna/optuna/releases/tag/v3.0.0. Use suggest_float(..., log=True) instead.\n",
            "  gamma = trial.suggest_loguniform('gamma', 1e-3, 1e+2)\n",
            "<ipython-input-11-50f0540b0aa1>:12: FutureWarning: suggest_loguniform has been deprecated in v3.0.0. This feature will be removed in v6.0.0. See https://github.com/optuna/optuna/releases/tag/v3.0.0. Use suggest_float(..., log=True) instead.\n",
            "  C = trial.suggest_loguniform('C', 1e+0, 1e+4)\n",
            "[I 2023-11-17 11:18:03,699] Trial 2 finished with value: 0.8236878748939729 and parameters: {'n_components': 440, 'gamma': 0.042052845236049435, 'C': 1.4437760261480825}. Best is trial 2 with value: 0.8236878748939729.\n",
            "<ipython-input-11-50f0540b0aa1>:11: FutureWarning: suggest_loguniform has been deprecated in v3.0.0. This feature will be removed in v6.0.0. See https://github.com/optuna/optuna/releases/tag/v3.0.0. Use suggest_float(..., log=True) instead.\n",
            "  gamma = trial.suggest_loguniform('gamma', 1e-3, 1e+2)\n",
            "<ipython-input-11-50f0540b0aa1>:12: FutureWarning: suggest_loguniform has been deprecated in v3.0.0. This feature will be removed in v6.0.0. See https://github.com/optuna/optuna/releases/tag/v3.0.0. Use suggest_float(..., log=True) instead.\n",
            "  C = trial.suggest_loguniform('C', 1e+0, 1e+4)\n",
            "[I 2023-11-17 11:30:46,767] Trial 3 finished with value: 0.8141636426090336 and parameters: {'n_components': 288, 'gamma': 6.438662909624644, 'C': 78.7021350194673}. Best is trial 2 with value: 0.8236878748939729.\n",
            "<ipython-input-11-50f0540b0aa1>:11: FutureWarning: suggest_loguniform has been deprecated in v3.0.0. This feature will be removed in v6.0.0. See https://github.com/optuna/optuna/releases/tag/v3.0.0. Use suggest_float(..., log=True) instead.\n",
            "  gamma = trial.suggest_loguniform('gamma', 1e-3, 1e+2)\n",
            "<ipython-input-11-50f0540b0aa1>:12: FutureWarning: suggest_loguniform has been deprecated in v3.0.0. This feature will be removed in v6.0.0. See https://github.com/optuna/optuna/releases/tag/v3.0.0. Use suggest_float(..., log=True) instead.\n",
            "  C = trial.suggest_loguniform('C', 1e+0, 1e+4)\n",
            "[I 2023-11-17 11:54:00,066] Trial 4 finished with value: 0.8157120500226849 and parameters: {'n_components': 552, 'gamma': 0.03176392309586275, 'C': 18.764916224094748}. Best is trial 2 with value: 0.8236878748939729.\n",
            "<ipython-input-11-50f0540b0aa1>:11: FutureWarning: suggest_loguniform has been deprecated in v3.0.0. This feature will be removed in v6.0.0. See https://github.com/optuna/optuna/releases/tag/v3.0.0. Use suggest_float(..., log=True) instead.\n",
            "  gamma = trial.suggest_loguniform('gamma', 1e-3, 1e+2)\n",
            "<ipython-input-11-50f0540b0aa1>:12: FutureWarning: suggest_loguniform has been deprecated in v3.0.0. This feature will be removed in v6.0.0. See https://github.com/optuna/optuna/releases/tag/v3.0.0. Use suggest_float(..., log=True) instead.\n",
            "  C = trial.suggest_loguniform('C', 1e+0, 1e+4)\n",
            "[I 2023-11-17 12:14:47,561] Trial 5 finished with value: 0.8188609674280792 and parameters: {'n_components': 476, 'gamma': 62.65055351982312, 'C': 472.0152621177092}. Best is trial 2 with value: 0.8236878748939729.\n",
            "<ipython-input-11-50f0540b0aa1>:11: FutureWarning: suggest_loguniform has been deprecated in v3.0.0. This feature will be removed in v6.0.0. See https://github.com/optuna/optuna/releases/tag/v3.0.0. Use suggest_float(..., log=True) instead.\n",
            "  gamma = trial.suggest_loguniform('gamma', 1e-3, 1e+2)\n",
            "<ipython-input-11-50f0540b0aa1>:12: FutureWarning: suggest_loguniform has been deprecated in v3.0.0. This feature will be removed in v6.0.0. See https://github.com/optuna/optuna/releases/tag/v3.0.0. Use suggest_float(..., log=True) instead.\n",
            "  C = trial.suggest_loguniform('C', 1e+0, 1e+4)\n",
            "[I 2023-11-17 12:28:32,063] Trial 6 finished with value: 0.8183012637267337 and parameters: {'n_components': 291, 'gamma': 0.008692659558392005, 'C': 10.09064066639312}. Best is trial 2 with value: 0.8236878748939729.\n",
            "<ipython-input-11-50f0540b0aa1>:11: FutureWarning: suggest_loguniform has been deprecated in v3.0.0. This feature will be removed in v6.0.0. See https://github.com/optuna/optuna/releases/tag/v3.0.0. Use suggest_float(..., log=True) instead.\n",
            "  gamma = trial.suggest_loguniform('gamma', 1e-3, 1e+2)\n",
            "<ipython-input-11-50f0540b0aa1>:12: FutureWarning: suggest_loguniform has been deprecated in v3.0.0. This feature will be removed in v6.0.0. See https://github.com/optuna/optuna/releases/tag/v3.0.0. Use suggest_float(..., log=True) instead.\n",
            "  C = trial.suggest_loguniform('C', 1e+0, 1e+4)\n",
            "[I 2023-11-17 12:37:23,786] Trial 7 finished with value: 0.8093677632600247 and parameters: {'n_components': 186, 'gamma': 0.012981095162373675, 'C': 4093.7902361227707}. Best is trial 2 with value: 0.8236878748939729.\n",
            "<ipython-input-11-50f0540b0aa1>:11: FutureWarning: suggest_loguniform has been deprecated in v3.0.0. This feature will be removed in v6.0.0. See https://github.com/optuna/optuna/releases/tag/v3.0.0. Use suggest_float(..., log=True) instead.\n",
            "  gamma = trial.suggest_loguniform('gamma', 1e-3, 1e+2)\n",
            "<ipython-input-11-50f0540b0aa1>:12: FutureWarning: suggest_loguniform has been deprecated in v3.0.0. This feature will be removed in v6.0.0. See https://github.com/optuna/optuna/releases/tag/v3.0.0. Use suggest_float(..., log=True) instead.\n",
            "  C = trial.suggest_loguniform('C', 1e+0, 1e+4)\n",
            "[I 2023-11-17 12:49:58,128] Trial 8 finished with value: 0.8144979333402175 and parameters: {'n_components': 278, 'gamma': 7.835530817994142, 'C': 6271.373862819481}. Best is trial 2 with value: 0.8236878748939729.\n",
            "<ipython-input-11-50f0540b0aa1>:11: FutureWarning: suggest_loguniform has been deprecated in v3.0.0. This feature will be removed in v6.0.0. See https://github.com/optuna/optuna/releases/tag/v3.0.0. Use suggest_float(..., log=True) instead.\n",
            "  gamma = trial.suggest_loguniform('gamma', 1e-3, 1e+2)\n",
            "<ipython-input-11-50f0540b0aa1>:12: FutureWarning: suggest_loguniform has been deprecated in v3.0.0. This feature will be removed in v6.0.0. See https://github.com/optuna/optuna/releases/tag/v3.0.0. Use suggest_float(..., log=True) instead.\n",
            "  C = trial.suggest_loguniform('C', 1e+0, 1e+4)\n",
            "[I 2023-11-17 13:08:11,797] Trial 9 finished with value: 0.8162129389431364 and parameters: {'n_components': 423, 'gamma': 0.8540411281955937, 'C': 6022.096508369122}. Best is trial 2 with value: 0.8236878748939729.\n",
            "<ipython-input-11-50f0540b0aa1>:11: FutureWarning: suggest_loguniform has been deprecated in v3.0.0. This feature will be removed in v6.0.0. See https://github.com/optuna/optuna/releases/tag/v3.0.0. Use suggest_float(..., log=True) instead.\n",
            "  gamma = trial.suggest_loguniform('gamma', 1e-3, 1e+2)\n",
            "<ipython-input-11-50f0540b0aa1>:12: FutureWarning: suggest_loguniform has been deprecated in v3.0.0. This feature will be removed in v6.0.0. See https://github.com/optuna/optuna/releases/tag/v3.0.0. Use suggest_float(..., log=True) instead.\n",
            "  C = trial.suggest_loguniform('C', 1e+0, 1e+4)\n",
            "[I 2023-11-17 15:38:19,522] Trial 10 finished with value: 0.6497298821722943 and parameters: {'n_components': 600, 'gamma': 0.002052066908032938, 'C': 1.2167265684561122}. Best is trial 2 with value: 0.8236878748939729.\n",
            "<ipython-input-11-50f0540b0aa1>:11: FutureWarning: suggest_loguniform has been deprecated in v3.0.0. This feature will be removed in v6.0.0. See https://github.com/optuna/optuna/releases/tag/v3.0.0. Use suggest_float(..., log=True) instead.\n",
            "  gamma = trial.suggest_loguniform('gamma', 1e-3, 1e+2)\n",
            "<ipython-input-11-50f0540b0aa1>:12: FutureWarning: suggest_loguniform has been deprecated in v3.0.0. This feature will be removed in v6.0.0. See https://github.com/optuna/optuna/releases/tag/v3.0.0. Use suggest_float(..., log=True) instead.\n",
            "  C = trial.suggest_loguniform('C', 1e+0, 1e+4)\n",
            "[I 2023-11-17 15:56:13,181] Trial 11 finished with value: 0.8185351956452045 and parameters: {'n_components': 427, 'gamma': 68.82362533841926, 'C': 1.1995646047719017}. Best is trial 2 with value: 0.8236878748939729.\n",
            "<ipython-input-11-50f0540b0aa1>:11: FutureWarning: suggest_loguniform has been deprecated in v3.0.0. This feature will be removed in v6.0.0. See https://github.com/optuna/optuna/releases/tag/v3.0.0. Use suggest_float(..., log=True) instead.\n",
            "  gamma = trial.suggest_loguniform('gamma', 1e-3, 1e+2)\n",
            "<ipython-input-11-50f0540b0aa1>:12: FutureWarning: suggest_loguniform has been deprecated in v3.0.0. This feature will be removed in v6.0.0. See https://github.com/optuna/optuna/releases/tag/v3.0.0. Use suggest_float(..., log=True) instead.\n",
            "  C = trial.suggest_loguniform('C', 1e+0, 1e+4)\n",
            "[I 2023-11-17 16:11:22,727] Trial 12 finished with value: 0.8158348954083696 and parameters: {'n_components': 356, 'gamma': 0.09702719652412624, 'C': 492.76438925628344}. Best is trial 2 with value: 0.8236878748939729.\n",
            "<ipython-input-11-50f0540b0aa1>:11: FutureWarning: suggest_loguniform has been deprecated in v3.0.0. This feature will be removed in v6.0.0. See https://github.com/optuna/optuna/releases/tag/v3.0.0. Use suggest_float(..., log=True) instead.\n",
            "  gamma = trial.suggest_loguniform('gamma', 1e-3, 1e+2)\n",
            "<ipython-input-11-50f0540b0aa1>:12: FutureWarning: suggest_loguniform has been deprecated in v3.0.0. This feature will be removed in v6.0.0. See https://github.com/optuna/optuna/releases/tag/v3.0.0. Use suggest_float(..., log=True) instead.\n",
            "  C = trial.suggest_loguniform('C', 1e+0, 1e+4)\n",
            "[I 2023-11-17 16:31:30,332] Trial 13 finished with value: 0.8167131323830015 and parameters: {'n_components': 475, 'gamma': 0.1912512010418702, 'C': 164.94762735005474}. Best is trial 2 with value: 0.8236878748939729.\n",
            "<ipython-input-11-50f0540b0aa1>:11: FutureWarning: suggest_loguniform has been deprecated in v3.0.0. This feature will be removed in v6.0.0. See https://github.com/optuna/optuna/releases/tag/v3.0.0. Use suggest_float(..., log=True) instead.\n",
            "  gamma = trial.suggest_loguniform('gamma', 1e-3, 1e+2)\n",
            "<ipython-input-11-50f0540b0aa1>:12: FutureWarning: suggest_loguniform has been deprecated in v3.0.0. This feature will be removed in v6.0.0. See https://github.com/optuna/optuna/releases/tag/v3.0.0. Use suggest_float(..., log=True) instead.\n",
            "  C = trial.suggest_loguniform('C', 1e+0, 1e+4)\n",
            "[I 2023-11-17 16:47:38,170] Trial 14 finished with value: 0.8161656794784827 and parameters: {'n_components': 367, 'gamma': 64.13963254510917, 'C': 3.4489037474359914}. Best is trial 2 with value: 0.8236878748939729.\n",
            "<ipython-input-11-50f0540b0aa1>:11: FutureWarning: suggest_loguniform has been deprecated in v3.0.0. This feature will be removed in v6.0.0. See https://github.com/optuna/optuna/releases/tag/v3.0.0. Use suggest_float(..., log=True) instead.\n",
            "  gamma = trial.suggest_loguniform('gamma', 1e-3, 1e+2)\n",
            "<ipython-input-11-50f0540b0aa1>:12: FutureWarning: suggest_loguniform has been deprecated in v3.0.0. This feature will be removed in v6.0.0. See https://github.com/optuna/optuna/releases/tag/v3.0.0. Use suggest_float(..., log=True) instead.\n",
            "  C = trial.suggest_loguniform('C', 1e+0, 1e+4)\n",
            "[I 2023-11-17 17:06:37,893] Trial 15 finished with value: 0.8182947018547336 and parameters: {'n_components': 447, 'gamma': 0.08092907253122245, 'C': 38.71929417578491}. Best is trial 2 with value: 0.8236878748939729.\n",
            "<ipython-input-11-50f0540b0aa1>:11: FutureWarning: suggest_loguniform has been deprecated in v3.0.0. This feature will be removed in v6.0.0. See https://github.com/optuna/optuna/releases/tag/v3.0.0. Use suggest_float(..., log=True) instead.\n",
            "  gamma = trial.suggest_loguniform('gamma', 1e-3, 1e+2)\n",
            "<ipython-input-11-50f0540b0aa1>:12: FutureWarning: suggest_loguniform has been deprecated in v3.0.0. This feature will be removed in v6.0.0. See https://github.com/optuna/optuna/releases/tag/v3.0.0. Use suggest_float(..., log=True) instead.\n",
            "  C = trial.suggest_loguniform('C', 1e+0, 1e+4)\n",
            "[I 2023-11-17 17:29:15,827] Trial 16 finished with value: 0.8151460254794503 and parameters: {'n_components': 548, 'gamma': 0.4642546131131667, 'C': 4.35540688421428}. Best is trial 2 with value: 0.8236878748939729.\n",
            "<ipython-input-11-50f0540b0aa1>:11: FutureWarning: suggest_loguniform has been deprecated in v3.0.0. This feature will be removed in v6.0.0. See https://github.com/optuna/optuna/releases/tag/v3.0.0. Use suggest_float(..., log=True) instead.\n",
            "  gamma = trial.suggest_loguniform('gamma', 1e-3, 1e+2)\n",
            "<ipython-input-11-50f0540b0aa1>:12: FutureWarning: suggest_loguniform has been deprecated in v3.0.0. This feature will be removed in v6.0.0. See https://github.com/optuna/optuna/releases/tag/v3.0.0. Use suggest_float(..., log=True) instead.\n",
            "  C = trial.suggest_loguniform('C', 1e+0, 1e+4)\n",
            "[I 2023-11-17 17:58:38,818] Trial 17 finished with value: 0.7528184012156682 and parameters: {'n_components': 387, 'gamma': 0.0015211037246956808, 'C': 116.8820711534836}. Best is trial 2 with value: 0.8236878748939729.\n",
            "<ipython-input-11-50f0540b0aa1>:11: FutureWarning: suggest_loguniform has been deprecated in v3.0.0. This feature will be removed in v6.0.0. See https://github.com/optuna/optuna/releases/tag/v3.0.0. Use suggest_float(..., log=True) instead.\n",
            "  gamma = trial.suggest_loguniform('gamma', 1e-3, 1e+2)\n",
            "<ipython-input-11-50f0540b0aa1>:12: FutureWarning: suggest_loguniform has been deprecated in v3.0.0. This feature will be removed in v6.0.0. See https://github.com/optuna/optuna/releases/tag/v3.0.0. Use suggest_float(..., log=True) instead.\n",
            "  C = trial.suggest_loguniform('C', 1e+0, 1e+4)\n",
            "[I 2023-11-17 18:20:57,282] Trial 18 finished with value: 0.8156582640693676 and parameters: {'n_components': 532, 'gamma': 0.22601332229560478, 'C': 34.847559320620356}. Best is trial 2 with value: 0.8236878748939729.\n",
            "<ipython-input-11-50f0540b0aa1>:11: FutureWarning: suggest_loguniform has been deprecated in v3.0.0. This feature will be removed in v6.0.0. See https://github.com/optuna/optuna/releases/tag/v3.0.0. Use suggest_float(..., log=True) instead.\n",
            "  gamma = trial.suggest_loguniform('gamma', 1e-3, 1e+2)\n",
            "<ipython-input-11-50f0540b0aa1>:12: FutureWarning: suggest_loguniform has been deprecated in v3.0.0. This feature will be removed in v6.0.0. See https://github.com/optuna/optuna/releases/tag/v3.0.0. Use suggest_float(..., log=True) instead.\n",
            "  C = trial.suggest_loguniform('C', 1e+0, 1e+4)\n",
            "[I 2023-11-17 18:35:45,548] Trial 19 finished with value: 0.8160969958327629 and parameters: {'n_components': 342, 'gamma': 23.27501720749756, 'C': 385.0875323754018}. Best is trial 2 with value: 0.8236878748939729.\n",
            "<ipython-input-11-50f0540b0aa1>:11: FutureWarning: suggest_loguniform has been deprecated in v3.0.0. This feature will be removed in v6.0.0. See https://github.com/optuna/optuna/releases/tag/v3.0.0. Use suggest_float(..., log=True) instead.\n",
            "  gamma = trial.suggest_loguniform('gamma', 1e-3, 1e+2)\n",
            "<ipython-input-11-50f0540b0aa1>:12: FutureWarning: suggest_loguniform has been deprecated in v3.0.0. This feature will be removed in v6.0.0. See https://github.com/optuna/optuna/releases/tag/v3.0.0. Use suggest_float(..., log=True) instead.\n",
            "  C = trial.suggest_loguniform('C', 1e+0, 1e+4)\n",
            "[I 2023-11-17 18:55:36,431] Trial 20 finished with value: 0.8172815893751514 and parameters: {'n_components': 457, 'gamma': 1.3682164979321416, 'C': 1516.4805712041507}. Best is trial 2 with value: 0.8236878748939729.\n",
            "<ipython-input-11-50f0540b0aa1>:11: FutureWarning: suggest_loguniform has been deprecated in v3.0.0. This feature will be removed in v6.0.0. See https://github.com/optuna/optuna/releases/tag/v3.0.0. Use suggest_float(..., log=True) instead.\n",
            "  gamma = trial.suggest_loguniform('gamma', 1e-3, 1e+2)\n",
            "<ipython-input-11-50f0540b0aa1>:12: FutureWarning: suggest_loguniform has been deprecated in v3.0.0. This feature will be removed in v6.0.0. See https://github.com/optuna/optuna/releases/tag/v3.0.0. Use suggest_float(..., log=True) instead.\n",
            "  C = trial.suggest_loguniform('C', 1e+0, 1e+4)\n",
            "[I 2023-11-17 19:13:46,868] Trial 21 finished with value: 0.8182435980254482 and parameters: {'n_components': 418, 'gamma': 64.63719931773622, 'C': 1.181877147098698}. Best is trial 2 with value: 0.8236878748939729.\n",
            "<ipython-input-11-50f0540b0aa1>:11: FutureWarning: suggest_loguniform has been deprecated in v3.0.0. This feature will be removed in v6.0.0. See https://github.com/optuna/optuna/releases/tag/v3.0.0. Use suggest_float(..., log=True) instead.\n",
            "  gamma = trial.suggest_loguniform('gamma', 1e-3, 1e+2)\n",
            "<ipython-input-11-50f0540b0aa1>:12: FutureWarning: suggest_loguniform has been deprecated in v3.0.0. This feature will be removed in v6.0.0. See https://github.com/optuna/optuna/releases/tag/v3.0.0. Use suggest_float(..., log=True) instead.\n",
            "  C = trial.suggest_loguniform('C', 1e+0, 1e+4)\n",
            "[I 2023-11-17 19:32:45,533] Trial 22 finished with value: 0.8171224186328925 and parameters: {'n_components': 424, 'gamma': 89.1605910919874, 'C': 2.5579101743044195}. Best is trial 2 with value: 0.8236878748939729.\n",
            "<ipython-input-11-50f0540b0aa1>:11: FutureWarning: suggest_loguniform has been deprecated in v3.0.0. This feature will be removed in v6.0.0. See https://github.com/optuna/optuna/releases/tag/v3.0.0. Use suggest_float(..., log=True) instead.\n",
            "  gamma = trial.suggest_loguniform('gamma', 1e-3, 1e+2)\n",
            "<ipython-input-11-50f0540b0aa1>:12: FutureWarning: suggest_loguniform has been deprecated in v3.0.0. This feature will be removed in v6.0.0. See https://github.com/optuna/optuna/releases/tag/v3.0.0. Use suggest_float(..., log=True) instead.\n",
            "  C = trial.suggest_loguniform('C', 1e+0, 1e+4)\n",
            "[I 2023-11-17 19:53:21,700] Trial 23 finished with value: 0.8150278103865144 and parameters: {'n_components': 469, 'gamma': 21.649403110612063, 'C': 1.9607034017385065}. Best is trial 2 with value: 0.8236878748939729.\n",
            "<ipython-input-11-50f0540b0aa1>:11: FutureWarning: suggest_loguniform has been deprecated in v3.0.0. This feature will be removed in v6.0.0. See https://github.com/optuna/optuna/releases/tag/v3.0.0. Use suggest_float(..., log=True) instead.\n",
            "  gamma = trial.suggest_loguniform('gamma', 1e-3, 1e+2)\n",
            "<ipython-input-11-50f0540b0aa1>:12: FutureWarning: suggest_loguniform has been deprecated in v3.0.0. This feature will be removed in v6.0.0. See https://github.com/optuna/optuna/releases/tag/v3.0.0. Use suggest_float(..., log=True) instead.\n",
            "  C = trial.suggest_loguniform('C', 1e+0, 1e+4)\n",
            "[I 2023-11-17 20:14:25,083] Trial 24 finished with value: 0.8136541282234176 and parameters: {'n_components': 512, 'gamma': 2.9554294704396873, 'C': 5.40116107474498}. Best is trial 2 with value: 0.8236878748939729.\n",
            "<ipython-input-11-50f0540b0aa1>:11: FutureWarning: suggest_loguniform has been deprecated in v3.0.0. This feature will be removed in v6.0.0. See https://github.com/optuna/optuna/releases/tag/v3.0.0. Use suggest_float(..., log=True) instead.\n",
            "  gamma = trial.suggest_loguniform('gamma', 1e-3, 1e+2)\n",
            "<ipython-input-11-50f0540b0aa1>:12: FutureWarning: suggest_loguniform has been deprecated in v3.0.0. This feature will be removed in v6.0.0. See https://github.com/optuna/optuna/releases/tag/v3.0.0. Use suggest_float(..., log=True) instead.\n",
            "  C = trial.suggest_loguniform('C', 1e+0, 1e+4)\n",
            "[I 2023-11-17 20:29:56,659] Trial 25 finished with value: 0.812712533691367 and parameters: {'n_components': 328, 'gamma': 29.006636323305067, 'C': 1.1770062561689103}. Best is trial 2 with value: 0.8236878748939729.\n",
            "<ipython-input-11-50f0540b0aa1>:11: FutureWarning: suggest_loguniform has been deprecated in v3.0.0. This feature will be removed in v6.0.0. See https://github.com/optuna/optuna/releases/tag/v3.0.0. Use suggest_float(..., log=True) instead.\n",
            "  gamma = trial.suggest_loguniform('gamma', 1e-3, 1e+2)\n",
            "<ipython-input-11-50f0540b0aa1>:12: FutureWarning: suggest_loguniform has been deprecated in v3.0.0. This feature will be removed in v6.0.0. See https://github.com/optuna/optuna/releases/tag/v3.0.0. Use suggest_float(..., log=True) instead.\n",
            "  C = trial.suggest_loguniform('C', 1e+0, 1e+4)\n",
            "[I 2023-11-17 20:47:50,960] Trial 26 finished with value: 0.8161502614656617 and parameters: {'n_components': 402, 'gamma': 11.895441826683967, 'C': 5.40967129740447}. Best is trial 2 with value: 0.8236878748939729.\n",
            "<ipython-input-11-50f0540b0aa1>:11: FutureWarning: suggest_loguniform has been deprecated in v3.0.0. This feature will be removed in v6.0.0. See https://github.com/optuna/optuna/releases/tag/v3.0.0. Use suggest_float(..., log=True) instead.\n",
            "  gamma = trial.suggest_loguniform('gamma', 1e-3, 1e+2)\n",
            "<ipython-input-11-50f0540b0aa1>:12: FutureWarning: suggest_loguniform has been deprecated in v3.0.0. This feature will be removed in v6.0.0. See https://github.com/optuna/optuna/releases/tag/v3.0.0. Use suggest_float(..., log=True) instead.\n",
            "  C = trial.suggest_loguniform('C', 1e+0, 1e+4)\n",
            "[I 2023-11-17 21:13:58,017] Trial 27 finished with value: 0.8139120112239391 and parameters: {'n_components': 589, 'gamma': 2.696503582776443, 'C': 2.2693758561595065}. Best is trial 2 with value: 0.8236878748939729.\n",
            "<ipython-input-11-50f0540b0aa1>:11: FutureWarning: suggest_loguniform has been deprecated in v3.0.0. This feature will be removed in v6.0.0. See https://github.com/optuna/optuna/releases/tag/v3.0.0. Use suggest_float(..., log=True) instead.\n",
            "  gamma = trial.suggest_loguniform('gamma', 1e-3, 1e+2)\n",
            "<ipython-input-11-50f0540b0aa1>:12: FutureWarning: suggest_loguniform has been deprecated in v3.0.0. This feature will be removed in v6.0.0. See https://github.com/optuna/optuna/releases/tag/v3.0.0. Use suggest_float(..., log=True) instead.\n",
            "  C = trial.suggest_loguniform('C', 1e+0, 1e+4)\n"
          ]
        }
      ]
    },
    {
      "cell_type": "code",
      "source": [
        "\n",
        "\n",
        "# 최적의 하이퍼파라미터 출력\n",
        "print('Best trial:')\n",
        "trial = study.best_trial\n",
        "print('  Value: ', trial.value)\n",
        "print('  Params: ')\n",
        "for key, value in trial.params.items():\n",
        "    print('    {}: {}'.format(key, value))"
      ],
      "metadata": {
        "id": "CUr-2o3O-y4P"
      },
      "execution_count": null,
      "outputs": []
    },
    {
      "cell_type": "code",
      "source": [
        "optuna.visualization.plot_optimization_history(study)"
      ],
      "metadata": {
        "id": "l-xW-qQkEjPw"
      },
      "execution_count": null,
      "outputs": []
    },
    {
      "cell_type": "code",
      "source": [
        "# 파라미터들관의 관계\n",
        "optuna.visualization.plot_parallel_coordinate(study)"
      ],
      "metadata": {
        "id": "T9AnM6bWjp9j"
      },
      "execution_count": null,
      "outputs": []
    },
    {
      "cell_type": "code",
      "source": [
        "# 하이퍼파라미터 중요도\n",
        "optuna.visualization.plot_param_importances(study)"
      ],
      "metadata": {
        "id": "vBD6V65bEst9"
      },
      "execution_count": null,
      "outputs": []
    },
    {
      "cell_type": "code",
      "source": [
        "# 각 파라미터들의 상관관계\n",
        "optuna.visualization.plot_contour(\n",
        "    study,\n",
        "    params=[\n",
        "        \"n_components\",\n",
        "       \"svc_c\",\n",
        "       \"svc_gamma\"\n",
        "    ],\n",
        ")"
      ],
      "metadata": {
        "id": "pG7IohlpEvId"
      },
      "execution_count": null,
      "outputs": []
    },
    {
      "cell_type": "code",
      "execution_count": null,
      "metadata": {
        "id": "J-UHNlJi3q2j",
        "outputId": "47589a9f-6d6c-4ba7-de5a-5634fbb6a056"
      },
      "outputs": [
        {
          "data": {
            "text/html": [
              "<style>#sk-container-id-1 {color: black;}#sk-container-id-1 pre{padding: 0;}#sk-container-id-1 div.sk-toggleable {background-color: white;}#sk-container-id-1 label.sk-toggleable__label {cursor: pointer;display: block;width: 100%;margin-bottom: 0;padding: 0.3em;box-sizing: border-box;text-align: center;}#sk-container-id-1 label.sk-toggleable__label-arrow:before {content: \"▸\";float: left;margin-right: 0.25em;color: #696969;}#sk-container-id-1 label.sk-toggleable__label-arrow:hover:before {color: black;}#sk-container-id-1 div.sk-estimator:hover label.sk-toggleable__label-arrow:before {color: black;}#sk-container-id-1 div.sk-toggleable__content {max-height: 0;max-width: 0;overflow: hidden;text-align: left;background-color: #f0f8ff;}#sk-container-id-1 div.sk-toggleable__content pre {margin: 0.2em;color: black;border-radius: 0.25em;background-color: #f0f8ff;}#sk-container-id-1 input.sk-toggleable__control:checked~div.sk-toggleable__content {max-height: 200px;max-width: 100%;overflow: auto;}#sk-container-id-1 input.sk-toggleable__control:checked~label.sk-toggleable__label-arrow:before {content: \"▾\";}#sk-container-id-1 div.sk-estimator input.sk-toggleable__control:checked~label.sk-toggleable__label {background-color: #d4ebff;}#sk-container-id-1 div.sk-label input.sk-toggleable__control:checked~label.sk-toggleable__label {background-color: #d4ebff;}#sk-container-id-1 input.sk-hidden--visually {border: 0;clip: rect(1px 1px 1px 1px);clip: rect(1px, 1px, 1px, 1px);height: 1px;margin: -1px;overflow: hidden;padding: 0;position: absolute;width: 1px;}#sk-container-id-1 div.sk-estimator {font-family: monospace;background-color: #f0f8ff;border: 1px dotted black;border-radius: 0.25em;box-sizing: border-box;margin-bottom: 0.5em;}#sk-container-id-1 div.sk-estimator:hover {background-color: #d4ebff;}#sk-container-id-1 div.sk-parallel-item::after {content: \"\";width: 100%;border-bottom: 1px solid gray;flex-grow: 1;}#sk-container-id-1 div.sk-label:hover label.sk-toggleable__label {background-color: #d4ebff;}#sk-container-id-1 div.sk-serial::before {content: \"\";position: absolute;border-left: 1px solid gray;box-sizing: border-box;top: 0;bottom: 0;left: 50%;z-index: 0;}#sk-container-id-1 div.sk-serial {display: flex;flex-direction: column;align-items: center;background-color: white;padding-right: 0.2em;padding-left: 0.2em;position: relative;}#sk-container-id-1 div.sk-item {position: relative;z-index: 1;}#sk-container-id-1 div.sk-parallel {display: flex;align-items: stretch;justify-content: center;background-color: white;position: relative;}#sk-container-id-1 div.sk-item::before, #sk-container-id-1 div.sk-parallel-item::before {content: \"\";position: absolute;border-left: 1px solid gray;box-sizing: border-box;top: 0;bottom: 0;left: 50%;z-index: -1;}#sk-container-id-1 div.sk-parallel-item {display: flex;flex-direction: column;z-index: 1;position: relative;background-color: white;}#sk-container-id-1 div.sk-parallel-item:first-child::after {align-self: flex-end;width: 50%;}#sk-container-id-1 div.sk-parallel-item:last-child::after {align-self: flex-start;width: 50%;}#sk-container-id-1 div.sk-parallel-item:only-child::after {width: 0;}#sk-container-id-1 div.sk-dashed-wrapped {border: 1px dashed gray;margin: 0 0.4em 0.5em 0.4em;box-sizing: border-box;padding-bottom: 0.4em;background-color: white;}#sk-container-id-1 div.sk-label label {font-family: monospace;font-weight: bold;display: inline-block;line-height: 1.2em;}#sk-container-id-1 div.sk-label-container {text-align: center;}#sk-container-id-1 div.sk-container {/* jupyter's `normalize.less` sets `[hidden] { display: none; }` but bootstrap.min.css set `[hidden] { display: none !important; }` so we also need the `!important` here to be able to override the default hidden behavior on the sphinx rendered scikit-learn.org. See: https://github.com/scikit-learn/scikit-learn/issues/21755 */display: inline-block !important;position: relative;}#sk-container-id-1 div.sk-text-repr-fallback {display: none;}</style><div id=\"sk-container-id-1\" class=\"sk-top-container\"><div class=\"sk-text-repr-fallback\"><pre>SVC(C=8)</pre><b>In a Jupyter environment, please rerun this cell to show the HTML representation or trust the notebook. <br />On GitHub, the HTML representation is unable to render, please try loading this page with nbviewer.org.</b></div><div class=\"sk-container\" hidden><div class=\"sk-item\"><div class=\"sk-estimator sk-toggleable\"><input class=\"sk-toggleable__control sk-hidden--visually\" id=\"sk-estimator-id-1\" type=\"checkbox\" checked><label for=\"sk-estimator-id-1\" class=\"sk-toggleable__label sk-toggleable__label-arrow\">SVC</label><div class=\"sk-toggleable__content\"><pre>SVC(C=8)</pre></div></div></div></div></div>"
            ],
            "text/plain": [
              "SVC(C=8)"
            ]
          },
          "execution_count": 8,
          "metadata": {},
          "output_type": "execute_result"
        }
      ],
      "source": [
        "# svc = SVC(gamma='scale',kernel='rbf',C=8)\n",
        "# svc.fit(X_train_PCA1,y_train)"
      ]
    },
    {
      "cell_type": "code",
      "execution_count": null,
      "metadata": {
        "id": "i915kSsK3q2k"
      },
      "outputs": [],
      "source": [
        "# y_pred_svc = svc.predict(X_test_PCA1)\n",
        "# y_train_svc = svc.predict(X_train_PCA1)"
      ]
    },
    {
      "cell_type": "code",
      "execution_count": null,
      "metadata": {
        "id": "EWTDOrhD3q2k",
        "outputId": "01394621-0dbd-4485-848e-fce53631a893"
      },
      "outputs": [
        {
          "name": "stdout",
          "output_type": "stream",
          "text": [
            "Train Accuracy score: 0.9763333333333334\n",
            "Test Accuracy score: 0.9101666666666667\n",
            "              precision    recall  f1-score   support\n",
            "\n",
            "           0       0.84      0.86      0.85       574\n",
            "           1       0.99      0.99      0.99       596\n",
            "           2       0.83      0.84      0.84       573\n",
            "           3       0.91      0.94      0.93       624\n",
            "           4       0.86      0.86      0.86       635\n",
            "           5       0.99      0.96      0.98       632\n",
            "           6       0.77      0.73      0.75       600\n",
            "           7       0.94      0.97      0.96       604\n",
            "           8       0.97      0.98      0.98       598\n",
            "           9       0.97      0.96      0.97       564\n",
            "\n",
            "    accuracy                           0.91      6000\n",
            "   macro avg       0.91      0.91      0.91      6000\n",
            "weighted avg       0.91      0.91      0.91      6000\n",
            "\n"
          ]
        }
      ],
      "source": [
        "# svc_train = metrics.accuracy_score(y_train,y_train_svc)\n",
        "# svc_accuracy = metrics.accuracy_score(y_val, y_pred_svc)\n",
        "\n",
        "# print(\"Train Accuracy score: {}\".format(svc_train))\n",
        "# print(\"Test Accuracy score: {}\".format(svc_accuracy))\n",
        "# print(metrics.classification_report(y_val, y_pred_svc))"
      ]
    },
    {
      "cell_type": "code",
      "execution_count": null,
      "metadata": {
        "id": "-Q0cvotA3q2l"
      },
      "outputs": [],
      "source": []
    }
  ],
  "metadata": {
    "kernelspec": {
      "display_name": "ml",
      "language": "python",
      "name": "python3"
    },
    "language_info": {
      "codemirror_mode": {
        "name": "ipython",
        "version": 3
      },
      "file_extension": ".py",
      "mimetype": "text/x-python",
      "name": "python",
      "nbconvert_exporter": "python",
      "pygments_lexer": "ipython3",
      "version": "3.9.13"
    },
    "colab": {
      "provenance": []
    }
  },
  "nbformat": 4,
  "nbformat_minor": 0
}