{
  "cells": [
    {
      "cell_type": "code",
      "execution_count": 25,
      "metadata": {
        "id": "99IcNqG63q2f"
      },
      "outputs": [],
      "source": [
        "from sklearn.model_selection import train_test_split\n",
        "from sklearn.metrics import accuracy_score\n",
        "import matplotlib.pyplot as plt\n",
        "import seaborn as sns\n",
        "import plotly.graph_objects as go\n",
        "from sklearn.metrics import confusion_matrix\n",
        "from sklearn import metrics\n",
        "from sklearn.decomposition import PCA\n",
        "from sklearn.linear_model import LogisticRegression\n",
        "from sklearn.svm import SVC\n",
        "from sklearn.ensemble import RandomForestClassifier\n",
        "from sklearn import ensemble\n",
        "from xgboost import XGBClassifier\n",
        "import time\n",
        "import pandas as pd\n",
        "import cv2\n",
        "import numpy as np"
      ]
    },
    {
      "cell_type": "code",
      "execution_count": 26,
      "metadata": {
        "id": "emy5HT1T3q2h"
      },
      "outputs": [],
      "source": [
        "import warnings\n",
        "warnings.filterwarnings(action='ignore', category=UserWarning)"
      ]
    },
    {
      "cell_type": "code",
      "execution_count": 27,
      "metadata": {
        "id": "XLy3i9aa3q2i",
        "colab": {
          "base_uri": "https://localhost:8080/"
        },
        "outputId": "5028f112-f62a-450b-b3ac-1f48356b36cb"
      },
      "outputs": [
        {
          "output_type": "execute_result",
          "data": {
            "text/plain": [
              "0"
            ]
          },
          "metadata": {},
          "execution_count": 27
        }
      ],
      "source": [
        "\n",
        "train = pd.read_csv('fashion-mnist_train.csv')\n",
        "test = pd.read_csv('fashion-mnist_test.csv')\n",
        "train.isnull().any().sum()\n",
        "test.isnull().any().sum()"
      ]
    },
    {
      "cell_type": "code",
      "source": [
        "train.shape"
      ],
      "metadata": {
        "colab": {
          "base_uri": "https://localhost:8080/"
        },
        "id": "KWjNSFKVe7lT",
        "outputId": "71860795-76b6-4eee-f6ef-2ff254872eb1"
      },
      "execution_count": 28,
      "outputs": [
        {
          "output_type": "execute_result",
          "data": {
            "text/plain": [
              "(60000, 785)"
            ]
          },
          "metadata": {},
          "execution_count": 28
        }
      ]
    },
    {
      "cell_type": "code",
      "source": [
        "test.shape"
      ],
      "metadata": {
        "colab": {
          "base_uri": "https://localhost:8080/"
        },
        "id": "pPJvXgI0e8Rw",
        "outputId": "4f2e9bc5-fc9e-4ec5-d8a0-a48a97b338a5"
      },
      "execution_count": 29,
      "outputs": [
        {
          "output_type": "execute_result",
          "data": {
            "text/plain": [
              "(10000, 785)"
            ]
          },
          "metadata": {},
          "execution_count": 29
        }
      ]
    },
    {
      "cell_type": "code",
      "execution_count": 30,
      "metadata": {
        "id": "xy95owsr3q2i"
      },
      "outputs": [],
      "source": [
        "df_train = train.copy()\n",
        "df_test = test.copy()"
      ]
    },
    {
      "cell_type": "code",
      "execution_count": 31,
      "metadata": {
        "id": "yyYLogAI3q2i"
      },
      "outputs": [],
      "source": [
        "X_train= df_train.drop(['label'],axis = 1)\n",
        "X_label = df_train['label']\n",
        "y_test = df_test.drop(['label'],axis = 1)\n",
        "y_label = df_test['label']\n",
        "\n",
        "X_train = X_train.astype('float32')\n",
        "y_test = y_test.astype('float32')\n",
        "X_train /= 255.0\n",
        "y_test /=255.0"
      ]
    },
    {
      "cell_type": "code",
      "source": [
        "# X_train과 X_label을 하나의 데이터 프레임으로 합침\n",
        "df_train = pd.concat([X_train, X_label], axis=1)\n",
        "\n",
        "# 데이터 프레임을 섞음\n",
        "df_train = df_train.sample(frac=1, random_state=42)\n",
        "\n",
        "# 섞인 데이터 프레임에서 훈련 데이터와 레이블을 다시 분리\n",
        "X_train = df_train.drop(['label'], axis=1)\n",
        "X_label = df_train['label']"
      ],
      "metadata": {
        "id": "QO0OCJA_eXnl"
      },
      "execution_count": 32,
      "outputs": []
    },
    {
      "cell_type": "code",
      "source": [
        "X_label = X_label.values # change to array for mAP"
      ],
      "metadata": {
        "id": "s8vm0HfFcw3c"
      },
      "execution_count": 33,
      "outputs": []
    },
    {
      "cell_type": "code",
      "source": [
        "y_label = y_label.values # change to array for mAP"
      ],
      "metadata": {
        "id": "xwnPE--Gbuml"
      },
      "execution_count": 34,
      "outputs": []
    },
    {
      "cell_type": "code",
      "source": [
        "from skimage.feature import hog\n",
        "def apply_hog(images):\n",
        "    result = []\n",
        "    for image in images:\n",
        "        hog_features = hog(image, orientations=9, pixels_per_cell=(1, 1),\n",
        "                        cells_per_block=(2, 2), block_norm='L2-Hys')\n",
        "        result.append(hog_features)\n",
        "    return result\n"
      ],
      "metadata": {
        "id": "fVfeVhm5PI7y"
      },
      "execution_count": 35,
      "outputs": []
    },
    {
      "cell_type": "code",
      "source": [
        "print(X_train.shape)\n",
        "print(y_test.shape)"
      ],
      "metadata": {
        "colab": {
          "base_uri": "https://localhost:8080/"
        },
        "id": "jdm1cfuAT-wS",
        "outputId": "1df3b098-5f5f-47fb-b737-ca8bfadcbad5"
      },
      "execution_count": 36,
      "outputs": [
        {
          "output_type": "stream",
          "name": "stdout",
          "text": [
            "(60000, 784)\n",
            "(10000, 784)\n"
          ]
        }
      ]
    },
    {
      "cell_type": "code",
      "source": [
        "X_train = np.array(X_train)\n",
        "X_train = X_train.reshape(-1, 28, 28)\n",
        "y_test = np.array(y_test)\n",
        "y_test = y_test.reshape(-1, 28, 28)"
      ],
      "metadata": {
        "id": "w93Yskv5UyNr"
      },
      "execution_count": 37,
      "outputs": []
    },
    {
      "cell_type": "code",
      "source": [
        "print(X_train.shape)\n",
        "print(y_test.shape)"
      ],
      "metadata": {
        "colab": {
          "base_uri": "https://localhost:8080/"
        },
        "id": "s_NWdV_kVOLk",
        "outputId": "9b9f02de-0349-415e-ad15-4d18d74df552"
      },
      "execution_count": 38,
      "outputs": [
        {
          "output_type": "stream",
          "name": "stdout",
          "text": [
            "(60000, 28, 28)\n",
            "(10000, 28, 28)\n"
          ]
        }
      ]
    },
    {
      "cell_type": "code",
      "source": [
        "X_train_hog = apply_hog(X_train)\n",
        "y_test_hog = apply_hog(y_test)\n",
        "X_train_hog = np.array(X_train_hog)\n",
        "y_test_hog = np.array(y_test_hog)\n"
      ],
      "metadata": {
        "id": "3iqziXcrPL4Y"
      },
      "execution_count": 39,
      "outputs": []
    },
    {
      "cell_type": "code",
      "source": [
        "print(\"HOG 특성을 적용한 X_train의 형태: \", np.array(X_train_hog).shape)\n",
        "print(\"HOG 특성을 적용한 y_test의 형태: \", np.array(y_test_hog).shape)"
      ],
      "metadata": {
        "colab": {
          "base_uri": "https://localhost:8080/"
        },
        "id": "AE7ds0A4Vlko",
        "outputId": "8f63bd56-edd8-4f8f-d4cc-ba891339efc0"
      },
      "execution_count": 40,
      "outputs": [
        {
          "output_type": "stream",
          "name": "stdout",
          "text": [
            "HOG 특성을 적용한 X_train의 형태:  (60000, 6084)\n",
            "HOG 특성을 적용한 y_test의 형태:  (10000, 6084)\n"
          ]
        }
      ]
    },
    {
      "cell_type": "code",
      "source": [
        "from skimage.io import imshow\n",
        "from skimage import exposure\n",
        "# 첫 번째 이미지의 HOG 특성 계산 및 시각화\n",
        "image = X_train[0].reshape((28, 28))\n",
        "hog_features, hog_image = hog(image, orientations=8, pixels_per_cell=(2, 2),\n",
        "                              cells_per_block=(2, 2), visualize=True, multichannel=False)\n",
        "\n",
        "# 원본 이미지와 HOG 특성 이미지를 출력\n",
        "fig, (ax1, ax2) = plt.subplots(1, 2, figsize=(8, 4), sharex=True, sharey=True)\n",
        "\n",
        "ax1.axis('off')\n",
        "ax1.imshow(image, cmap=plt.cm.gray)\n",
        "ax1.set_title('Input image')\n",
        "\n",
        "# Rescale histogram for better display\n",
        "hog_image_rescaled = exposure.rescale_intensity(hog_image, in_range=(0, 10))\n",
        "\n",
        "ax2.axis('off')\n",
        "ax2.imshow(hog_image_rescaled, cmap=plt.cm.gray)\n",
        "ax2.set_title('Histogram of Oriented Gradients')\n",
        "plt.show()"
      ],
      "metadata": {
        "colab": {
          "base_uri": "https://localhost:8080/",
          "height": 377
        },
        "id": "0w0PlJwpVv8n",
        "outputId": "5ff4e1e7-3864-4341-b3f6-a8826e0b05cb"
      },
      "execution_count": 41,
      "outputs": [
        {
          "output_type": "stream",
          "name": "stderr",
          "text": [
            "<ipython-input-41-542a7b0d6ea1>:5: FutureWarning: `multichannel` is a deprecated argument name for `hog`. It will be removed in version 1.0. Please use `channel_axis` instead.\n",
            "  hog_features, hog_image = hog(image, orientations=8, pixels_per_cell=(2, 2),\n"
          ]
        },
        {
          "output_type": "display_data",
          "data": {
            "text/plain": [
              "<Figure size 800x400 with 2 Axes>"
            ],
            "image/png": "[encoded data removed]"
          },
          "metadata": {}
        }
      ]
    },
    {
      "cell_type": "markdown",
      "source": [],
      "metadata": {
        "id": "UjPSuUvoyAzc"
      }
    },
    {
      "cell_type": "code",
      "source": [
        "from sklearn.metrics import auc\n",
        "from collections import Counter\n",
        "def calculate_mAP(preds,label):\n",
        "    ## mAP calculation\n",
        "    AP = []\n",
        "    num_class = 10\n",
        "    predict_label_count_dict = Counter(preds)\n",
        "    predict_label_count_dict = dict(sorted(predict_label_count_dict.items()))\n",
        "\n",
        "    # For each class\n",
        "    for c, freq in predict_label_count_dict.items() :\n",
        "        TP = 0\n",
        "        FN = 0\n",
        "\n",
        "        temp_precision = []\n",
        "        temp_recall = []\n",
        "\n",
        "        for i in range(len(preds)):\n",
        "            # Calculate TP and FN\n",
        "            if label[i] == c and preds[i] == c :\n",
        "                TP += 1\n",
        "            elif label[i] != c and preds[i] == c :\n",
        "                FN += 1\n",
        "\n",
        "            # Calculate precision and recall\n",
        "            if TP+FN != 0:\n",
        "                temp_precision.append(TP/(TP+FN))\n",
        "                temp_recall.append(TP/freq)\n",
        "\n",
        "        # Save the AP value of each class to AP array\n",
        "        AP.append(auc(temp_recall, temp_precision))\n",
        "\n",
        "    # Calculate mAP\n",
        "    mAP = sum(AP) / num_class\n",
        "\n",
        "    return mAP\n"
      ],
      "metadata": {
        "id": "r-vbHvqeQ_5Z"
      },
      "execution_count": 42,
      "outputs": []
    },
    {
      "cell_type": "code",
      "source": [
        "pca = PCA(n_components=400)\n",
        "pca.fit(X_train_hog)\n",
        "X_train_pca = pca.transform(X_train_hog)\n",
        "y_test_pca = pca.transform(y_test_hog)\n",
        "\n",
        "X_train_PCA1 = pd.DataFrame(X_train_pca)\n",
        "X_test_PCA1 = pd.DataFrame(y_test_pca)"
      ],
      "metadata": {
        "id": "UBqdMEFvpFEj"
      },
      "execution_count": 43,
      "outputs": []
    },
    {
      "cell_type": "code",
      "source": [
        "optimal_c = 8\n",
        "svc = SVC(gamma='scale',kernel='rbf',C=optimal_c )\n",
        "svc.fit(X_train_PCA1,X_label)"
      ],
      "metadata": {
        "colab": {
          "base_uri": "https://localhost:8080/",
          "height": 74
        },
        "id": "iH2iv21bpI_Y",
        "outputId": "07316595-8ae4-4566-b1f2-dd24e2c45987"
      },
      "execution_count": 44,
      "outputs": [
        {
          "output_type": "execute_result",
          "data": {
            "text/plain": [
              "SVC(C=5)"
            ],
            "text/html": [
              "<style>#sk-container-id-2 {color: black;background-color: white;}#sk-container-id-2 pre{padding: 0;}#sk-container-id-2 div.sk-toggleable {background-color: white;}#sk-container-id-2 label.sk-toggleable__label {cursor: pointer;display: block;width: 100%;margin-bottom: 0;padding: 0.3em;box-sizing: border-box;text-align: center;}#sk-container-id-2 label.sk-toggleable__label-arrow:before {content: \"▸\";float: left;margin-right: 0.25em;color: #696969;}#sk-container-id-2 label.sk-toggleable__label-arrow:hover:before {color: black;}#sk-container-id-2 div.sk-estimator:hover label.sk-toggleable__label-arrow:before {color: black;}#sk-container-id-2 div.sk-toggleable__content {max-height: 0;max-width: 0;overflow: hidden;text-align: left;background-color: #f0f8ff;}#sk-container-id-2 div.sk-toggleable__content pre {margin: 0.2em;color: black;border-radius: 0.25em;background-color: #f0f8ff;}#sk-container-id-2 input.sk-toggleable__control:checked~div.sk-toggleable__content {max-height: 200px;max-width: 100%;overflow: auto;}#sk-container-id-2 input.sk-toggleable__control:checked~label.sk-toggleable__label-arrow:before {content: \"▾\";}#sk-container-id-2 div.sk-estimator input.sk-toggleable__control:checked~label.sk-toggleable__label {background-color: #d4ebff;}#sk-container-id-2 div.sk-label input.sk-toggleable__control:checked~label.sk-toggleable__label {background-color: #d4ebff;}#sk-container-id-2 input.sk-hidden--visually {border: 0;clip: rect(1px 1px 1px 1px);clip: rect(1px, 1px, 1px, 1px);height: 1px;margin: -1px;overflow: hidden;padding: 0;position: absolute;width: 1px;}#sk-container-id-2 div.sk-estimator {font-family: monospace;background-color: #f0f8ff;border: 1px dotted black;border-radius: 0.25em;box-sizing: border-box;margin-bottom: 0.5em;}#sk-container-id-2 div.sk-estimator:hover {background-color: #d4ebff;}#sk-container-id-2 div.sk-parallel-item::after {content: \"\";width: 100%;border-bottom: 1px solid gray;flex-grow: 1;}#sk-container-id-2 div.sk-label:hover label.sk-toggleable__label {background-color: #d4ebff;}#sk-container-id-2 div.sk-serial::before {content: \"\";position: absolute;border-left: 1px solid gray;box-sizing: border-box;top: 0;bottom: 0;left: 50%;z-index: 0;}#sk-container-id-2 div.sk-serial {display: flex;flex-direction: column;align-items: center;background-color: white;padding-right: 0.2em;padding-left: 0.2em;position: relative;}#sk-container-id-2 div.sk-item {position: relative;z-index: 1;}#sk-container-id-2 div.sk-parallel {display: flex;align-items: stretch;justify-content: center;background-color: white;position: relative;}#sk-container-id-2 div.sk-item::before, #sk-container-id-2 div.sk-parallel-item::before {content: \"\";position: absolute;border-left: 1px solid gray;box-sizing: border-box;top: 0;bottom: 0;left: 50%;z-index: -1;}#sk-container-id-2 div.sk-parallel-item {display: flex;flex-direction: column;z-index: 1;position: relative;background-color: white;}#sk-container-id-2 div.sk-parallel-item:first-child::after {align-self: flex-end;width: 50%;}#sk-container-id-2 div.sk-parallel-item:last-child::after {align-self: flex-start;width: 50%;}#sk-container-id-2 div.sk-parallel-item:only-child::after {width: 0;}#sk-container-id-2 div.sk-dashed-wrapped {border: 1px dashed gray;margin: 0 0.4em 0.5em 0.4em;box-sizing: border-box;padding-bottom: 0.4em;background-color: white;}#sk-container-id-2 div.sk-label label {font-family: monospace;font-weight: bold;display: inline-block;line-height: 1.2em;}#sk-container-id-2 div.sk-label-container {text-align: center;}#sk-container-id-2 div.sk-container {/* jupyter's `normalize.less` sets `[hidden] { display: none; }` but bootstrap.min.css set `[hidden] { display: none !important; }` so we also need the `!important` here to be able to override the default hidden behavior on the sphinx rendered scikit-learn.org. See: https://github.com/scikit-learn/scikit-learn/issues/21755 */display: inline-block !important;position: relative;}#sk-container-id-2 div.sk-text-repr-fallback {display: none;}</style><div id=\"sk-container-id-2\" class=\"sk-top-container\"><div class=\"sk-text-repr-fallback\"><pre>SVC(C=5)</pre><b>In a Jupyter environment, please rerun this cell to show the HTML representation or trust the notebook. <br />On GitHub, the HTML representation is unable to render, please try loading this page with nbviewer.org.</b></div><div class=\"sk-container\" hidden><div class=\"sk-item\"><div class=\"sk-estimator sk-toggleable\"><input class=\"sk-toggleable__control sk-hidden--visually\" id=\"sk-estimator-id-2\" type=\"checkbox\" checked><label for=\"sk-estimator-id-2\" class=\"sk-toggleable__label sk-toggleable__label-arrow\">SVC</label><div class=\"sk-toggleable__content\"><pre>SVC(C=5)</pre></div></div></div></div></div>"
            ]
          },
          "metadata": {},
          "execution_count": 44
        }
      ]
    },
    {
      "cell_type": "code",
      "source": [
        "svc_train = svc.predict(X_train_PCA1)\n",
        "svc_pred = svc.predict(X_test_PCA1)"
      ],
      "metadata": {
        "id": "hAhl7pHdpo5l"
      },
      "execution_count": 45,
      "outputs": []
    },
    {
      "cell_type": "code",
      "source": [
        "train_acc = metrics.accuracy_score(X_label,svc_train)\n",
        "test_acc = metrics.accuracy_score(y_label, svc_pred)\n",
        "\n",
        "print(\"Train Accuracy score: {}\".format(train_acc))\n",
        "print(\"Test Accuracy score: {}\".format(test_acc))\n",
        "print(metrics.classification_report(y_label, svc_pred))"
      ],
      "metadata": {
        "colab": {
          "base_uri": "https://localhost:8080/"
        },
        "id": "Zec2Kmzlpr2c",
        "outputId": "ef74d835-5b12-420a-eff4-f991d067f5b1"
      },
      "execution_count": 46,
      "outputs": [
        {
          "output_type": "stream",
          "name": "stdout",
          "text": [
            "Train Accuracy score: 0.9973666666666666\n",
            "Test Accuracy score: 0.9202\n",
            "              precision    recall  f1-score   support\n",
            "\n",
            "           0       0.88      0.86      0.87      1000\n",
            "           1       0.99      0.99      0.99      1000\n",
            "           2       0.90      0.87      0.88      1000\n",
            "           3       0.91      0.93      0.92      1000\n",
            "           4       0.86      0.90      0.88      1000\n",
            "           5       0.98      0.96      0.97      1000\n",
            "           6       0.78      0.77      0.77      1000\n",
            "           7       0.95      0.97      0.96      1000\n",
            "           8       0.98      0.98      0.98      1000\n",
            "           9       0.97      0.97      0.97      1000\n",
            "\n",
            "    accuracy                           0.92     10000\n",
            "   macro avg       0.92      0.92      0.92     10000\n",
            "weighted avg       0.92      0.92      0.92     10000\n",
            "\n"
          ]
        }
      ]
    },
    {
      "cell_type": "code",
      "source": [
        "map_train = calculate_mAP(svc_train,X_label)\n",
        "map_test = calculate_mAP(svc_pred,y_label)"
      ],
      "metadata": {
        "id": "82Y8fVX7pugF"
      },
      "execution_count": 47,
      "outputs": []
    },
    {
      "cell_type": "code",
      "source": [
        "print(\"Train Map score: {}\".format(map_train))\n",
        "print(\"Test Map score: {}\".format(map_test))"
      ],
      "metadata": {
        "colab": {
          "base_uri": "https://localhost:8080/"
        },
        "id": "9EgZDJ1YpzEJ",
        "outputId": "e09c4e5c-4d6c-4fad-ab69-40e4bec2e928"
      },
      "execution_count": 48,
      "outputs": [
        {
          "output_type": "stream",
          "name": "stdout",
          "text": [
            "Train Map score: 0.9945491441671198\n",
            "Test Map score: 0.8488310895952289\n"
          ]
        }
      ]
    },
    {
      "cell_type": "code",
      "source": [],
      "metadata": {
        "id": "5bGUyp3Zra_L"
      },
      "execution_count": null,
      "outputs": []
    }
  ],
  "metadata": {
    "kernelspec": {
      "display_name": "ml",
      "language": "python",
      "name": "python3"
    },
    "language_info": {
      "codemirror_mode": {
        "name": "ipython",
        "version": 3
      },
      "file_extension": ".py",
      "mimetype": "text/x-python",
      "name": "python",
      "nbconvert_exporter": "python",
      "pygments_lexer": "ipython3",
      "version": "3.9.13"
    },
    "colab": {
      "provenance": []
    }
  },
  "nbformat": 4,
  "nbformat_minor": 0
}
